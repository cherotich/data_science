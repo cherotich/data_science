{
  "nbformat": 4,
  "nbformat_minor": 0,
  "metadata": {
    "colab": {
      "name": "Copy of Assignment_Exploratory_Analysis.ipynb",
      "provenance": [],
      "collapsed_sections": [
        "p5-vSSK2YRvv",
        "AKFUFX9oYYlz",
        "K7XZ0lfDZSfE",
        "vjKU2wFjYseF",
        "mcBYkd2dZeRm",
        "amveijHvZqGL",
        "InG0BnDgYxUo",
        "JFmLS0JcZfyU",
        "4S6nBEpDZq6E",
        "qP3PtIAAZsBG",
        "YC9AVuitZFD8"
      ],
      "toc_visible": true,
      "include_colab_link": true
    },
    "kernelspec": {
      "name": "python3",
      "display_name": "Python 3"
    }
  },
  "cells": [
    {
      "cell_type": "markdown",
      "metadata": {
        "id": "view-in-github",
        "colab_type": "text"
      },
      "source": [
        "<a href=\"https://colab.research.google.com/github/cherotich/data_science/blob/Exploratory_Analysis/Copy_of_Assignment_Exploratory_Analysis.ipynb\" target=\"_parent\"><img src=\"https://colab.research.google.com/assets/colab-badge.svg\" alt=\"Open In Colab\"/></a>"
      ]
    },
    {
      "cell_type": "markdown",
      "metadata": {
        "id": "AEqsCbeuYNMH"
      },
      "source": [
        "<font color=\"blue\">To use this notebook on Colaboratory, you will need to make a copy of it. Go to File > Save a Copy in Drive. You can then use the new copy that will appear in the new tab.</font>\n"
      ]
    },
    {
      "cell_type": "markdown",
      "metadata": {
        "id": "AzLPOliHYP0V"
      },
      "source": [
        "# Assignment Notebook: Exploratory Analysis with Python"
      ]
    },
    {
      "cell_type": "markdown",
      "metadata": {
        "id": "p5-vSSK2YRvv"
      },
      "source": [
        "## Pre-requisites"
      ]
    },
    {
      "cell_type": "code",
      "metadata": {
        "id": "7KgwSnDfYDoq"
      },
      "source": [
        "# Pre-requisite 1\n",
        "# ---\n",
        "# Importing pandas library for data manipulation\n",
        "# ---\n",
        "# OUR CODE GOES BELOW\n",
        "# \n",
        "import pandas as pd"
      ],
      "execution_count": null,
      "outputs": []
    },
    {
      "cell_type": "code",
      "metadata": {
        "id": "qUUHs9KPYUh_"
      },
      "source": [
        "# Pre-requisite 2\n",
        "# ---\n",
        "# Importing numpy library for scientific computations\n",
        "# ---\n",
        "# OUR CODE GOES BELOW\n",
        "# \n",
        "import numpy as np"
      ],
      "execution_count": null,
      "outputs": []
    },
    {
      "cell_type": "markdown",
      "metadata": {
        "id": "AKFUFX9oYYlz"
      },
      "source": [
        "## 1. Data Exploration"
      ]
    },
    {
      "cell_type": "markdown",
      "metadata": {
        "id": "8qPMH6tKZQCL"
      },
      "source": [
        "### Examples"
      ]
    },
    {
      "cell_type": "code",
      "metadata": {
        "id": "mO6NfKbVYrCd",
        "colab": {
          "base_uri": "https://localhost:8080/"
        },
        "outputId": "25160cff-7000-45b0-ee2c-22af1c9f81e8"
      },
      "source": [
        "# Viewing top records of the dataset\n",
        "# ---\n",
        "# You have been given the following dataset on Ebola cases.\n",
        "# Let's preview the first 10 rows.\n",
        "# ---\n",
        "# Dataset url = https://bit.ly/2T60DKG\n",
        "# \n",
        "ebola_df = pd.read_csv('https://bit.ly/2T60DKG')\n",
        "ebola_df.head(10)"
      ],
      "execution_count": null,
      "outputs": [
        {
          "output_type": "execute_result",
          "data": {
            "text/html": [
              "<div>\n",
              "<style scoped>\n",
              "    .dataframe tbody tr th:only-of-type {\n",
              "        vertical-align: middle;\n",
              "    }\n",
              "\n",
              "    .dataframe tbody tr th {\n",
              "        vertical-align: top;\n",
              "    }\n",
              "\n",
              "    .dataframe thead th {\n",
              "        text-align: right;\n",
              "    }\n",
              "</style>\n",
              "<table border=\"1\" class=\"dataframe\">\n",
              "  <thead>\n",
              "    <tr style=\"text-align: right;\">\n",
              "      <th></th>\n",
              "      <th>Country</th>\n",
              "      <th>Month</th>\n",
              "      <th>Year</th>\n",
              "      <th>Lat</th>\n",
              "      <th>Lon</th>\n",
              "      <th>Value</th>\n",
              "    </tr>\n",
              "  </thead>\n",
              "  <tbody>\n",
              "    <tr>\n",
              "      <th>0</th>\n",
              "      <td>Guinea</td>\n",
              "      <td>3</td>\n",
              "      <td>14</td>\n",
              "      <td>9.95</td>\n",
              "      <td>-9.7</td>\n",
              "      <td>122.0</td>\n",
              "    </tr>\n",
              "    <tr>\n",
              "      <th>1</th>\n",
              "      <td>Guinea</td>\n",
              "      <td>4</td>\n",
              "      <td>14</td>\n",
              "      <td>9.95</td>\n",
              "      <td>-9.7</td>\n",
              "      <td>224.0</td>\n",
              "    </tr>\n",
              "    <tr>\n",
              "      <th>2</th>\n",
              "      <td>Guinea</td>\n",
              "      <td>5</td>\n",
              "      <td>14</td>\n",
              "      <td>9.95</td>\n",
              "      <td>-9.7</td>\n",
              "      <td>291.0</td>\n",
              "    </tr>\n",
              "    <tr>\n",
              "      <th>3</th>\n",
              "      <td>Guinea</td>\n",
              "      <td>6</td>\n",
              "      <td>14</td>\n",
              "      <td>9.95</td>\n",
              "      <td>-9.7</td>\n",
              "      <td>413.0</td>\n",
              "    </tr>\n",
              "    <tr>\n",
              "      <th>4</th>\n",
              "      <td>Guinea</td>\n",
              "      <td>7</td>\n",
              "      <td>14</td>\n",
              "      <td>9.95</td>\n",
              "      <td>-9.7</td>\n",
              "      <td>460.0</td>\n",
              "    </tr>\n",
              "    <tr>\n",
              "      <th>5</th>\n",
              "      <td>Guinea</td>\n",
              "      <td>8</td>\n",
              "      <td>14</td>\n",
              "      <td>9.95</td>\n",
              "      <td>-9.7</td>\n",
              "      <td>771.0</td>\n",
              "    </tr>\n",
              "    <tr>\n",
              "      <th>6</th>\n",
              "      <td>Guinea</td>\n",
              "      <td>9</td>\n",
              "      <td>14</td>\n",
              "      <td>9.95</td>\n",
              "      <td>-9.7</td>\n",
              "      <td>1022.0</td>\n",
              "    </tr>\n",
              "    <tr>\n",
              "      <th>7</th>\n",
              "      <td>Guinea</td>\n",
              "      <td>10</td>\n",
              "      <td>14</td>\n",
              "      <td>9.95</td>\n",
              "      <td>-9.7</td>\n",
              "      <td>NaN</td>\n",
              "    </tr>\n",
              "    <tr>\n",
              "      <th>8</th>\n",
              "      <td>Guinea</td>\n",
              "      <td>11</td>\n",
              "      <td>14</td>\n",
              "      <td>9.95</td>\n",
              "      <td>-9.7</td>\n",
              "      <td>NaN</td>\n",
              "    </tr>\n",
              "    <tr>\n",
              "      <th>9</th>\n",
              "      <td>Guinea</td>\n",
              "      <td>12</td>\n",
              "      <td>14</td>\n",
              "      <td>9.95</td>\n",
              "      <td>-9.7</td>\n",
              "      <td>NaN</td>\n",
              "    </tr>\n",
              "  </tbody>\n",
              "</table>\n",
              "</div>"
            ],
            "text/plain": [
              "  Country  Month  Year   Lat  Lon   Value\n",
              "0  Guinea      3    14  9.95 -9.7   122.0\n",
              "1  Guinea      4    14  9.95 -9.7   224.0\n",
              "2  Guinea      5    14  9.95 -9.7   291.0\n",
              "3  Guinea      6    14  9.95 -9.7   413.0\n",
              "4  Guinea      7    14  9.95 -9.7   460.0\n",
              "5  Guinea      8    14  9.95 -9.7   771.0\n",
              "6  Guinea      9    14  9.95 -9.7  1022.0\n",
              "7  Guinea     10    14  9.95 -9.7     NaN\n",
              "8  Guinea     11    14  9.95 -9.7     NaN\n",
              "9  Guinea     12    14  9.95 -9.7     NaN"
            ]
          },
          "metadata": {
            "tags": []
          },
          "execution_count": 3
        }
      ]
    },
    {
      "cell_type": "code",
      "metadata": {
        "id": "_-q9fhfTZRhK",
        "colab": {
          "base_uri": "https://localhost:8080/"
        },
        "outputId": "25792160-2530-41ce-cdbc-12ed8df2e998"
      },
      "source": [
        "# Viewing last records of the dataset\n",
        "# ---\n",
        "# Preview the last 10 records of the ebola dataset\n",
        "# ---\n",
        "# \n",
        "last_ebola_df = ebola_df.tail(10)\n",
        "last_ebola_df"
      ],
      "execution_count": null,
      "outputs": [
        {
          "output_type": "execute_result",
          "data": {
            "text/html": [
              "<div>\n",
              "<style scoped>\n",
              "    .dataframe tbody tr th:only-of-type {\n",
              "        vertical-align: middle;\n",
              "    }\n",
              "\n",
              "    .dataframe tbody tr th {\n",
              "        vertical-align: top;\n",
              "    }\n",
              "\n",
              "    .dataframe thead th {\n",
              "        text-align: right;\n",
              "    }\n",
              "</style>\n",
              "<table border=\"1\" class=\"dataframe\">\n",
              "  <thead>\n",
              "    <tr style=\"text-align: right;\">\n",
              "      <th></th>\n",
              "      <th>Country</th>\n",
              "      <th>Month</th>\n",
              "      <th>Year</th>\n",
              "      <th>Lat</th>\n",
              "      <th>Lon</th>\n",
              "      <th>Value</th>\n",
              "    </tr>\n",
              "  </thead>\n",
              "  <tbody>\n",
              "    <tr>\n",
              "      <th>21</th>\n",
              "      <td>Senegal</td>\n",
              "      <td>8</td>\n",
              "      <td>14</td>\n",
              "      <td>14.50</td>\n",
              "      <td>-14.45</td>\n",
              "      <td>1.0</td>\n",
              "    </tr>\n",
              "    <tr>\n",
              "      <th>22</th>\n",
              "      <td>Senegal</td>\n",
              "      <td>9</td>\n",
              "      <td>14</td>\n",
              "      <td>14.50</td>\n",
              "      <td>-14.45</td>\n",
              "      <td>3.0</td>\n",
              "    </tr>\n",
              "    <tr>\n",
              "      <th>23</th>\n",
              "      <td>Sierra Leone</td>\n",
              "      <td>5</td>\n",
              "      <td>14</td>\n",
              "      <td>8.46</td>\n",
              "      <td>-11.78</td>\n",
              "      <td>50.0</td>\n",
              "    </tr>\n",
              "    <tr>\n",
              "      <th>24</th>\n",
              "      <td>Sierra Leone</td>\n",
              "      <td>6</td>\n",
              "      <td>14</td>\n",
              "      <td>8.46</td>\n",
              "      <td>-11.78</td>\n",
              "      <td>239.0</td>\n",
              "    </tr>\n",
              "    <tr>\n",
              "      <th>25</th>\n",
              "      <td>Sierra Leone</td>\n",
              "      <td>7</td>\n",
              "      <td>14</td>\n",
              "      <td>8.46</td>\n",
              "      <td>-11.78</td>\n",
              "      <td>533.0</td>\n",
              "    </tr>\n",
              "    <tr>\n",
              "      <th>26</th>\n",
              "      <td>Sierra Leone</td>\n",
              "      <td>8</td>\n",
              "      <td>14</td>\n",
              "      <td>8.46</td>\n",
              "      <td>-11.78</td>\n",
              "      <td>1216.0</td>\n",
              "    </tr>\n",
              "    <tr>\n",
              "      <th>27</th>\n",
              "      <td>Sierra Leone</td>\n",
              "      <td>9</td>\n",
              "      <td>14</td>\n",
              "      <td>8.46</td>\n",
              "      <td>-11.78</td>\n",
              "      <td>1940.0</td>\n",
              "    </tr>\n",
              "    <tr>\n",
              "      <th>28</th>\n",
              "      <td>Sierra Leone</td>\n",
              "      <td>10</td>\n",
              "      <td>14</td>\n",
              "      <td>8.46</td>\n",
              "      <td>-11.78</td>\n",
              "      <td>NaN</td>\n",
              "    </tr>\n",
              "    <tr>\n",
              "      <th>29</th>\n",
              "      <td>Sierra Leone</td>\n",
              "      <td>11</td>\n",
              "      <td>14</td>\n",
              "      <td>8.46</td>\n",
              "      <td>-11.78</td>\n",
              "      <td>NaN</td>\n",
              "    </tr>\n",
              "    <tr>\n",
              "      <th>30</th>\n",
              "      <td>Sierra Leone</td>\n",
              "      <td>12</td>\n",
              "      <td>14</td>\n",
              "      <td>8.46</td>\n",
              "      <td>-11.78</td>\n",
              "      <td>NaN</td>\n",
              "    </tr>\n",
              "  </tbody>\n",
              "</table>\n",
              "</div>"
            ],
            "text/plain": [
              "         Country  Month  Year    Lat    Lon   Value\n",
              "21       Senegal      8    14  14.50 -14.45     1.0\n",
              "22       Senegal      9    14  14.50 -14.45     3.0\n",
              "23  Sierra Leone      5    14   8.46 -11.78    50.0\n",
              "24  Sierra Leone      6    14   8.46 -11.78   239.0\n",
              "25  Sierra Leone      7    14   8.46 -11.78   533.0\n",
              "26  Sierra Leone      8    14   8.46 -11.78  1216.0\n",
              "27  Sierra Leone      9    14   8.46 -11.78  1940.0\n",
              "28  Sierra Leone     10    14   8.46 -11.78     NaN\n",
              "29  Sierra Leone     11    14   8.46 -11.78     NaN\n",
              "30  Sierra Leone     12    14   8.46 -11.78     NaN"
            ]
          },
          "metadata": {
            "tags": []
          },
          "execution_count": 4
        }
      ]
    },
    {
      "cell_type": "code",
      "metadata": {
        "id": "sJVRps4pZRXm",
        "colab": {
          "base_uri": "https://localhost:8080/"
        },
        "outputId": "865495cd-e566-41ea-d92f-ba50ad61aea4"
      },
      "source": [
        "# Taking a sample\n",
        "# ---\n",
        "# Take a sample of the 5 records from the ebola dataset\n",
        "# ---\n",
        "# \n",
        "sample_ebola_df = ebola_df.sample(5)\n",
        "sample_ebola_df"
      ],
      "execution_count": null,
      "outputs": [
        {
          "output_type": "execute_result",
          "data": {
            "text/html": [
              "<div>\n",
              "<style scoped>\n",
              "    .dataframe tbody tr th:only-of-type {\n",
              "        vertical-align: middle;\n",
              "    }\n",
              "\n",
              "    .dataframe tbody tr th {\n",
              "        vertical-align: top;\n",
              "    }\n",
              "\n",
              "    .dataframe thead th {\n",
              "        text-align: right;\n",
              "    }\n",
              "</style>\n",
              "<table border=\"1\" class=\"dataframe\">\n",
              "  <thead>\n",
              "    <tr style=\"text-align: right;\">\n",
              "      <th></th>\n",
              "      <th>Country</th>\n",
              "      <th>Month</th>\n",
              "      <th>Year</th>\n",
              "      <th>Lat</th>\n",
              "      <th>Lon</th>\n",
              "      <th>Value</th>\n",
              "    </tr>\n",
              "  </thead>\n",
              "  <tbody>\n",
              "    <tr>\n",
              "      <th>1</th>\n",
              "      <td>Guinea</td>\n",
              "      <td>4</td>\n",
              "      <td>14</td>\n",
              "      <td>9.95</td>\n",
              "      <td>-9.70</td>\n",
              "      <td>224.0</td>\n",
              "    </tr>\n",
              "    <tr>\n",
              "      <th>10</th>\n",
              "      <td>Liberia</td>\n",
              "      <td>4</td>\n",
              "      <td>14</td>\n",
              "      <td>6.43</td>\n",
              "      <td>-9.43</td>\n",
              "      <td>35.0</td>\n",
              "    </tr>\n",
              "    <tr>\n",
              "      <th>24</th>\n",
              "      <td>Sierra Leone</td>\n",
              "      <td>6</td>\n",
              "      <td>14</td>\n",
              "      <td>8.46</td>\n",
              "      <td>-11.78</td>\n",
              "      <td>239.0</td>\n",
              "    </tr>\n",
              "    <tr>\n",
              "      <th>15</th>\n",
              "      <td>Liberia</td>\n",
              "      <td>9</td>\n",
              "      <td>14</td>\n",
              "      <td>6.43</td>\n",
              "      <td>-9.43</td>\n",
              "      <td>3362.0</td>\n",
              "    </tr>\n",
              "    <tr>\n",
              "      <th>9</th>\n",
              "      <td>Guinea</td>\n",
              "      <td>12</td>\n",
              "      <td>14</td>\n",
              "      <td>9.95</td>\n",
              "      <td>-9.70</td>\n",
              "      <td>NaN</td>\n",
              "    </tr>\n",
              "  </tbody>\n",
              "</table>\n",
              "</div>"
            ],
            "text/plain": [
              "         Country  Month  Year   Lat    Lon   Value\n",
              "1         Guinea      4    14  9.95  -9.70   224.0\n",
              "10       Liberia      4    14  6.43  -9.43    35.0\n",
              "24  Sierra Leone      6    14  8.46 -11.78   239.0\n",
              "15       Liberia      9    14  6.43  -9.43  3362.0\n",
              "9         Guinea     12    14  9.95  -9.70     NaN"
            ]
          },
          "metadata": {
            "tags": []
          },
          "execution_count": 5
        }
      ]
    },
    {
      "cell_type": "markdown",
      "metadata": {
        "id": "K7XZ0lfDZSfE"
      },
      "source": [
        "### <font color=\"green\">Challenges</font>"
      ]
    },
    {
      "cell_type": "code",
      "metadata": {
        "id": "DnYZqcjdZZgg",
        "colab": {
          "base_uri": "https://localhost:8080/"
        },
        "outputId": "d43cdb33-761f-4c67-ac08-b73619522998"
      },
      "source": [
        "# Challenge 1\n",
        "# ---\n",
        "# View the first 20 records of the given banknotes dataset \n",
        "# ---\n",
        "# Dataset url = https://bit.ly/2yT9oAU\n",
        "# ---\n",
        "# OUR CODE GOES BELOW\n",
        "# \n",
        "banknotes_df = pd.read_csv(\"https://bit.ly/2yT9oAU\")\n",
        "banknotes_df.head(20)"
      ],
      "execution_count": null,
      "outputs": [
        {
          "output_type": "execute_result",
          "data": {
            "text/html": [
              "<div>\n",
              "<style scoped>\n",
              "    .dataframe tbody tr th:only-of-type {\n",
              "        vertical-align: middle;\n",
              "    }\n",
              "\n",
              "    .dataframe tbody tr th {\n",
              "        vertical-align: top;\n",
              "    }\n",
              "\n",
              "    .dataframe thead th {\n",
              "        text-align: right;\n",
              "    }\n",
              "</style>\n",
              "<table border=\"1\" class=\"dataframe\">\n",
              "  <thead>\n",
              "    <tr style=\"text-align: right;\">\n",
              "      <th></th>\n",
              "      <th>conterfeit</th>\n",
              "      <th>Length</th>\n",
              "      <th>Left</th>\n",
              "      <th>Right</th>\n",
              "      <th>Bottom</th>\n",
              "      <th>Top</th>\n",
              "      <th>Diagonal</th>\n",
              "    </tr>\n",
              "  </thead>\n",
              "  <tbody>\n",
              "    <tr>\n",
              "      <th>0</th>\n",
              "      <td>0</td>\n",
              "      <td>214.8</td>\n",
              "      <td>131.0</td>\n",
              "      <td>131.1</td>\n",
              "      <td>9.0</td>\n",
              "      <td>9.7</td>\n",
              "      <td>141.0</td>\n",
              "    </tr>\n",
              "    <tr>\n",
              "      <th>1</th>\n",
              "      <td>0</td>\n",
              "      <td>214.6</td>\n",
              "      <td>129.7</td>\n",
              "      <td>129.7</td>\n",
              "      <td>8.1</td>\n",
              "      <td>9.5</td>\n",
              "      <td>141.7</td>\n",
              "    </tr>\n",
              "    <tr>\n",
              "      <th>2</th>\n",
              "      <td>0</td>\n",
              "      <td>214.8</td>\n",
              "      <td>129.7</td>\n",
              "      <td>129.7</td>\n",
              "      <td>8.7</td>\n",
              "      <td>9.6</td>\n",
              "      <td>142.2</td>\n",
              "    </tr>\n",
              "    <tr>\n",
              "      <th>3</th>\n",
              "      <td>0</td>\n",
              "      <td>214.8</td>\n",
              "      <td>129.7</td>\n",
              "      <td>129.6</td>\n",
              "      <td>7.5</td>\n",
              "      <td>10.4</td>\n",
              "      <td>142.0</td>\n",
              "    </tr>\n",
              "    <tr>\n",
              "      <th>4</th>\n",
              "      <td>0</td>\n",
              "      <td>215.0</td>\n",
              "      <td>129.6</td>\n",
              "      <td>129.7</td>\n",
              "      <td>10.4</td>\n",
              "      <td>7.7</td>\n",
              "      <td>141.8</td>\n",
              "    </tr>\n",
              "    <tr>\n",
              "      <th>5</th>\n",
              "      <td>0</td>\n",
              "      <td>215.7</td>\n",
              "      <td>130.8</td>\n",
              "      <td>130.5</td>\n",
              "      <td>9.0</td>\n",
              "      <td>10.1</td>\n",
              "      <td>141.4</td>\n",
              "    </tr>\n",
              "    <tr>\n",
              "      <th>6</th>\n",
              "      <td>0</td>\n",
              "      <td>215.5</td>\n",
              "      <td>129.5</td>\n",
              "      <td>129.7</td>\n",
              "      <td>7.9</td>\n",
              "      <td>9.6</td>\n",
              "      <td>141.6</td>\n",
              "    </tr>\n",
              "    <tr>\n",
              "      <th>7</th>\n",
              "      <td>0</td>\n",
              "      <td>214.5</td>\n",
              "      <td>129.6</td>\n",
              "      <td>129.2</td>\n",
              "      <td>7.2</td>\n",
              "      <td>10.7</td>\n",
              "      <td>141.7</td>\n",
              "    </tr>\n",
              "    <tr>\n",
              "      <th>8</th>\n",
              "      <td>0</td>\n",
              "      <td>214.9</td>\n",
              "      <td>129.4</td>\n",
              "      <td>129.7</td>\n",
              "      <td>8.2</td>\n",
              "      <td>11.0</td>\n",
              "      <td>141.9</td>\n",
              "    </tr>\n",
              "    <tr>\n",
              "      <th>9</th>\n",
              "      <td>0</td>\n",
              "      <td>215.2</td>\n",
              "      <td>130.4</td>\n",
              "      <td>130.3</td>\n",
              "      <td>9.2</td>\n",
              "      <td>10.0</td>\n",
              "      <td>140.7</td>\n",
              "    </tr>\n",
              "    <tr>\n",
              "      <th>10</th>\n",
              "      <td>0</td>\n",
              "      <td>215.3</td>\n",
              "      <td>130.4</td>\n",
              "      <td>130.3</td>\n",
              "      <td>7.9</td>\n",
              "      <td>11.7</td>\n",
              "      <td>141.8</td>\n",
              "    </tr>\n",
              "    <tr>\n",
              "      <th>11</th>\n",
              "      <td>0</td>\n",
              "      <td>215.1</td>\n",
              "      <td>129.5</td>\n",
              "      <td>129.6</td>\n",
              "      <td>7.7</td>\n",
              "      <td>10.5</td>\n",
              "      <td>142.2</td>\n",
              "    </tr>\n",
              "    <tr>\n",
              "      <th>12</th>\n",
              "      <td>0</td>\n",
              "      <td>215.2</td>\n",
              "      <td>130.8</td>\n",
              "      <td>129.6</td>\n",
              "      <td>7.9</td>\n",
              "      <td>10.8</td>\n",
              "      <td>141.4</td>\n",
              "    </tr>\n",
              "    <tr>\n",
              "      <th>13</th>\n",
              "      <td>0</td>\n",
              "      <td>214.7</td>\n",
              "      <td>129.7</td>\n",
              "      <td>129.7</td>\n",
              "      <td>7.7</td>\n",
              "      <td>10.9</td>\n",
              "      <td>141.7</td>\n",
              "    </tr>\n",
              "    <tr>\n",
              "      <th>14</th>\n",
              "      <td>0</td>\n",
              "      <td>215.1</td>\n",
              "      <td>129.9</td>\n",
              "      <td>129.7</td>\n",
              "      <td>7.7</td>\n",
              "      <td>10.8</td>\n",
              "      <td>141.8</td>\n",
              "    </tr>\n",
              "    <tr>\n",
              "      <th>15</th>\n",
              "      <td>0</td>\n",
              "      <td>214.5</td>\n",
              "      <td>129.8</td>\n",
              "      <td>129.8</td>\n",
              "      <td>9.3</td>\n",
              "      <td>8.5</td>\n",
              "      <td>141.6</td>\n",
              "    </tr>\n",
              "    <tr>\n",
              "      <th>16</th>\n",
              "      <td>0</td>\n",
              "      <td>214.6</td>\n",
              "      <td>129.9</td>\n",
              "      <td>130.1</td>\n",
              "      <td>8.2</td>\n",
              "      <td>9.8</td>\n",
              "      <td>141.7</td>\n",
              "    </tr>\n",
              "    <tr>\n",
              "      <th>17</th>\n",
              "      <td>0</td>\n",
              "      <td>215.0</td>\n",
              "      <td>129.9</td>\n",
              "      <td>129.7</td>\n",
              "      <td>9.0</td>\n",
              "      <td>9.0</td>\n",
              "      <td>141.9</td>\n",
              "    </tr>\n",
              "    <tr>\n",
              "      <th>18</th>\n",
              "      <td>0</td>\n",
              "      <td>215.2</td>\n",
              "      <td>129.6</td>\n",
              "      <td>129.6</td>\n",
              "      <td>7.4</td>\n",
              "      <td>11.5</td>\n",
              "      <td>141.5</td>\n",
              "    </tr>\n",
              "    <tr>\n",
              "      <th>19</th>\n",
              "      <td>0</td>\n",
              "      <td>214.7</td>\n",
              "      <td>130.2</td>\n",
              "      <td>129.9</td>\n",
              "      <td>8.6</td>\n",
              "      <td>10.0</td>\n",
              "      <td>141.9</td>\n",
              "    </tr>\n",
              "  </tbody>\n",
              "</table>\n",
              "</div>"
            ],
            "text/plain": [
              "    conterfeit  Length   Left  Right  Bottom   Top  Diagonal\n",
              "0            0   214.8  131.0  131.1     9.0   9.7     141.0\n",
              "1            0   214.6  129.7  129.7     8.1   9.5     141.7\n",
              "2            0   214.8  129.7  129.7     8.7   9.6     142.2\n",
              "3            0   214.8  129.7  129.6     7.5  10.4     142.0\n",
              "4            0   215.0  129.6  129.7    10.4   7.7     141.8\n",
              "5            0   215.7  130.8  130.5     9.0  10.1     141.4\n",
              "6            0   215.5  129.5  129.7     7.9   9.6     141.6\n",
              "7            0   214.5  129.6  129.2     7.2  10.7     141.7\n",
              "8            0   214.9  129.4  129.7     8.2  11.0     141.9\n",
              "9            0   215.2  130.4  130.3     9.2  10.0     140.7\n",
              "10           0   215.3  130.4  130.3     7.9  11.7     141.8\n",
              "11           0   215.1  129.5  129.6     7.7  10.5     142.2\n",
              "12           0   215.2  130.8  129.6     7.9  10.8     141.4\n",
              "13           0   214.7  129.7  129.7     7.7  10.9     141.7\n",
              "14           0   215.1  129.9  129.7     7.7  10.8     141.8\n",
              "15           0   214.5  129.8  129.8     9.3   8.5     141.6\n",
              "16           0   214.6  129.9  130.1     8.2   9.8     141.7\n",
              "17           0   215.0  129.9  129.7     9.0   9.0     141.9\n",
              "18           0   215.2  129.6  129.6     7.4  11.5     141.5\n",
              "19           0   214.7  130.2  129.9     8.6  10.0     141.9"
            ]
          },
          "metadata": {
            "tags": []
          },
          "execution_count": 6
        }
      ]
    },
    {
      "cell_type": "code",
      "metadata": {
        "id": "nw1IjmUZZaA2",
        "colab": {
          "base_uri": "https://localhost:8080/"
        },
        "outputId": "980329c7-482e-4b40-9483-f37cd198fd55"
      },
      "source": [
        "# Challenge 2\n",
        "# ---\n",
        "# View the last 5 records of the above banknotes dataset \n",
        "# ---\n",
        "# OUR CODE GOES BELOW\n",
        "# \n",
        "banknotes_df.tail(5)"
      ],
      "execution_count": null,
      "outputs": [
        {
          "output_type": "execute_result",
          "data": {
            "text/html": [
              "<div>\n",
              "<style scoped>\n",
              "    .dataframe tbody tr th:only-of-type {\n",
              "        vertical-align: middle;\n",
              "    }\n",
              "\n",
              "    .dataframe tbody tr th {\n",
              "        vertical-align: top;\n",
              "    }\n",
              "\n",
              "    .dataframe thead th {\n",
              "        text-align: right;\n",
              "    }\n",
              "</style>\n",
              "<table border=\"1\" class=\"dataframe\">\n",
              "  <thead>\n",
              "    <tr style=\"text-align: right;\">\n",
              "      <th></th>\n",
              "      <th>conterfeit</th>\n",
              "      <th>Length</th>\n",
              "      <th>Left</th>\n",
              "      <th>Right</th>\n",
              "      <th>Bottom</th>\n",
              "      <th>Top</th>\n",
              "      <th>Diagonal</th>\n",
              "    </tr>\n",
              "  </thead>\n",
              "  <tbody>\n",
              "    <tr>\n",
              "      <th>195</th>\n",
              "      <td>1</td>\n",
              "      <td>215.0</td>\n",
              "      <td>130.4</td>\n",
              "      <td>130.3</td>\n",
              "      <td>9.9</td>\n",
              "      <td>12.1</td>\n",
              "      <td>139.6</td>\n",
              "    </tr>\n",
              "    <tr>\n",
              "      <th>196</th>\n",
              "      <td>1</td>\n",
              "      <td>215.1</td>\n",
              "      <td>130.3</td>\n",
              "      <td>129.9</td>\n",
              "      <td>10.3</td>\n",
              "      <td>11.5</td>\n",
              "      <td>139.7</td>\n",
              "    </tr>\n",
              "    <tr>\n",
              "      <th>197</th>\n",
              "      <td>1</td>\n",
              "      <td>214.8</td>\n",
              "      <td>130.3</td>\n",
              "      <td>130.4</td>\n",
              "      <td>10.6</td>\n",
              "      <td>11.1</td>\n",
              "      <td>140.0</td>\n",
              "    </tr>\n",
              "    <tr>\n",
              "      <th>198</th>\n",
              "      <td>1</td>\n",
              "      <td>214.7</td>\n",
              "      <td>130.7</td>\n",
              "      <td>130.8</td>\n",
              "      <td>11.2</td>\n",
              "      <td>11.2</td>\n",
              "      <td>139.4</td>\n",
              "    </tr>\n",
              "    <tr>\n",
              "      <th>199</th>\n",
              "      <td>1</td>\n",
              "      <td>214.3</td>\n",
              "      <td>129.9</td>\n",
              "      <td>129.9</td>\n",
              "      <td>10.2</td>\n",
              "      <td>11.5</td>\n",
              "      <td>139.6</td>\n",
              "    </tr>\n",
              "  </tbody>\n",
              "</table>\n",
              "</div>"
            ],
            "text/plain": [
              "     conterfeit  Length   Left  Right  Bottom   Top  Diagonal\n",
              "195           1   215.0  130.4  130.3     9.9  12.1     139.6\n",
              "196           1   215.1  130.3  129.9    10.3  11.5     139.7\n",
              "197           1   214.8  130.3  130.4    10.6  11.1     140.0\n",
              "198           1   214.7  130.7  130.8    11.2  11.2     139.4\n",
              "199           1   214.3  129.9  129.9    10.2  11.5     139.6"
            ]
          },
          "metadata": {
            "tags": []
          },
          "execution_count": 7
        }
      ]
    },
    {
      "cell_type": "code",
      "metadata": {
        "id": "aFgg61OxZZvT",
        "colab": {
          "base_uri": "https://localhost:8080/"
        },
        "outputId": "92e397ea-87c6-4cfa-d699-e9ea9c3309f7"
      },
      "source": [
        "# Challenge 3\n",
        "# ---\n",
        "# Get a sample of 50 records from the above banknotes dataset \n",
        "# ---\n",
        "# OUR CODE GOES BELOW\n",
        "# \n",
        "banknotes_df.sample(50)"
      ],
      "execution_count": null,
      "outputs": [
        {
          "output_type": "execute_result",
          "data": {
            "text/html": [
              "<div>\n",
              "<style scoped>\n",
              "    .dataframe tbody tr th:only-of-type {\n",
              "        vertical-align: middle;\n",
              "    }\n",
              "\n",
              "    .dataframe tbody tr th {\n",
              "        vertical-align: top;\n",
              "    }\n",
              "\n",
              "    .dataframe thead th {\n",
              "        text-align: right;\n",
              "    }\n",
              "</style>\n",
              "<table border=\"1\" class=\"dataframe\">\n",
              "  <thead>\n",
              "    <tr style=\"text-align: right;\">\n",
              "      <th></th>\n",
              "      <th>conterfeit</th>\n",
              "      <th>Length</th>\n",
              "      <th>Left</th>\n",
              "      <th>Right</th>\n",
              "      <th>Bottom</th>\n",
              "      <th>Top</th>\n",
              "      <th>Diagonal</th>\n",
              "    </tr>\n",
              "  </thead>\n",
              "  <tbody>\n",
              "    <tr>\n",
              "      <th>58</th>\n",
              "      <td>0</td>\n",
              "      <td>215.1</td>\n",
              "      <td>130.1</td>\n",
              "      <td>129.9</td>\n",
              "      <td>7.9</td>\n",
              "      <td>11.0</td>\n",
              "      <td>141.3</td>\n",
              "    </tr>\n",
              "    <tr>\n",
              "      <th>18</th>\n",
              "      <td>0</td>\n",
              "      <td>215.2</td>\n",
              "      <td>129.6</td>\n",
              "      <td>129.6</td>\n",
              "      <td>7.4</td>\n",
              "      <td>11.5</td>\n",
              "      <td>141.5</td>\n",
              "    </tr>\n",
              "    <tr>\n",
              "      <th>109</th>\n",
              "      <td>1</td>\n",
              "      <td>215.2</td>\n",
              "      <td>130.6</td>\n",
              "      <td>130.8</td>\n",
              "      <td>10.4</td>\n",
              "      <td>11.2</td>\n",
              "      <td>140.3</td>\n",
              "    </tr>\n",
              "    <tr>\n",
              "      <th>183</th>\n",
              "      <td>1</td>\n",
              "      <td>214.6</td>\n",
              "      <td>130.5</td>\n",
              "      <td>130.4</td>\n",
              "      <td>10.1</td>\n",
              "      <td>11.4</td>\n",
              "      <td>139.3</td>\n",
              "    </tr>\n",
              "    <tr>\n",
              "      <th>80</th>\n",
              "      <td>0</td>\n",
              "      <td>215.1</td>\n",
              "      <td>129.7</td>\n",
              "      <td>129.7</td>\n",
              "      <td>8.6</td>\n",
              "      <td>10.3</td>\n",
              "      <td>140.6</td>\n",
              "    </tr>\n",
              "    <tr>\n",
              "      <th>129</th>\n",
              "      <td>1</td>\n",
              "      <td>214.5</td>\n",
              "      <td>130.2</td>\n",
              "      <td>130.6</td>\n",
              "      <td>9.8</td>\n",
              "      <td>12.1</td>\n",
              "      <td>139.9</td>\n",
              "    </tr>\n",
              "    <tr>\n",
              "      <th>51</th>\n",
              "      <td>0</td>\n",
              "      <td>215.3</td>\n",
              "      <td>130.6</td>\n",
              "      <td>130.0</td>\n",
              "      <td>9.5</td>\n",
              "      <td>9.7</td>\n",
              "      <td>141.1</td>\n",
              "    </tr>\n",
              "    <tr>\n",
              "      <th>15</th>\n",
              "      <td>0</td>\n",
              "      <td>214.5</td>\n",
              "      <td>129.8</td>\n",
              "      <td>129.8</td>\n",
              "      <td>9.3</td>\n",
              "      <td>8.5</td>\n",
              "      <td>141.6</td>\n",
              "    </tr>\n",
              "    <tr>\n",
              "      <th>181</th>\n",
              "      <td>1</td>\n",
              "      <td>214.8</td>\n",
              "      <td>130.6</td>\n",
              "      <td>130.6</td>\n",
              "      <td>8.0</td>\n",
              "      <td>11.4</td>\n",
              "      <td>138.7</td>\n",
              "    </tr>\n",
              "    <tr>\n",
              "      <th>162</th>\n",
              "      <td>1</td>\n",
              "      <td>214.6</td>\n",
              "      <td>130.1</td>\n",
              "      <td>130.0</td>\n",
              "      <td>11.5</td>\n",
              "      <td>10.6</td>\n",
              "      <td>139.5</td>\n",
              "    </tr>\n",
              "    <tr>\n",
              "      <th>22</th>\n",
              "      <td>0</td>\n",
              "      <td>215.3</td>\n",
              "      <td>130.6</td>\n",
              "      <td>130.0</td>\n",
              "      <td>8.4</td>\n",
              "      <td>10.8</td>\n",
              "      <td>141.5</td>\n",
              "    </tr>\n",
              "    <tr>\n",
              "      <th>41</th>\n",
              "      <td>0</td>\n",
              "      <td>214.8</td>\n",
              "      <td>130.1</td>\n",
              "      <td>129.6</td>\n",
              "      <td>8.8</td>\n",
              "      <td>9.9</td>\n",
              "      <td>140.9</td>\n",
              "    </tr>\n",
              "    <tr>\n",
              "      <th>17</th>\n",
              "      <td>0</td>\n",
              "      <td>215.0</td>\n",
              "      <td>129.9</td>\n",
              "      <td>129.7</td>\n",
              "      <td>9.0</td>\n",
              "      <td>9.0</td>\n",
              "      <td>141.9</td>\n",
              "    </tr>\n",
              "    <tr>\n",
              "      <th>68</th>\n",
              "      <td>0</td>\n",
              "      <td>215.1</td>\n",
              "      <td>129.6</td>\n",
              "      <td>129.8</td>\n",
              "      <td>8.6</td>\n",
              "      <td>9.8</td>\n",
              "      <td>141.8</td>\n",
              "    </tr>\n",
              "    <tr>\n",
              "      <th>29</th>\n",
              "      <td>0</td>\n",
              "      <td>214.8</td>\n",
              "      <td>129.7</td>\n",
              "      <td>129.3</td>\n",
              "      <td>8.3</td>\n",
              "      <td>9.0</td>\n",
              "      <td>142.0</td>\n",
              "    </tr>\n",
              "    <tr>\n",
              "      <th>172</th>\n",
              "      <td>1</td>\n",
              "      <td>214.8</td>\n",
              "      <td>130.5</td>\n",
              "      <td>130.3</td>\n",
              "      <td>11.8</td>\n",
              "      <td>10.5</td>\n",
              "      <td>139.4</td>\n",
              "    </tr>\n",
              "    <tr>\n",
              "      <th>0</th>\n",
              "      <td>0</td>\n",
              "      <td>214.8</td>\n",
              "      <td>131.0</td>\n",
              "      <td>131.1</td>\n",
              "      <td>9.0</td>\n",
              "      <td>9.7</td>\n",
              "      <td>141.0</td>\n",
              "    </tr>\n",
              "    <tr>\n",
              "      <th>99</th>\n",
              "      <td>0</td>\n",
              "      <td>214.7</td>\n",
              "      <td>130.0</td>\n",
              "      <td>129.4</td>\n",
              "      <td>7.8</td>\n",
              "      <td>10.0</td>\n",
              "      <td>141.2</td>\n",
              "    </tr>\n",
              "    <tr>\n",
              "      <th>167</th>\n",
              "      <td>1</td>\n",
              "      <td>215.6</td>\n",
              "      <td>130.4</td>\n",
              "      <td>130.1</td>\n",
              "      <td>9.6</td>\n",
              "      <td>11.2</td>\n",
              "      <td>138.6</td>\n",
              "    </tr>\n",
              "    <tr>\n",
              "      <th>179</th>\n",
              "      <td>1</td>\n",
              "      <td>214.5</td>\n",
              "      <td>130.2</td>\n",
              "      <td>130.4</td>\n",
              "      <td>8.2</td>\n",
              "      <td>11.8</td>\n",
              "      <td>137.8</td>\n",
              "    </tr>\n",
              "    <tr>\n",
              "      <th>88</th>\n",
              "      <td>0</td>\n",
              "      <td>214.9</td>\n",
              "      <td>130.3</td>\n",
              "      <td>129.9</td>\n",
              "      <td>7.4</td>\n",
              "      <td>11.2</td>\n",
              "      <td>141.5</td>\n",
              "    </tr>\n",
              "    <tr>\n",
              "      <th>83</th>\n",
              "      <td>0</td>\n",
              "      <td>215.2</td>\n",
              "      <td>130.1</td>\n",
              "      <td>129.9</td>\n",
              "      <td>7.9</td>\n",
              "      <td>10.8</td>\n",
              "      <td>141.3</td>\n",
              "    </tr>\n",
              "    <tr>\n",
              "      <th>45</th>\n",
              "      <td>0</td>\n",
              "      <td>214.3</td>\n",
              "      <td>129.5</td>\n",
              "      <td>129.4</td>\n",
              "      <td>8.3</td>\n",
              "      <td>10.2</td>\n",
              "      <td>141.8</td>\n",
              "    </tr>\n",
              "    <tr>\n",
              "      <th>50</th>\n",
              "      <td>0</td>\n",
              "      <td>214.6</td>\n",
              "      <td>129.8</td>\n",
              "      <td>129.4</td>\n",
              "      <td>7.2</td>\n",
              "      <td>10.0</td>\n",
              "      <td>141.3</td>\n",
              "    </tr>\n",
              "    <tr>\n",
              "      <th>12</th>\n",
              "      <td>0</td>\n",
              "      <td>215.2</td>\n",
              "      <td>130.8</td>\n",
              "      <td>129.6</td>\n",
              "      <td>7.9</td>\n",
              "      <td>10.8</td>\n",
              "      <td>141.4</td>\n",
              "    </tr>\n",
              "    <tr>\n",
              "      <th>34</th>\n",
              "      <td>0</td>\n",
              "      <td>215.9</td>\n",
              "      <td>130.4</td>\n",
              "      <td>130.0</td>\n",
              "      <td>8.9</td>\n",
              "      <td>10.6</td>\n",
              "      <td>141.4</td>\n",
              "    </tr>\n",
              "    <tr>\n",
              "      <th>76</th>\n",
              "      <td>0</td>\n",
              "      <td>214.9</td>\n",
              "      <td>129.9</td>\n",
              "      <td>130.1</td>\n",
              "      <td>8.8</td>\n",
              "      <td>10.0</td>\n",
              "      <td>141.2</td>\n",
              "    </tr>\n",
              "    <tr>\n",
              "      <th>126</th>\n",
              "      <td>1</td>\n",
              "      <td>215.0</td>\n",
              "      <td>130.4</td>\n",
              "      <td>130.4</td>\n",
              "      <td>9.4</td>\n",
              "      <td>11.6</td>\n",
              "      <td>140.2</td>\n",
              "    </tr>\n",
              "    <tr>\n",
              "      <th>63</th>\n",
              "      <td>0</td>\n",
              "      <td>214.5</td>\n",
              "      <td>130.0</td>\n",
              "      <td>129.5</td>\n",
              "      <td>8.0</td>\n",
              "      <td>10.8</td>\n",
              "      <td>141.4</td>\n",
              "    </tr>\n",
              "    <tr>\n",
              "      <th>90</th>\n",
              "      <td>0</td>\n",
              "      <td>214.7</td>\n",
              "      <td>129.7</td>\n",
              "      <td>129.3</td>\n",
              "      <td>8.6</td>\n",
              "      <td>9.6</td>\n",
              "      <td>141.6</td>\n",
              "    </tr>\n",
              "    <tr>\n",
              "      <th>42</th>\n",
              "      <td>0</td>\n",
              "      <td>214.9</td>\n",
              "      <td>129.6</td>\n",
              "      <td>129.4</td>\n",
              "      <td>9.3</td>\n",
              "      <td>9.0</td>\n",
              "      <td>141.7</td>\n",
              "    </tr>\n",
              "    <tr>\n",
              "      <th>136</th>\n",
              "      <td>1</td>\n",
              "      <td>214.6</td>\n",
              "      <td>129.8</td>\n",
              "      <td>130.2</td>\n",
              "      <td>10.7</td>\n",
              "      <td>11.1</td>\n",
              "      <td>139.4</td>\n",
              "    </tr>\n",
              "    <tr>\n",
              "      <th>188</th>\n",
              "      <td>1</td>\n",
              "      <td>214.8</td>\n",
              "      <td>129.9</td>\n",
              "      <td>130.2</td>\n",
              "      <td>9.6</td>\n",
              "      <td>11.9</td>\n",
              "      <td>139.4</td>\n",
              "    </tr>\n",
              "    <tr>\n",
              "      <th>96</th>\n",
              "      <td>0</td>\n",
              "      <td>215.0</td>\n",
              "      <td>130.4</td>\n",
              "      <td>130.3</td>\n",
              "      <td>9.1</td>\n",
              "      <td>10.2</td>\n",
              "      <td>141.1</td>\n",
              "    </tr>\n",
              "    <tr>\n",
              "      <th>44</th>\n",
              "      <td>0</td>\n",
              "      <td>214.8</td>\n",
              "      <td>129.4</td>\n",
              "      <td>129.1</td>\n",
              "      <td>8.2</td>\n",
              "      <td>10.2</td>\n",
              "      <td>141.0</td>\n",
              "    </tr>\n",
              "    <tr>\n",
              "      <th>115</th>\n",
              "      <td>1</td>\n",
              "      <td>215.5</td>\n",
              "      <td>130.4</td>\n",
              "      <td>130.0</td>\n",
              "      <td>8.2</td>\n",
              "      <td>11.2</td>\n",
              "      <td>139.2</td>\n",
              "    </tr>\n",
              "    <tr>\n",
              "      <th>112</th>\n",
              "      <td>1</td>\n",
              "      <td>215.4</td>\n",
              "      <td>130.7</td>\n",
              "      <td>131.1</td>\n",
              "      <td>9.7</td>\n",
              "      <td>11.8</td>\n",
              "      <td>140.6</td>\n",
              "    </tr>\n",
              "    <tr>\n",
              "      <th>31</th>\n",
              "      <td>0</td>\n",
              "      <td>214.8</td>\n",
              "      <td>129.7</td>\n",
              "      <td>129.7</td>\n",
              "      <td>8.6</td>\n",
              "      <td>9.1</td>\n",
              "      <td>142.3</td>\n",
              "    </tr>\n",
              "    <tr>\n",
              "      <th>131</th>\n",
              "      <td>1</td>\n",
              "      <td>214.5</td>\n",
              "      <td>130.2</td>\n",
              "      <td>129.8</td>\n",
              "      <td>12.3</td>\n",
              "      <td>11.2</td>\n",
              "      <td>139.2</td>\n",
              "    </tr>\n",
              "    <tr>\n",
              "      <th>178</th>\n",
              "      <td>1</td>\n",
              "      <td>214.8</td>\n",
              "      <td>130.5</td>\n",
              "      <td>130.3</td>\n",
              "      <td>10.2</td>\n",
              "      <td>12.1</td>\n",
              "      <td>139.1</td>\n",
              "    </tr>\n",
              "    <tr>\n",
              "      <th>59</th>\n",
              "      <td>0</td>\n",
              "      <td>215.1</td>\n",
              "      <td>130.0</td>\n",
              "      <td>129.8</td>\n",
              "      <td>8.2</td>\n",
              "      <td>10.3</td>\n",
              "      <td>141.4</td>\n",
              "    </tr>\n",
              "    <tr>\n",
              "      <th>62</th>\n",
              "      <td>0</td>\n",
              "      <td>215.4</td>\n",
              "      <td>129.8</td>\n",
              "      <td>129.4</td>\n",
              "      <td>8.0</td>\n",
              "      <td>10.6</td>\n",
              "      <td>141.5</td>\n",
              "    </tr>\n",
              "    <tr>\n",
              "      <th>71</th>\n",
              "      <td>0</td>\n",
              "      <td>215.2</td>\n",
              "      <td>129.9</td>\n",
              "      <td>129.5</td>\n",
              "      <td>8.2</td>\n",
              "      <td>10.3</td>\n",
              "      <td>141.4</td>\n",
              "    </tr>\n",
              "    <tr>\n",
              "      <th>93</th>\n",
              "      <td>0</td>\n",
              "      <td>214.5</td>\n",
              "      <td>129.5</td>\n",
              "      <td>129.3</td>\n",
              "      <td>7.4</td>\n",
              "      <td>10.7</td>\n",
              "      <td>141.5</td>\n",
              "    </tr>\n",
              "    <tr>\n",
              "      <th>7</th>\n",
              "      <td>0</td>\n",
              "      <td>214.5</td>\n",
              "      <td>129.6</td>\n",
              "      <td>129.2</td>\n",
              "      <td>7.2</td>\n",
              "      <td>10.7</td>\n",
              "      <td>141.7</td>\n",
              "    </tr>\n",
              "    <tr>\n",
              "      <th>147</th>\n",
              "      <td>1</td>\n",
              "      <td>215.3</td>\n",
              "      <td>130.6</td>\n",
              "      <td>130.3</td>\n",
              "      <td>9.3</td>\n",
              "      <td>11.3</td>\n",
              "      <td>138.1</td>\n",
              "    </tr>\n",
              "    <tr>\n",
              "      <th>36</th>\n",
              "      <td>0</td>\n",
              "      <td>215.5</td>\n",
              "      <td>130.3</td>\n",
              "      <td>130.0</td>\n",
              "      <td>8.4</td>\n",
              "      <td>9.7</td>\n",
              "      <td>141.8</td>\n",
              "    </tr>\n",
              "    <tr>\n",
              "      <th>156</th>\n",
              "      <td>1</td>\n",
              "      <td>214.2</td>\n",
              "      <td>129.7</td>\n",
              "      <td>129.6</td>\n",
              "      <td>10.3</td>\n",
              "      <td>11.4</td>\n",
              "      <td>139.5</td>\n",
              "    </tr>\n",
              "    <tr>\n",
              "      <th>128</th>\n",
              "      <td>1</td>\n",
              "      <td>215.1</td>\n",
              "      <td>130.2</td>\n",
              "      <td>130.2</td>\n",
              "      <td>10.1</td>\n",
              "      <td>11.3</td>\n",
              "      <td>140.3</td>\n",
              "    </tr>\n",
              "    <tr>\n",
              "      <th>186</th>\n",
              "      <td>1</td>\n",
              "      <td>214.5</td>\n",
              "      <td>130.4</td>\n",
              "      <td>130.0</td>\n",
              "      <td>8.0</td>\n",
              "      <td>12.2</td>\n",
              "      <td>138.5</td>\n",
              "    </tr>\n",
              "  </tbody>\n",
              "</table>\n",
              "</div>"
            ],
            "text/plain": [
              "     conterfeit  Length   Left  Right  Bottom   Top  Diagonal\n",
              "58            0   215.1  130.1  129.9     7.9  11.0     141.3\n",
              "18            0   215.2  129.6  129.6     7.4  11.5     141.5\n",
              "109           1   215.2  130.6  130.8    10.4  11.2     140.3\n",
              "183           1   214.6  130.5  130.4    10.1  11.4     139.3\n",
              "80            0   215.1  129.7  129.7     8.6  10.3     140.6\n",
              "129           1   214.5  130.2  130.6     9.8  12.1     139.9\n",
              "51            0   215.3  130.6  130.0     9.5   9.7     141.1\n",
              "15            0   214.5  129.8  129.8     9.3   8.5     141.6\n",
              "181           1   214.8  130.6  130.6     8.0  11.4     138.7\n",
              "162           1   214.6  130.1  130.0    11.5  10.6     139.5\n",
              "22            0   215.3  130.6  130.0     8.4  10.8     141.5\n",
              "41            0   214.8  130.1  129.6     8.8   9.9     140.9\n",
              "17            0   215.0  129.9  129.7     9.0   9.0     141.9\n",
              "68            0   215.1  129.6  129.8     8.6   9.8     141.8\n",
              "29            0   214.8  129.7  129.3     8.3   9.0     142.0\n",
              "172           1   214.8  130.5  130.3    11.8  10.5     139.4\n",
              "0             0   214.8  131.0  131.1     9.0   9.7     141.0\n",
              "99            0   214.7  130.0  129.4     7.8  10.0     141.2\n",
              "167           1   215.6  130.4  130.1     9.6  11.2     138.6\n",
              "179           1   214.5  130.2  130.4     8.2  11.8     137.8\n",
              "88            0   214.9  130.3  129.9     7.4  11.2     141.5\n",
              "83            0   215.2  130.1  129.9     7.9  10.8     141.3\n",
              "45            0   214.3  129.5  129.4     8.3  10.2     141.8\n",
              "50            0   214.6  129.8  129.4     7.2  10.0     141.3\n",
              "12            0   215.2  130.8  129.6     7.9  10.8     141.4\n",
              "34            0   215.9  130.4  130.0     8.9  10.6     141.4\n",
              "76            0   214.9  129.9  130.1     8.8  10.0     141.2\n",
              "126           1   215.0  130.4  130.4     9.4  11.6     140.2\n",
              "63            0   214.5  130.0  129.5     8.0  10.8     141.4\n",
              "90            0   214.7  129.7  129.3     8.6   9.6     141.6\n",
              "42            0   214.9  129.6  129.4     9.3   9.0     141.7\n",
              "136           1   214.6  129.8  130.2    10.7  11.1     139.4\n",
              "188           1   214.8  129.9  130.2     9.6  11.9     139.4\n",
              "96            0   215.0  130.4  130.3     9.1  10.2     141.1\n",
              "44            0   214.8  129.4  129.1     8.2  10.2     141.0\n",
              "115           1   215.5  130.4  130.0     8.2  11.2     139.2\n",
              "112           1   215.4  130.7  131.1     9.7  11.8     140.6\n",
              "31            0   214.8  129.7  129.7     8.6   9.1     142.3\n",
              "131           1   214.5  130.2  129.8    12.3  11.2     139.2\n",
              "178           1   214.8  130.5  130.3    10.2  12.1     139.1\n",
              "59            0   215.1  130.0  129.8     8.2  10.3     141.4\n",
              "62            0   215.4  129.8  129.4     8.0  10.6     141.5\n",
              "71            0   215.2  129.9  129.5     8.2  10.3     141.4\n",
              "93            0   214.5  129.5  129.3     7.4  10.7     141.5\n",
              "7             0   214.5  129.6  129.2     7.2  10.7     141.7\n",
              "147           1   215.3  130.6  130.3     9.3  11.3     138.1\n",
              "36            0   215.5  130.3  130.0     8.4   9.7     141.8\n",
              "156           1   214.2  129.7  129.6    10.3  11.4     139.5\n",
              "128           1   215.1  130.2  130.2    10.1  11.3     140.3\n",
              "186           1   214.5  130.4  130.0     8.0  12.2     138.5"
            ]
          },
          "metadata": {
            "tags": []
          },
          "execution_count": 8
        }
      ]
    },
    {
      "cell_type": "markdown",
      "metadata": {
        "id": "vjKU2wFjYseF"
      },
      "source": [
        "## 2. Selecting Columns I"
      ]
    },
    {
      "cell_type": "markdown",
      "metadata": {
        "id": "mcBYkd2dZeRm"
      },
      "source": [
        "### Examples"
      ]
    },
    {
      "cell_type": "code",
      "metadata": {
        "id": "k-tJw2xQZeRo",
        "colab": {
          "base_uri": "https://localhost:8080/",
          "height": 204
        },
        "outputId": "70d87bc7-6c3c-4f0e-ffb0-d6ff3648c6c4"
      },
      "source": [
        "# Selecting a Column\n",
        "# ---\n",
        "# Select the first 5 values of the Value column from the previously used ebola dataset\n",
        "# ---\n",
        "# \n",
        "ebola_df_value = ebola_df[['Value']]\n",
        "ebola_df_value.head()"
      ],
      "execution_count": null,
      "outputs": [
        {
          "output_type": "execute_result",
          "data": {
            "text/html": [
              "<div>\n",
              "<style scoped>\n",
              "    .dataframe tbody tr th:only-of-type {\n",
              "        vertical-align: middle;\n",
              "    }\n",
              "\n",
              "    .dataframe tbody tr th {\n",
              "        vertical-align: top;\n",
              "    }\n",
              "\n",
              "    .dataframe thead th {\n",
              "        text-align: right;\n",
              "    }\n",
              "</style>\n",
              "<table border=\"1\" class=\"dataframe\">\n",
              "  <thead>\n",
              "    <tr style=\"text-align: right;\">\n",
              "      <th></th>\n",
              "      <th>Value</th>\n",
              "    </tr>\n",
              "  </thead>\n",
              "  <tbody>\n",
              "    <tr>\n",
              "      <th>0</th>\n",
              "      <td>122.0</td>\n",
              "    </tr>\n",
              "    <tr>\n",
              "      <th>1</th>\n",
              "      <td>224.0</td>\n",
              "    </tr>\n",
              "    <tr>\n",
              "      <th>2</th>\n",
              "      <td>291.0</td>\n",
              "    </tr>\n",
              "    <tr>\n",
              "      <th>3</th>\n",
              "      <td>413.0</td>\n",
              "    </tr>\n",
              "    <tr>\n",
              "      <th>4</th>\n",
              "      <td>460.0</td>\n",
              "    </tr>\n",
              "  </tbody>\n",
              "</table>\n",
              "</div>"
            ],
            "text/plain": [
              "   Value\n",
              "0  122.0\n",
              "1  224.0\n",
              "2  291.0\n",
              "3  413.0\n",
              "4  460.0"
            ]
          },
          "metadata": {
            "tags": []
          },
          "execution_count": 15
        }
      ]
    },
    {
      "cell_type": "code",
      "metadata": {
        "id": "DDrUE3y8ZeRt",
        "colab": {
          "base_uri": "https://localhost:8080/",
          "height": 204
        },
        "outputId": "b454e8f2-d26c-4825-bb95-67b45b2b953b"
      },
      "source": [
        "# Selecting Multiple Columns I\n",
        "# ---\n",
        "# Select last 5 records from Country and Latitude column i.e. Lat, of the ebola dataset\n",
        "# ---\n",
        "#\n",
        "#ebola_df_country_lat = ebola_df[['Country', 'Lat']]\n",
        "#ebola_df_country_lat.tail()\n",
        "\n",
        "# Method 2\n",
        "# Uncomment the following lines\n",
        "# ---\n",
        "ebola_df_country_lat_method2 = ebola_df.iloc[:,[0, 3]]\n",
        "ebola_df_country_lat_method2.tail()"
      ],
      "execution_count": null,
      "outputs": [
        {
          "output_type": "execute_result",
          "data": {
            "text/html": [
              "<div>\n",
              "<style scoped>\n",
              "    .dataframe tbody tr th:only-of-type {\n",
              "        vertical-align: middle;\n",
              "    }\n",
              "\n",
              "    .dataframe tbody tr th {\n",
              "        vertical-align: top;\n",
              "    }\n",
              "\n",
              "    .dataframe thead th {\n",
              "        text-align: right;\n",
              "    }\n",
              "</style>\n",
              "<table border=\"1\" class=\"dataframe\">\n",
              "  <thead>\n",
              "    <tr style=\"text-align: right;\">\n",
              "      <th></th>\n",
              "      <th>Country</th>\n",
              "      <th>Lat</th>\n",
              "    </tr>\n",
              "  </thead>\n",
              "  <tbody>\n",
              "    <tr>\n",
              "      <th>26</th>\n",
              "      <td>Sierra Leone</td>\n",
              "      <td>8.46</td>\n",
              "    </tr>\n",
              "    <tr>\n",
              "      <th>27</th>\n",
              "      <td>Sierra Leone</td>\n",
              "      <td>8.46</td>\n",
              "    </tr>\n",
              "    <tr>\n",
              "      <th>28</th>\n",
              "      <td>Sierra Leone</td>\n",
              "      <td>8.46</td>\n",
              "    </tr>\n",
              "    <tr>\n",
              "      <th>29</th>\n",
              "      <td>Sierra Leone</td>\n",
              "      <td>8.46</td>\n",
              "    </tr>\n",
              "    <tr>\n",
              "      <th>30</th>\n",
              "      <td>Sierra Leone</td>\n",
              "      <td>8.46</td>\n",
              "    </tr>\n",
              "  </tbody>\n",
              "</table>\n",
              "</div>"
            ],
            "text/plain": [
              "         Country   Lat\n",
              "26  Sierra Leone  8.46\n",
              "27  Sierra Leone  8.46\n",
              "28  Sierra Leone  8.46\n",
              "29  Sierra Leone  8.46\n",
              "30  Sierra Leone  8.46"
            ]
          },
          "metadata": {
            "tags": []
          },
          "execution_count": 17
        }
      ]
    },
    {
      "cell_type": "code",
      "metadata": {
        "id": "PAYdeC6trVEr",
        "colab": {
          "base_uri": "https://localhost:8080/",
          "height": 204
        },
        "outputId": "9d3bb57d-38b3-4ba2-f9c9-79900f06dbd1"
      },
      "source": [
        "# Selecting Multiple Columns II\n",
        "# ---\n",
        "# Select last 5 records of the first 2 columns of the the ebola dataset\n",
        "# ---\n",
        "# \n",
        "ebola_df_country_bonus = ebola_df.iloc[:,0:2]\n",
        "ebola_df_country_bonus.head()"
      ],
      "execution_count": null,
      "outputs": [
        {
          "output_type": "execute_result",
          "data": {
            "text/html": [
              "<div>\n",
              "<style scoped>\n",
              "    .dataframe tbody tr th:only-of-type {\n",
              "        vertical-align: middle;\n",
              "    }\n",
              "\n",
              "    .dataframe tbody tr th {\n",
              "        vertical-align: top;\n",
              "    }\n",
              "\n",
              "    .dataframe thead th {\n",
              "        text-align: right;\n",
              "    }\n",
              "</style>\n",
              "<table border=\"1\" class=\"dataframe\">\n",
              "  <thead>\n",
              "    <tr style=\"text-align: right;\">\n",
              "      <th></th>\n",
              "      <th>Country</th>\n",
              "      <th>Month</th>\n",
              "    </tr>\n",
              "  </thead>\n",
              "  <tbody>\n",
              "    <tr>\n",
              "      <th>0</th>\n",
              "      <td>Guinea</td>\n",
              "      <td>3</td>\n",
              "    </tr>\n",
              "    <tr>\n",
              "      <th>1</th>\n",
              "      <td>Guinea</td>\n",
              "      <td>4</td>\n",
              "    </tr>\n",
              "    <tr>\n",
              "      <th>2</th>\n",
              "      <td>Guinea</td>\n",
              "      <td>5</td>\n",
              "    </tr>\n",
              "    <tr>\n",
              "      <th>3</th>\n",
              "      <td>Guinea</td>\n",
              "      <td>6</td>\n",
              "    </tr>\n",
              "    <tr>\n",
              "      <th>4</th>\n",
              "      <td>Guinea</td>\n",
              "      <td>7</td>\n",
              "    </tr>\n",
              "  </tbody>\n",
              "</table>\n",
              "</div>"
            ],
            "text/plain": [
              "  Country  Month\n",
              "0  Guinea      3\n",
              "1  Guinea      4\n",
              "2  Guinea      5\n",
              "3  Guinea      6\n",
              "4  Guinea      7"
            ]
          },
          "metadata": {
            "tags": []
          },
          "execution_count": 19
        }
      ]
    },
    {
      "cell_type": "markdown",
      "metadata": {
        "id": "amveijHvZqGL"
      },
      "source": [
        "### <font color=\"green\">Challenges</font>"
      ]
    },
    {
      "cell_type": "code",
      "metadata": {
        "id": "lsZ4g8bNZqGN",
        "colab": {
          "base_uri": "https://localhost:8080/",
          "height": 669
        },
        "outputId": "b86c890a-59bf-4f0f-c441-0bdc932ae2a0"
      },
      "source": [
        "# Challenge 1\n",
        "# ---\n",
        "# Select the first 20 records of the Diagonal column in the given banknotes dataset.\n",
        "# ---\n",
        "# Dataset url = https://bit.ly/2yT9oAU\n",
        "# ---\n",
        "# OUR CODE GOES BELOW\n",
        "# \n",
        "\n",
        "banknotes_df.iloc[:,[6]].head(20)"
      ],
      "execution_count": null,
      "outputs": [
        {
          "output_type": "execute_result",
          "data": {
            "text/html": [
              "<div>\n",
              "<style scoped>\n",
              "    .dataframe tbody tr th:only-of-type {\n",
              "        vertical-align: middle;\n",
              "    }\n",
              "\n",
              "    .dataframe tbody tr th {\n",
              "        vertical-align: top;\n",
              "    }\n",
              "\n",
              "    .dataframe thead th {\n",
              "        text-align: right;\n",
              "    }\n",
              "</style>\n",
              "<table border=\"1\" class=\"dataframe\">\n",
              "  <thead>\n",
              "    <tr style=\"text-align: right;\">\n",
              "      <th></th>\n",
              "      <th>Diagonal</th>\n",
              "    </tr>\n",
              "  </thead>\n",
              "  <tbody>\n",
              "    <tr>\n",
              "      <th>0</th>\n",
              "      <td>141.0</td>\n",
              "    </tr>\n",
              "    <tr>\n",
              "      <th>1</th>\n",
              "      <td>141.7</td>\n",
              "    </tr>\n",
              "    <tr>\n",
              "      <th>2</th>\n",
              "      <td>142.2</td>\n",
              "    </tr>\n",
              "    <tr>\n",
              "      <th>3</th>\n",
              "      <td>142.0</td>\n",
              "    </tr>\n",
              "    <tr>\n",
              "      <th>4</th>\n",
              "      <td>141.8</td>\n",
              "    </tr>\n",
              "    <tr>\n",
              "      <th>5</th>\n",
              "      <td>141.4</td>\n",
              "    </tr>\n",
              "    <tr>\n",
              "      <th>6</th>\n",
              "      <td>141.6</td>\n",
              "    </tr>\n",
              "    <tr>\n",
              "      <th>7</th>\n",
              "      <td>141.7</td>\n",
              "    </tr>\n",
              "    <tr>\n",
              "      <th>8</th>\n",
              "      <td>141.9</td>\n",
              "    </tr>\n",
              "    <tr>\n",
              "      <th>9</th>\n",
              "      <td>140.7</td>\n",
              "    </tr>\n",
              "    <tr>\n",
              "      <th>10</th>\n",
              "      <td>141.8</td>\n",
              "    </tr>\n",
              "    <tr>\n",
              "      <th>11</th>\n",
              "      <td>142.2</td>\n",
              "    </tr>\n",
              "    <tr>\n",
              "      <th>12</th>\n",
              "      <td>141.4</td>\n",
              "    </tr>\n",
              "    <tr>\n",
              "      <th>13</th>\n",
              "      <td>141.7</td>\n",
              "    </tr>\n",
              "    <tr>\n",
              "      <th>14</th>\n",
              "      <td>141.8</td>\n",
              "    </tr>\n",
              "    <tr>\n",
              "      <th>15</th>\n",
              "      <td>141.6</td>\n",
              "    </tr>\n",
              "    <tr>\n",
              "      <th>16</th>\n",
              "      <td>141.7</td>\n",
              "    </tr>\n",
              "    <tr>\n",
              "      <th>17</th>\n",
              "      <td>141.9</td>\n",
              "    </tr>\n",
              "    <tr>\n",
              "      <th>18</th>\n",
              "      <td>141.5</td>\n",
              "    </tr>\n",
              "    <tr>\n",
              "      <th>19</th>\n",
              "      <td>141.9</td>\n",
              "    </tr>\n",
              "  </tbody>\n",
              "</table>\n",
              "</div>"
            ],
            "text/plain": [
              "    Diagonal\n",
              "0      141.0\n",
              "1      141.7\n",
              "2      142.2\n",
              "3      142.0\n",
              "4      141.8\n",
              "5      141.4\n",
              "6      141.6\n",
              "7      141.7\n",
              "8      141.9\n",
              "9      140.7\n",
              "10     141.8\n",
              "11     142.2\n",
              "12     141.4\n",
              "13     141.7\n",
              "14     141.8\n",
              "15     141.6\n",
              "16     141.7\n",
              "17     141.9\n",
              "18     141.5\n",
              "19     141.9"
            ]
          },
          "metadata": {
            "tags": []
          },
          "execution_count": 28
        }
      ]
    },
    {
      "cell_type": "code",
      "metadata": {
        "id": "ChcrqYa_7Kdp"
      },
      "source": [
        ""
      ],
      "execution_count": null,
      "outputs": []
    },
    {
      "cell_type": "code",
      "metadata": {
        "id": "tEtn_FD8ZqGR",
        "colab": {
          "base_uri": "https://localhost:8080/",
          "height": 359
        },
        "outputId": "0fd86fa8-0597-4c8f-c4a4-2ed200a7d5f3"
      },
      "source": [
        "# Challenge 2\n",
        "# ---\n",
        "# Select a sample of 10 records from the Diagonal and conterfeit column using the banknotes dataset.\n",
        "# ---\n",
        "# OUR CODE GOES BELOW\n",
        "banknotes_df.iloc[:,[0,6]].sample(10)\n"
      ],
      "execution_count": null,
      "outputs": [
        {
          "output_type": "execute_result",
          "data": {
            "text/html": [
              "<div>\n",
              "<style scoped>\n",
              "    .dataframe tbody tr th:only-of-type {\n",
              "        vertical-align: middle;\n",
              "    }\n",
              "\n",
              "    .dataframe tbody tr th {\n",
              "        vertical-align: top;\n",
              "    }\n",
              "\n",
              "    .dataframe thead th {\n",
              "        text-align: right;\n",
              "    }\n",
              "</style>\n",
              "<table border=\"1\" class=\"dataframe\">\n",
              "  <thead>\n",
              "    <tr style=\"text-align: right;\">\n",
              "      <th></th>\n",
              "      <th>conterfeit</th>\n",
              "      <th>Diagonal</th>\n",
              "    </tr>\n",
              "  </thead>\n",
              "  <tbody>\n",
              "    <tr>\n",
              "      <th>73</th>\n",
              "      <td>0</td>\n",
              "      <td>141.8</td>\n",
              "    </tr>\n",
              "    <tr>\n",
              "      <th>150</th>\n",
              "      <td>1</td>\n",
              "      <td>139.8</td>\n",
              "    </tr>\n",
              "    <tr>\n",
              "      <th>94</th>\n",
              "      <td>0</td>\n",
              "      <td>142.0</td>\n",
              "    </tr>\n",
              "    <tr>\n",
              "      <th>186</th>\n",
              "      <td>1</td>\n",
              "      <td>138.5</td>\n",
              "    </tr>\n",
              "    <tr>\n",
              "      <th>174</th>\n",
              "      <td>1</td>\n",
              "      <td>139.6</td>\n",
              "    </tr>\n",
              "    <tr>\n",
              "      <th>80</th>\n",
              "      <td>0</td>\n",
              "      <td>140.6</td>\n",
              "    </tr>\n",
              "    <tr>\n",
              "      <th>49</th>\n",
              "      <td>0</td>\n",
              "      <td>142.0</td>\n",
              "    </tr>\n",
              "    <tr>\n",
              "      <th>199</th>\n",
              "      <td>1</td>\n",
              "      <td>139.6</td>\n",
              "    </tr>\n",
              "    <tr>\n",
              "      <th>129</th>\n",
              "      <td>1</td>\n",
              "      <td>139.9</td>\n",
              "    </tr>\n",
              "    <tr>\n",
              "      <th>46</th>\n",
              "      <td>0</td>\n",
              "      <td>141.5</td>\n",
              "    </tr>\n",
              "  </tbody>\n",
              "</table>\n",
              "</div>"
            ],
            "text/plain": [
              "     conterfeit  Diagonal\n",
              "73            0     141.8\n",
              "150           1     139.8\n",
              "94            0     142.0\n",
              "186           1     138.5\n",
              "174           1     139.6\n",
              "80            0     140.6\n",
              "49            0     142.0\n",
              "199           1     139.6\n",
              "129           1     139.9\n",
              "46            0     141.5"
            ]
          },
          "metadata": {
            "tags": []
          },
          "execution_count": 34
        }
      ]
    },
    {
      "cell_type": "code",
      "metadata": {
        "id": "z_JIguQLZqGV",
        "colab": {
          "base_uri": "https://localhost:8080/",
          "height": 419
        },
        "outputId": "826d5c0d-b129-40b2-e358-1116dc7ad0de"
      },
      "source": [
        "# Challenge 3\n",
        "# ---\n",
        "# In prepartion for data modeling, you're required to select last 5 colums of the banknotes dataset.\n",
        "# Once you do so, preview the dataframe to check whether you've selected the columns correctly.\n",
        "# ---\n",
        "# OUR CODE GOES BELOW\n",
        "# \n",
        "# banknotes_df[banknotes_df.columns[5]]\n",
        "banknotes_df.iloc[:,2:]"
      ],
      "execution_count": null,
      "outputs": [
        {
          "output_type": "execute_result",
          "data": {
            "text/html": [
              "<div>\n",
              "<style scoped>\n",
              "    .dataframe tbody tr th:only-of-type {\n",
              "        vertical-align: middle;\n",
              "    }\n",
              "\n",
              "    .dataframe tbody tr th {\n",
              "        vertical-align: top;\n",
              "    }\n",
              "\n",
              "    .dataframe thead th {\n",
              "        text-align: right;\n",
              "    }\n",
              "</style>\n",
              "<table border=\"1\" class=\"dataframe\">\n",
              "  <thead>\n",
              "    <tr style=\"text-align: right;\">\n",
              "      <th></th>\n",
              "      <th>Left</th>\n",
              "      <th>Right</th>\n",
              "      <th>Bottom</th>\n",
              "      <th>Top</th>\n",
              "      <th>Diagonal</th>\n",
              "    </tr>\n",
              "  </thead>\n",
              "  <tbody>\n",
              "    <tr>\n",
              "      <th>0</th>\n",
              "      <td>131.0</td>\n",
              "      <td>131.1</td>\n",
              "      <td>9.0</td>\n",
              "      <td>9.7</td>\n",
              "      <td>141.0</td>\n",
              "    </tr>\n",
              "    <tr>\n",
              "      <th>1</th>\n",
              "      <td>129.7</td>\n",
              "      <td>129.7</td>\n",
              "      <td>8.1</td>\n",
              "      <td>9.5</td>\n",
              "      <td>141.7</td>\n",
              "    </tr>\n",
              "    <tr>\n",
              "      <th>2</th>\n",
              "      <td>129.7</td>\n",
              "      <td>129.7</td>\n",
              "      <td>8.7</td>\n",
              "      <td>9.6</td>\n",
              "      <td>142.2</td>\n",
              "    </tr>\n",
              "    <tr>\n",
              "      <th>3</th>\n",
              "      <td>129.7</td>\n",
              "      <td>129.6</td>\n",
              "      <td>7.5</td>\n",
              "      <td>10.4</td>\n",
              "      <td>142.0</td>\n",
              "    </tr>\n",
              "    <tr>\n",
              "      <th>4</th>\n",
              "      <td>129.6</td>\n",
              "      <td>129.7</td>\n",
              "      <td>10.4</td>\n",
              "      <td>7.7</td>\n",
              "      <td>141.8</td>\n",
              "    </tr>\n",
              "    <tr>\n",
              "      <th>...</th>\n",
              "      <td>...</td>\n",
              "      <td>...</td>\n",
              "      <td>...</td>\n",
              "      <td>...</td>\n",
              "      <td>...</td>\n",
              "    </tr>\n",
              "    <tr>\n",
              "      <th>195</th>\n",
              "      <td>130.4</td>\n",
              "      <td>130.3</td>\n",
              "      <td>9.9</td>\n",
              "      <td>12.1</td>\n",
              "      <td>139.6</td>\n",
              "    </tr>\n",
              "    <tr>\n",
              "      <th>196</th>\n",
              "      <td>130.3</td>\n",
              "      <td>129.9</td>\n",
              "      <td>10.3</td>\n",
              "      <td>11.5</td>\n",
              "      <td>139.7</td>\n",
              "    </tr>\n",
              "    <tr>\n",
              "      <th>197</th>\n",
              "      <td>130.3</td>\n",
              "      <td>130.4</td>\n",
              "      <td>10.6</td>\n",
              "      <td>11.1</td>\n",
              "      <td>140.0</td>\n",
              "    </tr>\n",
              "    <tr>\n",
              "      <th>198</th>\n",
              "      <td>130.7</td>\n",
              "      <td>130.8</td>\n",
              "      <td>11.2</td>\n",
              "      <td>11.2</td>\n",
              "      <td>139.4</td>\n",
              "    </tr>\n",
              "    <tr>\n",
              "      <th>199</th>\n",
              "      <td>129.9</td>\n",
              "      <td>129.9</td>\n",
              "      <td>10.2</td>\n",
              "      <td>11.5</td>\n",
              "      <td>139.6</td>\n",
              "    </tr>\n",
              "  </tbody>\n",
              "</table>\n",
              "<p>200 rows × 5 columns</p>\n",
              "</div>"
            ],
            "text/plain": [
              "      Left  Right  Bottom   Top  Diagonal\n",
              "0    131.0  131.1     9.0   9.7     141.0\n",
              "1    129.7  129.7     8.1   9.5     141.7\n",
              "2    129.7  129.7     8.7   9.6     142.2\n",
              "3    129.7  129.6     7.5  10.4     142.0\n",
              "4    129.6  129.7    10.4   7.7     141.8\n",
              "..     ...    ...     ...   ...       ...\n",
              "195  130.4  130.3     9.9  12.1     139.6\n",
              "196  130.3  129.9    10.3  11.5     139.7\n",
              "197  130.3  130.4    10.6  11.1     140.0\n",
              "198  130.7  130.8    11.2  11.2     139.4\n",
              "199  129.9  129.9    10.2  11.5     139.6\n",
              "\n",
              "[200 rows x 5 columns]"
            ]
          },
          "metadata": {
            "tags": []
          },
          "execution_count": 9
        }
      ]
    },
    {
      "cell_type": "markdown",
      "metadata": {
        "id": "InG0BnDgYxUo"
      },
      "source": [
        "## 3. Selecting Columns II "
      ]
    },
    {
      "cell_type": "markdown",
      "metadata": {
        "id": "JFmLS0JcZfyU"
      },
      "source": [
        "### Examples"
      ]
    },
    {
      "cell_type": "code",
      "metadata": {
        "id": "1WgKBLL5ZfyV",
        "colab": {
          "base_uri": "https://localhost:8080/"
        },
        "outputId": "9db5727c-8f37-4feb-8f4a-aa5923c7fbce"
      },
      "source": [
        "# Selecting Unique Values in a column\n",
        "# --- \n",
        "# Let's select unique values from the Country column in the ebola dataset\n",
        "# ---\n",
        "# \n",
        "ebola_countries = ebola_df['Country'].unique() \n",
        "ebola_countries\n",
        "# We use the list() method to get a list else\n",
        "# we would get an array.\n",
        "# ---\n",
        "#\n",
        "list(ebola_countries)"
      ],
      "execution_count": null,
      "outputs": [
        {
          "output_type": "execute_result",
          "data": {
            "text/plain": [
              "['Guinea', 'Liberia', 'Mali', 'Senegal', 'Sierra Leone']"
            ]
          },
          "metadata": {
            "tags": []
          },
          "execution_count": 12
        }
      ]
    },
    {
      "cell_type": "code",
      "metadata": {
        "id": "nHzN8EplZfyY",
        "colab": {
          "base_uri": "https://localhost:8080/",
          "height": 320
        },
        "outputId": "bd0007c1-d6e9-4c26-8aee-d81123e36da7"
      },
      "source": [
        "# Selecting Rows with Columns with certain values\n",
        "# ---\n",
        "# We will select all Liberia records\n",
        "# \n",
        "liberia_records = ebola_df[ebola_df.Country.isin(['Liberia'])]\n",
        "liberia_records"
      ],
      "execution_count": null,
      "outputs": [
        {
          "output_type": "execute_result",
          "data": {
            "text/html": [
              "<div>\n",
              "<style scoped>\n",
              "    .dataframe tbody tr th:only-of-type {\n",
              "        vertical-align: middle;\n",
              "    }\n",
              "\n",
              "    .dataframe tbody tr th {\n",
              "        vertical-align: top;\n",
              "    }\n",
              "\n",
              "    .dataframe thead th {\n",
              "        text-align: right;\n",
              "    }\n",
              "</style>\n",
              "<table border=\"1\" class=\"dataframe\">\n",
              "  <thead>\n",
              "    <tr style=\"text-align: right;\">\n",
              "      <th></th>\n",
              "      <th>Country</th>\n",
              "      <th>Month</th>\n",
              "      <th>Year</th>\n",
              "      <th>Lat</th>\n",
              "      <th>Lon</th>\n",
              "      <th>Value</th>\n",
              "    </tr>\n",
              "  </thead>\n",
              "  <tbody>\n",
              "    <tr>\n",
              "      <th>10</th>\n",
              "      <td>Liberia</td>\n",
              "      <td>4</td>\n",
              "      <td>14</td>\n",
              "      <td>6.43</td>\n",
              "      <td>-9.43</td>\n",
              "      <td>35.0</td>\n",
              "    </tr>\n",
              "    <tr>\n",
              "      <th>11</th>\n",
              "      <td>Liberia</td>\n",
              "      <td>5</td>\n",
              "      <td>14</td>\n",
              "      <td>6.43</td>\n",
              "      <td>-9.43</td>\n",
              "      <td>13.0</td>\n",
              "    </tr>\n",
              "    <tr>\n",
              "      <th>12</th>\n",
              "      <td>Liberia</td>\n",
              "      <td>6</td>\n",
              "      <td>14</td>\n",
              "      <td>6.43</td>\n",
              "      <td>-9.43</td>\n",
              "      <td>107.0</td>\n",
              "    </tr>\n",
              "    <tr>\n",
              "      <th>13</th>\n",
              "      <td>Liberia</td>\n",
              "      <td>7</td>\n",
              "      <td>14</td>\n",
              "      <td>6.43</td>\n",
              "      <td>-9.43</td>\n",
              "      <td>329.0</td>\n",
              "    </tr>\n",
              "    <tr>\n",
              "      <th>14</th>\n",
              "      <td>Liberia</td>\n",
              "      <td>8</td>\n",
              "      <td>14</td>\n",
              "      <td>6.43</td>\n",
              "      <td>-9.43</td>\n",
              "      <td>1395.0</td>\n",
              "    </tr>\n",
              "    <tr>\n",
              "      <th>15</th>\n",
              "      <td>Liberia</td>\n",
              "      <td>9</td>\n",
              "      <td>14</td>\n",
              "      <td>6.43</td>\n",
              "      <td>-9.43</td>\n",
              "      <td>3362.0</td>\n",
              "    </tr>\n",
              "    <tr>\n",
              "      <th>16</th>\n",
              "      <td>Liberia</td>\n",
              "      <td>10</td>\n",
              "      <td>14</td>\n",
              "      <td>6.43</td>\n",
              "      <td>-9.43</td>\n",
              "      <td>NaN</td>\n",
              "    </tr>\n",
              "    <tr>\n",
              "      <th>17</th>\n",
              "      <td>Liberia</td>\n",
              "      <td>11</td>\n",
              "      <td>14</td>\n",
              "      <td>6.43</td>\n",
              "      <td>-9.43</td>\n",
              "      <td>NaN</td>\n",
              "    </tr>\n",
              "    <tr>\n",
              "      <th>18</th>\n",
              "      <td>Liberia</td>\n",
              "      <td>12</td>\n",
              "      <td>14</td>\n",
              "      <td>6.43</td>\n",
              "      <td>-9.43</td>\n",
              "      <td>NaN</td>\n",
              "    </tr>\n",
              "  </tbody>\n",
              "</table>\n",
              "</div>"
            ],
            "text/plain": [
              "    Country  Month  Year   Lat   Lon   Value\n",
              "10  Liberia      4    14  6.43 -9.43    35.0\n",
              "11  Liberia      5    14  6.43 -9.43    13.0\n",
              "12  Liberia      6    14  6.43 -9.43   107.0\n",
              "13  Liberia      7    14  6.43 -9.43   329.0\n",
              "14  Liberia      8    14  6.43 -9.43  1395.0\n",
              "15  Liberia      9    14  6.43 -9.43  3362.0\n",
              "16  Liberia     10    14  6.43 -9.43     NaN\n",
              "17  Liberia     11    14  6.43 -9.43     NaN\n",
              "18  Liberia     12    14  6.43 -9.43     NaN"
            ]
          },
          "metadata": {
            "tags": []
          },
          "execution_count": 30
        }
      ]
    },
    {
      "cell_type": "code",
      "metadata": {
        "id": "vTAS74BpZfyb",
        "colab": {
          "base_uri": "https://localhost:8080/",
          "height": 502
        },
        "outputId": "f7ef7188-78c1-4865-96ac-210dd381a540"
      },
      "source": [
        "# Selecting Records with Columns without certain values\n",
        "# ---\n",
        "# We will select all other records apart from the Liberia ones.\n",
        "# Let's confirm our result by checking a sample of 10 records.\n",
        "# ---\n",
        "#\n",
        "other_country_records = ebola_df[~ebola_df.Country.isin(['Liberia'])]\n",
        "other_country_records.sample(15)"
      ],
      "execution_count": null,
      "outputs": [
        {
          "output_type": "execute_result",
          "data": {
            "text/html": [
              "<div>\n",
              "<style scoped>\n",
              "    .dataframe tbody tr th:only-of-type {\n",
              "        vertical-align: middle;\n",
              "    }\n",
              "\n",
              "    .dataframe tbody tr th {\n",
              "        vertical-align: top;\n",
              "    }\n",
              "\n",
              "    .dataframe thead th {\n",
              "        text-align: right;\n",
              "    }\n",
              "</style>\n",
              "<table border=\"1\" class=\"dataframe\">\n",
              "  <thead>\n",
              "    <tr style=\"text-align: right;\">\n",
              "      <th></th>\n",
              "      <th>Country</th>\n",
              "      <th>Month</th>\n",
              "      <th>Year</th>\n",
              "      <th>Lat</th>\n",
              "      <th>Lon</th>\n",
              "      <th>Value</th>\n",
              "    </tr>\n",
              "  </thead>\n",
              "  <tbody>\n",
              "    <tr>\n",
              "      <th>1</th>\n",
              "      <td>Guinea</td>\n",
              "      <td>4</td>\n",
              "      <td>14</td>\n",
              "      <td>9.95</td>\n",
              "      <td>-9.70</td>\n",
              "      <td>224.0</td>\n",
              "    </tr>\n",
              "    <tr>\n",
              "      <th>30</th>\n",
              "      <td>Sierra Leone</td>\n",
              "      <td>12</td>\n",
              "      <td>14</td>\n",
              "      <td>8.46</td>\n",
              "      <td>-11.78</td>\n",
              "      <td>NaN</td>\n",
              "    </tr>\n",
              "    <tr>\n",
              "      <th>22</th>\n",
              "      <td>Senegal</td>\n",
              "      <td>9</td>\n",
              "      <td>14</td>\n",
              "      <td>14.50</td>\n",
              "      <td>-14.45</td>\n",
              "      <td>3.0</td>\n",
              "    </tr>\n",
              "    <tr>\n",
              "      <th>7</th>\n",
              "      <td>Guinea</td>\n",
              "      <td>10</td>\n",
              "      <td>14</td>\n",
              "      <td>9.95</td>\n",
              "      <td>-9.70</td>\n",
              "      <td>NaN</td>\n",
              "    </tr>\n",
              "    <tr>\n",
              "      <th>0</th>\n",
              "      <td>Guinea</td>\n",
              "      <td>3</td>\n",
              "      <td>14</td>\n",
              "      <td>9.95</td>\n",
              "      <td>-9.70</td>\n",
              "      <td>122.0</td>\n",
              "    </tr>\n",
              "    <tr>\n",
              "      <th>25</th>\n",
              "      <td>Sierra Leone</td>\n",
              "      <td>7</td>\n",
              "      <td>14</td>\n",
              "      <td>8.46</td>\n",
              "      <td>-11.78</td>\n",
              "      <td>533.0</td>\n",
              "    </tr>\n",
              "    <tr>\n",
              "      <th>28</th>\n",
              "      <td>Sierra Leone</td>\n",
              "      <td>10</td>\n",
              "      <td>14</td>\n",
              "      <td>8.46</td>\n",
              "      <td>-11.78</td>\n",
              "      <td>NaN</td>\n",
              "    </tr>\n",
              "    <tr>\n",
              "      <th>26</th>\n",
              "      <td>Sierra Leone</td>\n",
              "      <td>8</td>\n",
              "      <td>14</td>\n",
              "      <td>8.46</td>\n",
              "      <td>-11.78</td>\n",
              "      <td>1216.0</td>\n",
              "    </tr>\n",
              "    <tr>\n",
              "      <th>8</th>\n",
              "      <td>Guinea</td>\n",
              "      <td>11</td>\n",
              "      <td>14</td>\n",
              "      <td>9.95</td>\n",
              "      <td>-9.70</td>\n",
              "      <td>NaN</td>\n",
              "    </tr>\n",
              "    <tr>\n",
              "      <th>9</th>\n",
              "      <td>Guinea</td>\n",
              "      <td>12</td>\n",
              "      <td>14</td>\n",
              "      <td>9.95</td>\n",
              "      <td>-9.70</td>\n",
              "      <td>NaN</td>\n",
              "    </tr>\n",
              "    <tr>\n",
              "      <th>29</th>\n",
              "      <td>Sierra Leone</td>\n",
              "      <td>11</td>\n",
              "      <td>14</td>\n",
              "      <td>8.46</td>\n",
              "      <td>-11.78</td>\n",
              "      <td>NaN</td>\n",
              "    </tr>\n",
              "    <tr>\n",
              "      <th>24</th>\n",
              "      <td>Sierra Leone</td>\n",
              "      <td>6</td>\n",
              "      <td>14</td>\n",
              "      <td>8.46</td>\n",
              "      <td>-11.78</td>\n",
              "      <td>239.0</td>\n",
              "    </tr>\n",
              "    <tr>\n",
              "      <th>21</th>\n",
              "      <td>Senegal</td>\n",
              "      <td>8</td>\n",
              "      <td>14</td>\n",
              "      <td>14.50</td>\n",
              "      <td>-14.45</td>\n",
              "      <td>1.0</td>\n",
              "    </tr>\n",
              "    <tr>\n",
              "      <th>19</th>\n",
              "      <td>Mali</td>\n",
              "      <td>10</td>\n",
              "      <td>14</td>\n",
              "      <td>17.57</td>\n",
              "      <td>-4.00</td>\n",
              "      <td>1.0</td>\n",
              "    </tr>\n",
              "    <tr>\n",
              "      <th>23</th>\n",
              "      <td>Sierra Leone</td>\n",
              "      <td>5</td>\n",
              "      <td>14</td>\n",
              "      <td>8.46</td>\n",
              "      <td>-11.78</td>\n",
              "      <td>50.0</td>\n",
              "    </tr>\n",
              "  </tbody>\n",
              "</table>\n",
              "</div>"
            ],
            "text/plain": [
              "         Country  Month  Year    Lat    Lon   Value\n",
              "1         Guinea      4    14   9.95  -9.70   224.0\n",
              "30  Sierra Leone     12    14   8.46 -11.78     NaN\n",
              "22       Senegal      9    14  14.50 -14.45     3.0\n",
              "7         Guinea     10    14   9.95  -9.70     NaN\n",
              "0         Guinea      3    14   9.95  -9.70   122.0\n",
              "25  Sierra Leone      7    14   8.46 -11.78   533.0\n",
              "28  Sierra Leone     10    14   8.46 -11.78     NaN\n",
              "26  Sierra Leone      8    14   8.46 -11.78  1216.0\n",
              "8         Guinea     11    14   9.95  -9.70     NaN\n",
              "9         Guinea     12    14   9.95  -9.70     NaN\n",
              "29  Sierra Leone     11    14   8.46 -11.78     NaN\n",
              "24  Sierra Leone      6    14   8.46 -11.78   239.0\n",
              "21       Senegal      8    14  14.50 -14.45     1.0\n",
              "19          Mali     10    14  17.57  -4.00     1.0\n",
              "23  Sierra Leone      5    14   8.46 -11.78    50.0"
            ]
          },
          "metadata": {
            "tags": []
          },
          "execution_count": 31
        }
      ]
    },
    {
      "cell_type": "markdown",
      "metadata": {
        "id": "4S6nBEpDZq6E"
      },
      "source": [
        "### <font color=\"green\">Challenges</font>"
      ]
    },
    {
      "cell_type": "code",
      "metadata": {
        "id": "-cM9sp_IZq6G",
        "colab": {
          "base_uri": "https://localhost:8080/"
        },
        "outputId": "ac3d629e-3b94-49d4-c36e-6ebf7a2820a2"
      },
      "source": [
        "# Challenge 1\n",
        "# ---\n",
        "# Select and preview the most similar banknotes length measurements?\n",
        "# ---\n",
        "# Dataset url = https://bit.ly/2yT9oAU\n",
        "# ---\n",
        "# hint: use .value_counts() to check the most repeated\n",
        "# banknotes_df.Length.value_counts()\n",
        "banknotes_df.Length.mode()"
      ],
      "execution_count": null,
      "outputs": [
        {
          "output_type": "execute_result",
          "data": {
            "text/plain": [
              "0    214.8\n",
              "dtype: float64"
            ]
          },
          "metadata": {
            "tags": []
          },
          "execution_count": 21
        }
      ]
    },
    {
      "cell_type": "code",
      "metadata": {
        "id": "WxgVC-26Zq6I",
        "colab": {
          "base_uri": "https://localhost:8080/"
        },
        "outputId": "bbd51664-8eef-49ab-a13f-085acb445bf6"
      },
      "source": [
        "# Challenge 2\n",
        "# ---\n",
        "# Select and preview the least similar banknotes diagonal measurements? \n",
        "# ---\n",
        "# \n",
        "banknotes_df.Diagonal.unique()"
      ],
      "execution_count": null,
      "outputs": [
        {
          "output_type": "execute_result",
          "data": {
            "text/plain": [
              "array([141. , 141.7, 142.2, 142. , 141.8, 141.4, 141.6, 141.9, 140.7,\n",
              "       141.5, 141.1, 142.3, 142.4, 142.1, 141.3, 140.9, 141.2, 140.8,\n",
              "       139.6, 140.6, 139.8, 139.5, 140.2, 140.3, 139.7, 139.9, 139.4,\n",
              "       139.2, 140.1, 140. , 138.3, 139.3, 138.1, 139. , 137.9, 138.4,\n",
              "       139.1, 138.8, 138.6, 137.8, 138.7, 138.5])"
            ]
          },
          "metadata": {
            "tags": []
          },
          "execution_count": 25
        }
      ]
    },
    {
      "cell_type": "code",
      "metadata": {
        "id": "wLeYINcdE6Df"
      },
      "source": [
        ""
      ],
      "execution_count": null,
      "outputs": []
    },
    {
      "cell_type": "code",
      "metadata": {
        "id": "RzPM-f_FZq6K",
        "colab": {
          "base_uri": "https://localhost:8080/"
        },
        "outputId": "b5685921-5ecc-456a-d5fd-4c59bfc4a9a9"
      },
      "source": [
        "# Challenge 3\n",
        "# ---\n",
        "# How many banknotes had a left measurement and right measurement greater than 129?\n",
        "# Get a sample of the records and later determine the no.\n",
        "# Hint: Sample  Use len() to determine the no. of items.\n",
        "# ---\n",
        "# \n",
        "banknotes_df[(banknotes_df['Left']>129) & (banknotes_df['Right']>129)].sample()\n",
        "banknotes_df[(banknotes_df['Left']>129) & (banknotes_df['Right']>129)].count()\n"
      ],
      "execution_count": null,
      "outputs": [
        {
          "output_type": "execute_result",
          "data": {
            "text/plain": [
              "conterfeit    198\n",
              "Length        198\n",
              "Left          198\n",
              "Right         198\n",
              "Bottom        198\n",
              "Top           198\n",
              "Diagonal      198\n",
              "dtype: int64"
            ]
          },
          "metadata": {
            "tags": []
          },
          "execution_count": 28
        }
      ]
    },
    {
      "cell_type": "markdown",
      "metadata": {
        "id": "mxCkESI_ZA5A"
      },
      "source": [
        "## 4. Ranking / Sorting"
      ]
    },
    {
      "cell_type": "markdown",
      "metadata": {
        "id": "iDnNGL-mZhJ9"
      },
      "source": [
        "### Examples"
      ]
    },
    {
      "cell_type": "code",
      "metadata": {
        "id": "JB7Sd98YZhKw",
        "colab": {
          "base_uri": "https://localhost:8080/",
          "height": 204
        },
        "outputId": "1effaab7-1b0c-40d1-bf94-124a5adca053"
      },
      "source": [
        "# Sorting in Ascending / Descending Order \n",
        "# ---\n",
        "# From the ebola dataset sort the Guinea records in descending order\n",
        "# ---\n",
        "# OUR CODE GOES BELOW\n",
        "# \n",
        "guinea_records = ebola_df[ebola_df.Country.isin(['Guinea'])].sort_values(by='Value', ascending=0)\n",
        "guinea_records.head()"
      ],
      "execution_count": null,
      "outputs": [
        {
          "output_type": "execute_result",
          "data": {
            "text/html": [
              "<div>\n",
              "<style scoped>\n",
              "    .dataframe tbody tr th:only-of-type {\n",
              "        vertical-align: middle;\n",
              "    }\n",
              "\n",
              "    .dataframe tbody tr th {\n",
              "        vertical-align: top;\n",
              "    }\n",
              "\n",
              "    .dataframe thead th {\n",
              "        text-align: right;\n",
              "    }\n",
              "</style>\n",
              "<table border=\"1\" class=\"dataframe\">\n",
              "  <thead>\n",
              "    <tr style=\"text-align: right;\">\n",
              "      <th></th>\n",
              "      <th>Country</th>\n",
              "      <th>Month</th>\n",
              "      <th>Year</th>\n",
              "      <th>Lat</th>\n",
              "      <th>Lon</th>\n",
              "      <th>Value</th>\n",
              "    </tr>\n",
              "  </thead>\n",
              "  <tbody>\n",
              "    <tr>\n",
              "      <th>6</th>\n",
              "      <td>Guinea</td>\n",
              "      <td>9</td>\n",
              "      <td>14</td>\n",
              "      <td>9.95</td>\n",
              "      <td>-9.7</td>\n",
              "      <td>1022.0</td>\n",
              "    </tr>\n",
              "    <tr>\n",
              "      <th>5</th>\n",
              "      <td>Guinea</td>\n",
              "      <td>8</td>\n",
              "      <td>14</td>\n",
              "      <td>9.95</td>\n",
              "      <td>-9.7</td>\n",
              "      <td>771.0</td>\n",
              "    </tr>\n",
              "    <tr>\n",
              "      <th>4</th>\n",
              "      <td>Guinea</td>\n",
              "      <td>7</td>\n",
              "      <td>14</td>\n",
              "      <td>9.95</td>\n",
              "      <td>-9.7</td>\n",
              "      <td>460.0</td>\n",
              "    </tr>\n",
              "    <tr>\n",
              "      <th>3</th>\n",
              "      <td>Guinea</td>\n",
              "      <td>6</td>\n",
              "      <td>14</td>\n",
              "      <td>9.95</td>\n",
              "      <td>-9.7</td>\n",
              "      <td>413.0</td>\n",
              "    </tr>\n",
              "    <tr>\n",
              "      <th>2</th>\n",
              "      <td>Guinea</td>\n",
              "      <td>5</td>\n",
              "      <td>14</td>\n",
              "      <td>9.95</td>\n",
              "      <td>-9.7</td>\n",
              "      <td>291.0</td>\n",
              "    </tr>\n",
              "  </tbody>\n",
              "</table>\n",
              "</div>"
            ],
            "text/plain": [
              "  Country  Month  Year   Lat  Lon   Value\n",
              "6  Guinea      9    14  9.95 -9.7  1022.0\n",
              "5  Guinea      8    14  9.95 -9.7   771.0\n",
              "4  Guinea      7    14  9.95 -9.7   460.0\n",
              "3  Guinea      6    14  9.95 -9.7   413.0\n",
              "2  Guinea      5    14  9.95 -9.7   291.0"
            ]
          },
          "metadata": {
            "tags": []
          },
          "execution_count": 33
        }
      ]
    },
    {
      "cell_type": "code",
      "metadata": {
        "id": "Xqp_I7LiZhKo",
        "colab": {
          "base_uri": "https://localhost:8080/",
          "height": 359
        },
        "outputId": "ee7f5201-56e2-4d5f-9690-7ccdfb9e4e62"
      },
      "source": [
        "# Ranking in Ascending Order\n",
        "# ---\n",
        "# Create a new column that is the rank of the value of 'Value' in descending order\n",
        "# ---\n",
        "# \n",
        "ebola_df['Ranking'] = ebola_df['Value'].rank(ascending=0)\n",
        "ebola_df.head(10)"
      ],
      "execution_count": null,
      "outputs": [
        {
          "output_type": "execute_result",
          "data": {
            "text/html": [
              "<div>\n",
              "<style scoped>\n",
              "    .dataframe tbody tr th:only-of-type {\n",
              "        vertical-align: middle;\n",
              "    }\n",
              "\n",
              "    .dataframe tbody tr th {\n",
              "        vertical-align: top;\n",
              "    }\n",
              "\n",
              "    .dataframe thead th {\n",
              "        text-align: right;\n",
              "    }\n",
              "</style>\n",
              "<table border=\"1\" class=\"dataframe\">\n",
              "  <thead>\n",
              "    <tr style=\"text-align: right;\">\n",
              "      <th></th>\n",
              "      <th>Country</th>\n",
              "      <th>Month</th>\n",
              "      <th>Year</th>\n",
              "      <th>Lat</th>\n",
              "      <th>Lon</th>\n",
              "      <th>Value</th>\n",
              "      <th>Ranking</th>\n",
              "    </tr>\n",
              "  </thead>\n",
              "  <tbody>\n",
              "    <tr>\n",
              "      <th>0</th>\n",
              "      <td>Guinea</td>\n",
              "      <td>3</td>\n",
              "      <td>14</td>\n",
              "      <td>9.95</td>\n",
              "      <td>-9.7</td>\n",
              "      <td>122.0</td>\n",
              "      <td>14.0</td>\n",
              "    </tr>\n",
              "    <tr>\n",
              "      <th>1</th>\n",
              "      <td>Guinea</td>\n",
              "      <td>4</td>\n",
              "      <td>14</td>\n",
              "      <td>9.95</td>\n",
              "      <td>-9.7</td>\n",
              "      <td>224.0</td>\n",
              "      <td>13.0</td>\n",
              "    </tr>\n",
              "    <tr>\n",
              "      <th>2</th>\n",
              "      <td>Guinea</td>\n",
              "      <td>5</td>\n",
              "      <td>14</td>\n",
              "      <td>9.95</td>\n",
              "      <td>-9.7</td>\n",
              "      <td>291.0</td>\n",
              "      <td>11.0</td>\n",
              "    </tr>\n",
              "    <tr>\n",
              "      <th>3</th>\n",
              "      <td>Guinea</td>\n",
              "      <td>6</td>\n",
              "      <td>14</td>\n",
              "      <td>9.95</td>\n",
              "      <td>-9.7</td>\n",
              "      <td>413.0</td>\n",
              "      <td>9.0</td>\n",
              "    </tr>\n",
              "    <tr>\n",
              "      <th>4</th>\n",
              "      <td>Guinea</td>\n",
              "      <td>7</td>\n",
              "      <td>14</td>\n",
              "      <td>9.95</td>\n",
              "      <td>-9.7</td>\n",
              "      <td>460.0</td>\n",
              "      <td>8.0</td>\n",
              "    </tr>\n",
              "    <tr>\n",
              "      <th>5</th>\n",
              "      <td>Guinea</td>\n",
              "      <td>8</td>\n",
              "      <td>14</td>\n",
              "      <td>9.95</td>\n",
              "      <td>-9.7</td>\n",
              "      <td>771.0</td>\n",
              "      <td>6.0</td>\n",
              "    </tr>\n",
              "    <tr>\n",
              "      <th>6</th>\n",
              "      <td>Guinea</td>\n",
              "      <td>9</td>\n",
              "      <td>14</td>\n",
              "      <td>9.95</td>\n",
              "      <td>-9.7</td>\n",
              "      <td>1022.0</td>\n",
              "      <td>5.0</td>\n",
              "    </tr>\n",
              "    <tr>\n",
              "      <th>7</th>\n",
              "      <td>Guinea</td>\n",
              "      <td>10</td>\n",
              "      <td>14</td>\n",
              "      <td>9.95</td>\n",
              "      <td>-9.7</td>\n",
              "      <td>NaN</td>\n",
              "      <td>NaN</td>\n",
              "    </tr>\n",
              "    <tr>\n",
              "      <th>8</th>\n",
              "      <td>Guinea</td>\n",
              "      <td>11</td>\n",
              "      <td>14</td>\n",
              "      <td>9.95</td>\n",
              "      <td>-9.7</td>\n",
              "      <td>NaN</td>\n",
              "      <td>NaN</td>\n",
              "    </tr>\n",
              "    <tr>\n",
              "      <th>9</th>\n",
              "      <td>Guinea</td>\n",
              "      <td>12</td>\n",
              "      <td>14</td>\n",
              "      <td>9.95</td>\n",
              "      <td>-9.7</td>\n",
              "      <td>NaN</td>\n",
              "      <td>NaN</td>\n",
              "    </tr>\n",
              "  </tbody>\n",
              "</table>\n",
              "</div>"
            ],
            "text/plain": [
              "  Country  Month  Year   Lat  Lon   Value  Ranking\n",
              "0  Guinea      3    14  9.95 -9.7   122.0     14.0\n",
              "1  Guinea      4    14  9.95 -9.7   224.0     13.0\n",
              "2  Guinea      5    14  9.95 -9.7   291.0     11.0\n",
              "3  Guinea      6    14  9.95 -9.7   413.0      9.0\n",
              "4  Guinea      7    14  9.95 -9.7   460.0      8.0\n",
              "5  Guinea      8    14  9.95 -9.7   771.0      6.0\n",
              "6  Guinea      9    14  9.95 -9.7  1022.0      5.0\n",
              "7  Guinea     10    14  9.95 -9.7     NaN      NaN\n",
              "8  Guinea     11    14  9.95 -9.7     NaN      NaN\n",
              "9  Guinea     12    14  9.95 -9.7     NaN      NaN"
            ]
          },
          "metadata": {
            "tags": []
          },
          "execution_count": 36
        }
      ]
    },
    {
      "cell_type": "code",
      "metadata": {
        "id": "f_32S8coaesi",
        "colab": {
          "base_uri": "https://localhost:8080/",
          "height": 34
        },
        "outputId": "fad228dc-7b61-45ab-86de-4d05d134bd53"
      },
      "source": [
        "ebola_df.shape"
      ],
      "execution_count": null,
      "outputs": [
        {
          "output_type": "execute_result",
          "data": {
            "text/plain": [
              "(31, 6)"
            ]
          },
          "metadata": {
            "tags": []
          },
          "execution_count": 6
        }
      ]
    },
    {
      "cell_type": "markdown",
      "metadata": {
        "id": "qP3PtIAAZsBG"
      },
      "source": [
        "### <font color=\"green\">Challenges</font>"
      ]
    },
    {
      "cell_type": "code",
      "metadata": {
        "id": "awH7EcF_ZsBI",
        "colab": {
          "base_uri": "https://localhost:8080/",
          "height": 266
        },
        "outputId": "c4970dc7-3218-46e3-bba3-8a1ae79168bb"
      },
      "source": [
        "# Challenge 1\n",
        "# ---\n",
        "# From the ebola dataset, select the Guinea records with more \n",
        "# than 100 cases and sort them in descending order. \n",
        "# ---\n",
        "# \n",
        "Guinea_df = ebola_df[ebola_df.Country.isin(['Guinea'])]\n",
        "Guinea_df2 = Guinea_df[Guinea_df['Value']>100]\n",
        "Guinea_df2.sort_values(by='Value', ascending=0)"
      ],
      "execution_count": null,
      "outputs": [
        {
          "output_type": "execute_result",
          "data": {
            "text/html": [
              "<div>\n",
              "<style scoped>\n",
              "    .dataframe tbody tr th:only-of-type {\n",
              "        vertical-align: middle;\n",
              "    }\n",
              "\n",
              "    .dataframe tbody tr th {\n",
              "        vertical-align: top;\n",
              "    }\n",
              "\n",
              "    .dataframe thead th {\n",
              "        text-align: right;\n",
              "    }\n",
              "</style>\n",
              "<table border=\"1\" class=\"dataframe\">\n",
              "  <thead>\n",
              "    <tr style=\"text-align: right;\">\n",
              "      <th></th>\n",
              "      <th>Country</th>\n",
              "      <th>Month</th>\n",
              "      <th>Year</th>\n",
              "      <th>Lat</th>\n",
              "      <th>Lon</th>\n",
              "      <th>Value</th>\n",
              "    </tr>\n",
              "  </thead>\n",
              "  <tbody>\n",
              "    <tr>\n",
              "      <th>6</th>\n",
              "      <td>Guinea</td>\n",
              "      <td>9</td>\n",
              "      <td>14</td>\n",
              "      <td>9.95</td>\n",
              "      <td>-9.7</td>\n",
              "      <td>1022.0</td>\n",
              "    </tr>\n",
              "    <tr>\n",
              "      <th>5</th>\n",
              "      <td>Guinea</td>\n",
              "      <td>8</td>\n",
              "      <td>14</td>\n",
              "      <td>9.95</td>\n",
              "      <td>-9.7</td>\n",
              "      <td>771.0</td>\n",
              "    </tr>\n",
              "    <tr>\n",
              "      <th>4</th>\n",
              "      <td>Guinea</td>\n",
              "      <td>7</td>\n",
              "      <td>14</td>\n",
              "      <td>9.95</td>\n",
              "      <td>-9.7</td>\n",
              "      <td>460.0</td>\n",
              "    </tr>\n",
              "    <tr>\n",
              "      <th>3</th>\n",
              "      <td>Guinea</td>\n",
              "      <td>6</td>\n",
              "      <td>14</td>\n",
              "      <td>9.95</td>\n",
              "      <td>-9.7</td>\n",
              "      <td>413.0</td>\n",
              "    </tr>\n",
              "    <tr>\n",
              "      <th>2</th>\n",
              "      <td>Guinea</td>\n",
              "      <td>5</td>\n",
              "      <td>14</td>\n",
              "      <td>9.95</td>\n",
              "      <td>-9.7</td>\n",
              "      <td>291.0</td>\n",
              "    </tr>\n",
              "    <tr>\n",
              "      <th>1</th>\n",
              "      <td>Guinea</td>\n",
              "      <td>4</td>\n",
              "      <td>14</td>\n",
              "      <td>9.95</td>\n",
              "      <td>-9.7</td>\n",
              "      <td>224.0</td>\n",
              "    </tr>\n",
              "    <tr>\n",
              "      <th>0</th>\n",
              "      <td>Guinea</td>\n",
              "      <td>3</td>\n",
              "      <td>14</td>\n",
              "      <td>9.95</td>\n",
              "      <td>-9.7</td>\n",
              "      <td>122.0</td>\n",
              "    </tr>\n",
              "  </tbody>\n",
              "</table>\n",
              "</div>"
            ],
            "text/plain": [
              "  Country  Month  Year   Lat  Lon   Value\n",
              "6  Guinea      9    14  9.95 -9.7  1022.0\n",
              "5  Guinea      8    14  9.95 -9.7   771.0\n",
              "4  Guinea      7    14  9.95 -9.7   460.0\n",
              "3  Guinea      6    14  9.95 -9.7   413.0\n",
              "2  Guinea      5    14  9.95 -9.7   291.0\n",
              "1  Guinea      4    14  9.95 -9.7   224.0\n",
              "0  Guinea      3    14  9.95 -9.7   122.0"
            ]
          },
          "metadata": {
            "tags": []
          },
          "execution_count": 9
        }
      ]
    },
    {
      "cell_type": "code",
      "metadata": {
        "id": "aw5EjsOPZsBK",
        "colab": {
          "base_uri": "https://localhost:8080/",
          "height": 80
        },
        "outputId": "612e0eeb-68ad-416a-b598-e488f3103cbc"
      },
      "source": [
        "# Challenge 2\n",
        "# ---\n",
        "# From the banknotes dataset, find out which records had the largest \n",
        "# diagonal length? In addition, rank them by left size.\n",
        "# --- \n",
        "# Dataset url = https://bit.ly/2yT9oAU\n",
        "# ---\n",
        "# \n",
        "largest_df = banknotes_df[banknotes_df['Diagonal'] == banknotes_df['Diagonal'].max() ]\n",
        "largest_df\n",
        "\n",
        "# sorted_df = largest_df['Left'].rank(ascending = 0)\n",
        "# sorted_df\n",
        "# banknotes_df['Diagonal'].max()"
      ],
      "execution_count": null,
      "outputs": [
        {
          "output_type": "execute_result",
          "data": {
            "text/html": [
              "<div>\n",
              "<style scoped>\n",
              "    .dataframe tbody tr th:only-of-type {\n",
              "        vertical-align: middle;\n",
              "    }\n",
              "\n",
              "    .dataframe tbody tr th {\n",
              "        vertical-align: top;\n",
              "    }\n",
              "\n",
              "    .dataframe thead th {\n",
              "        text-align: right;\n",
              "    }\n",
              "</style>\n",
              "<table border=\"1\" class=\"dataframe\">\n",
              "  <thead>\n",
              "    <tr style=\"text-align: right;\">\n",
              "      <th></th>\n",
              "      <th>conterfeit</th>\n",
              "      <th>Length</th>\n",
              "      <th>Left</th>\n",
              "      <th>Right</th>\n",
              "      <th>Bottom</th>\n",
              "      <th>Top</th>\n",
              "      <th>Diagonal</th>\n",
              "    </tr>\n",
              "  </thead>\n",
              "  <tbody>\n",
              "    <tr>\n",
              "      <th>26</th>\n",
              "      <td>0</td>\n",
              "      <td>215.5</td>\n",
              "      <td>130.2</td>\n",
              "      <td>130.1</td>\n",
              "      <td>8.9</td>\n",
              "      <td>9.8</td>\n",
              "      <td>142.4</td>\n",
              "    </tr>\n",
              "  </tbody>\n",
              "</table>\n",
              "</div>"
            ],
            "text/plain": [
              "    conterfeit  Length   Left  Right  Bottom  Top  Diagonal\n",
              "26           0   215.5  130.2  130.1     8.9  9.8     142.4"
            ]
          },
          "metadata": {
            "tags": []
          },
          "execution_count": 65
        }
      ]
    },
    {
      "cell_type": "markdown",
      "metadata": {
        "id": "YC9AVuitZFD8"
      },
      "source": [
        "## 5. Aggregate Functions "
      ]
    },
    {
      "cell_type": "markdown",
      "metadata": {
        "id": "UxbUs5stZiZs"
      },
      "source": [
        "### Examples"
      ]
    },
    {
      "cell_type": "code",
      "metadata": {
        "id": "lMkqHrLdZiZv",
        "colab": {
          "base_uri": "https://localhost:8080/",
          "height": 34
        },
        "outputId": "3efe6ce5-0d9c-4ddc-ddc5-5388814249e5"
      },
      "source": [
        "# Example 1\n",
        "# ---\n",
        "# Shape\n",
        "# ---\n",
        "# How many Liberian records do we have in our ebola dataset?\n",
        "# ---\n",
        "# (records, columns)\n",
        "#\n",
        "liberia_records = ebola_df[ebola_df.Country.isin(['Liberia'])]\n",
        "liberia_records.shape\n",
        "\n",
        "# (9 records, 7 columns)"
      ],
      "execution_count": null,
      "outputs": [
        {
          "output_type": "execute_result",
          "data": {
            "text/plain": [
              "(9, 7)"
            ]
          },
          "metadata": {
            "tags": []
          },
          "execution_count": 15
        }
      ]
    },
    {
      "cell_type": "code",
      "metadata": {
        "id": "1mb9r-5uhXRb",
        "colab": {
          "base_uri": "https://localhost:8080/",
          "height": 157
        },
        "outputId": "a319a36e-3eef-4704-9ce9-10bd7e4698e8"
      },
      "source": [
        "# Example 2\n",
        "# ---\n",
        "# Count() Function\n",
        "# ---\n",
        "# How many values do we have accoss our variables in our ebola dataset?\n",
        "# ---\n",
        "#\n",
        "liberia_records = ebola_df[ebola_df.Country.isin(['Liberia'])]\n",
        "liberia_records.count()"
      ],
      "execution_count": null,
      "outputs": [
        {
          "output_type": "execute_result",
          "data": {
            "text/plain": [
              "Country    9\n",
              "Month      9\n",
              "Year       9\n",
              "Lat        9\n",
              "Lon        9\n",
              "Value      6\n",
              "Ranking    6\n",
              "dtype: int64"
            ]
          },
          "metadata": {
            "tags": []
          },
          "execution_count": 60
        }
      ]
    },
    {
      "cell_type": "code",
      "metadata": {
        "id": "fv0c4tTEZiaB",
        "colab": {
          "base_uri": "https://localhost:8080/",
          "height": 34
        },
        "outputId": "e77a4577-d841-48d5-df55-526d5693a84b"
      },
      "source": [
        "# Example 3\n",
        "# ---\n",
        "# Unique Occurrences\n",
        "# ---\n",
        "# Were all records in our ebola dataset unique?\n",
        "# ---\n",
        "# \n",
        "ebola_df[ebola_df.duplicated()].shape\n",
        "\n",
        "# Yes, there were no duplicate records"
      ],
      "execution_count": null,
      "outputs": [
        {
          "output_type": "execute_result",
          "data": {
            "text/plain": [
              "(0, 7)"
            ]
          },
          "metadata": {
            "tags": []
          },
          "execution_count": 61
        }
      ]
    },
    {
      "cell_type": "code",
      "metadata": {
        "id": "fQsRKwb1eeWB",
        "colab": {
          "base_uri": "https://localhost:8080/",
          "height": 52
        },
        "outputId": "cfe25afe-2e8d-4346-a2ab-8c4fcea23c66"
      },
      "source": [
        "# Example 4\n",
        "# ---\n",
        "# Sum\n",
        "# ---\n",
        "# How many ebola cases in Sierra Leone were reported given the ebola dataset?\n",
        "# ---\n",
        "# \n",
        "sierra_cases_sum = ebola_df[ebola_df.Country.isin(['Sierra Leone'])][['Value']].sum() \n",
        "sierra_cases_sum"
      ],
      "execution_count": null,
      "outputs": [
        {
          "output_type": "execute_result",
          "data": {
            "text/plain": [
              "Value    3978.0\n",
              "dtype: float64"
            ]
          },
          "metadata": {
            "tags": []
          },
          "execution_count": 62
        }
      ]
    },
    {
      "cell_type": "code",
      "metadata": {
        "id": "rLSxUtujZGe9",
        "colab": {
          "base_uri": "https://localhost:8080/",
          "height": 157
        },
        "outputId": "2e6e72f4-1907-40e2-d5c0-0f6b9b3f6f9d"
      },
      "source": [
        "# Example 5\n",
        "# ---\n",
        "# Minimum\n",
        "# ---\n",
        "# Which record had the least no of ebola cases?\n",
        "# ---\n",
        "# \n",
        "least_cases = ebola_df.min()\n",
        "least_cases "
      ],
      "execution_count": null,
      "outputs": [
        {
          "output_type": "execute_result",
          "data": {
            "text/plain": [
              "Country    Guinea\n",
              "Month           3\n",
              "Year           14\n",
              "Lat          6.43\n",
              "Lon        -14.45\n",
              "Value           1\n",
              "Ranking         1\n",
              "dtype: object"
            ]
          },
          "metadata": {
            "tags": []
          },
          "execution_count": 63
        }
      ]
    },
    {
      "cell_type": "code",
      "metadata": {
        "id": "u943169peXFP",
        "colab": {
          "base_uri": "https://localhost:8080/",
          "height": 157
        },
        "outputId": "342d8aae-33bd-4ec5-c38c-092abf75eefd"
      },
      "source": [
        "# Maximum\n",
        "# ---\n",
        "# Which record had the highest no of ebola cases?\n",
        "# ---\n",
        "# \n",
        "highest_cases = ebola_df.max()\n",
        "highest_cases"
      ],
      "execution_count": null,
      "outputs": [
        {
          "output_type": "execute_result",
          "data": {
            "text/plain": [
              "Country    Sierra Leone\n",
              "Month                12\n",
              "Year                 14\n",
              "Lat               17.57\n",
              "Lon                  -4\n",
              "Value              3362\n",
              "Ranking            21.5\n",
              "dtype: object"
            ]
          },
          "metadata": {
            "tags": []
          },
          "execution_count": 64
        }
      ]
    },
    {
      "cell_type": "code",
      "metadata": {
        "id": "G5-TLQHQeYsK"
      },
      "source": [
        "# Mean\n",
        "# ---\n",
        "# What was the average number of ebola cases in Sierra Leone?\n",
        "# ---\n",
        "# \n",
        "sierra_cases_avg = ebola_df[ebola_df.Country.isin(['Sierra Leone'])][['Value']].mean() \n",
        "sierra_cases_avg"
      ],
      "execution_count": null,
      "outputs": []
    },
    {
      "cell_type": "code",
      "metadata": {
        "id": "OpX6s0yueecR",
        "colab": {
          "base_uri": "https://localhost:8080/",
          "height": 52
        },
        "outputId": "29f7985c-c667-47ea-a23f-1fc033bcc2b8"
      },
      "source": [
        "# Mode\n",
        "# ---\n",
        "# What was the most frequent value in the Ebola dataset?\n",
        "# ---\n",
        "# \n",
        "frequent_values_df = ebola_df['Country'].mode() \n",
        "frequent_values_df"
      ],
      "execution_count": null,
      "outputs": [
        {
          "output_type": "execute_result",
          "data": {
            "text/plain": [
              "0    Guinea\n",
              "dtype: object"
            ]
          },
          "metadata": {
            "tags": []
          },
          "execution_count": 65
        }
      ]
    },
    {
      "cell_type": "code",
      "metadata": {
        "id": "wWpB21E9CiJn",
        "colab": {
          "base_uri": "https://localhost:8080/",
          "height": 34
        },
        "outputId": "8fcfa3e3-508f-46f7-d3d6-e30f9ab9fed3"
      },
      "source": [
        "# Median\n",
        "# ---\n",
        "# The median value of the Ebola cases.\n",
        "# ---\n",
        "# \n",
        "median_values_df = ebola_df['Value'].median() \n",
        "median_values_df"
      ],
      "execution_count": null,
      "outputs": [
        {
          "output_type": "execute_result",
          "data": {
            "text/plain": [
              "265.0"
            ]
          },
          "metadata": {
            "tags": []
          },
          "execution_count": 16
        }
      ]
    },
    {
      "cell_type": "code",
      "metadata": {
        "id": "KhVsLoBoedbc",
        "colab": {
          "base_uri": "https://localhost:8080/",
          "height": 290
        },
        "outputId": "912087ad-4105-4306-e51b-d5427a59cfcc"
      },
      "source": [
        "# Summary Statistics\n",
        "# ---\n",
        "# Create a descriptive statistics table of the given ebola dataset \n",
        "# in preparation for further analysis.\n",
        "# ---\n",
        "# \n",
        "ebola_df.describe()"
      ],
      "execution_count": null,
      "outputs": [
        {
          "output_type": "execute_result",
          "data": {
            "text/html": [
              "<div>\n",
              "<style scoped>\n",
              "    .dataframe tbody tr th:only-of-type {\n",
              "        vertical-align: middle;\n",
              "    }\n",
              "\n",
              "    .dataframe tbody tr th {\n",
              "        vertical-align: top;\n",
              "    }\n",
              "\n",
              "    .dataframe thead th {\n",
              "        text-align: right;\n",
              "    }\n",
              "</style>\n",
              "<table border=\"1\" class=\"dataframe\">\n",
              "  <thead>\n",
              "    <tr style=\"text-align: right;\">\n",
              "      <th></th>\n",
              "      <th>Month</th>\n",
              "      <th>Year</th>\n",
              "      <th>Lat</th>\n",
              "      <th>Lon</th>\n",
              "      <th>Value</th>\n",
              "      <th>Ranking</th>\n",
              "    </tr>\n",
              "  </thead>\n",
              "  <tbody>\n",
              "    <tr>\n",
              "      <th>count</th>\n",
              "      <td>31.00000</td>\n",
              "      <td>31.0</td>\n",
              "      <td>31.000000</td>\n",
              "      <td>31.000000</td>\n",
              "      <td>22.000000</td>\n",
              "      <td>22.000000</td>\n",
              "    </tr>\n",
              "    <tr>\n",
              "      <th>mean</th>\n",
              "      <td>8.16129</td>\n",
              "      <td>14.0</td>\n",
              "      <td>9.328710</td>\n",
              "      <td>-10.097097</td>\n",
              "      <td>569.772727</td>\n",
              "      <td>11.500000</td>\n",
              "    </tr>\n",
              "    <tr>\n",
              "      <th>std</th>\n",
              "      <td>2.59611</td>\n",
              "      <td>0.0</td>\n",
              "      <td>3.026781</td>\n",
              "      <td>2.163978</td>\n",
              "      <td>816.056950</td>\n",
              "      <td>6.491753</td>\n",
              "    </tr>\n",
              "    <tr>\n",
              "      <th>min</th>\n",
              "      <td>3.00000</td>\n",
              "      <td>14.0</td>\n",
              "      <td>6.430000</td>\n",
              "      <td>-14.450000</td>\n",
              "      <td>1.000000</td>\n",
              "      <td>1.000000</td>\n",
              "    </tr>\n",
              "    <tr>\n",
              "      <th>25%</th>\n",
              "      <td>6.00000</td>\n",
              "      <td>14.0</td>\n",
              "      <td>6.430000</td>\n",
              "      <td>-11.780000</td>\n",
              "      <td>38.750000</td>\n",
              "      <td>6.250000</td>\n",
              "    </tr>\n",
              "    <tr>\n",
              "      <th>50%</th>\n",
              "      <td>8.00000</td>\n",
              "      <td>14.0</td>\n",
              "      <td>8.460000</td>\n",
              "      <td>-9.700000</td>\n",
              "      <td>265.000000</td>\n",
              "      <td>11.500000</td>\n",
              "    </tr>\n",
              "    <tr>\n",
              "      <th>75%</th>\n",
              "      <td>10.00000</td>\n",
              "      <td>14.0</td>\n",
              "      <td>9.950000</td>\n",
              "      <td>-9.430000</td>\n",
              "      <td>711.500000</td>\n",
              "      <td>16.750000</td>\n",
              "    </tr>\n",
              "    <tr>\n",
              "      <th>max</th>\n",
              "      <td>12.00000</td>\n",
              "      <td>14.0</td>\n",
              "      <td>17.570000</td>\n",
              "      <td>-4.000000</td>\n",
              "      <td>3362.000000</td>\n",
              "      <td>21.500000</td>\n",
              "    </tr>\n",
              "  </tbody>\n",
              "</table>\n",
              "</div>"
            ],
            "text/plain": [
              "          Month  Year        Lat        Lon        Value    Ranking\n",
              "count  31.00000  31.0  31.000000  31.000000    22.000000  22.000000\n",
              "mean    8.16129  14.0   9.328710 -10.097097   569.772727  11.500000\n",
              "std     2.59611   0.0   3.026781   2.163978   816.056950   6.491753\n",
              "min     3.00000  14.0   6.430000 -14.450000     1.000000   1.000000\n",
              "25%     6.00000  14.0   6.430000 -11.780000    38.750000   6.250000\n",
              "50%     8.00000  14.0   8.460000  -9.700000   265.000000  11.500000\n",
              "75%    10.00000  14.0   9.950000  -9.430000   711.500000  16.750000\n",
              "max    12.00000  14.0  17.570000  -4.000000  3362.000000  21.500000"
            ]
          },
          "metadata": {
            "tags": []
          },
          "execution_count": 66
        }
      ]
    },
    {
      "cell_type": "markdown",
      "metadata": {
        "id": "1mUNWEtSZsi9"
      },
      "source": [
        "### <font color=\"green\">Challenges</font>"
      ]
    },
    {
      "cell_type": "code",
      "metadata": {
        "id": "R-G7d9HyZsi_",
        "colab": {
          "base_uri": "https://localhost:8080/"
        },
        "outputId": "8762ed1b-a3ea-43bb-d88a-cf69d1aa1cc1"
      },
      "source": [
        "# Challenge 1\n",
        "# ---\n",
        "# How many records can be found in the following insurance dataset?\n",
        "# ---\n",
        "# Insurance Dataset url = https://bit.ly/2y5CRYc\n",
        "# ---\n",
        "# This dataset contains anonymised patient data.\n",
        "# ---\n",
        "# OUR CODE GOES BELOW\n",
        "# \n",
        "insurance_df = pd.read_csv(\"https://bit.ly/2y5CRYc\")\n",
        "insurance_df.shape"
      ],
      "execution_count": null,
      "outputs": [
        {
          "output_type": "execute_result",
          "data": {
            "text/plain": [
              "(1338, 7)"
            ]
          },
          "metadata": {
            "tags": []
          },
          "execution_count": 13
        }
      ]
    },
    {
      "cell_type": "code",
      "metadata": {
        "id": "dl1KEjeoZsjB",
        "colab": {
          "base_uri": "https://localhost:8080/"
        },
        "outputId": "d8cb705c-554f-4d98-caba-73084ed6edef"
      },
      "source": [
        "# Challenge 2\n",
        "# ---\n",
        "# Are there any duplicates in the insurance dataset?\n",
        "# ---\n",
        "# OUR CODE GOES BELOW\n",
        "insurance_df[insurance_df.duplicated()].shape"
      ],
      "execution_count": null,
      "outputs": [
        {
          "output_type": "execute_result",
          "data": {
            "text/plain": [
              "(1, 7)"
            ]
          },
          "metadata": {
            "tags": []
          },
          "execution_count": 16
        }
      ]
    },
    {
      "cell_type": "code",
      "metadata": {
        "id": "vDj1GABnZsjD",
        "colab": {
          "base_uri": "https://localhost:8080/"
        },
        "outputId": "47446c4f-d865-4bb1-f670-250af1a4635a"
      },
      "source": [
        "# Challenge 3\n",
        "# ---\n",
        "# Which regions did the patients come from?\n",
        "# ---\n",
        "# OUR CODE GOES BELOW\n",
        "insurance_df ['region'].value_counts()\n"
      ],
      "execution_count": null,
      "outputs": [
        {
          "output_type": "execute_result",
          "data": {
            "text/plain": [
              "southeast    364\n",
              "southwest    325\n",
              "northwest    325\n",
              "northeast    324\n",
              "Name: region, dtype: int64"
            ]
          },
          "metadata": {
            "tags": []
          },
          "execution_count": 24
        }
      ]
    },
    {
      "cell_type": "code",
      "metadata": {
        "id": "LhekledajBoN"
      },
      "source": [
        ""
      ],
      "execution_count": null,
      "outputs": []
    },
    {
      "cell_type": "code",
      "metadata": {
        "id": "TAtrNHs824ay",
        "colab": {
          "base_uri": "https://localhost:8080/"
        },
        "outputId": "ac9b8158-094d-4854-9c6b-8b1562ff66fd"
      },
      "source": [
        "# Challenge 4\n",
        "# ---\n",
        "# What was the highest bmi recorded for patients from northwest and southwest regions?\n",
        "# ---\n",
        "# OUR CODE GOES BELOW\n",
        "# \n",
        "# combined_df = insurance_df[(insurance_df['region']=='northwest' )| (insurance_df['region']=='southwest') ]\n",
        "# combined_df['bmi'].max()\n",
        "reg = ['northwest','southwest']\n",
        "max = insurance_df[insurance_df.region.isin(reg)]\n",
        "max.max()"
      ],
      "execution_count": null,
      "outputs": [
        {
          "output_type": "execute_result",
          "data": {
            "text/plain": [
              "age                64\n",
              "sex              male\n",
              "bmi              47.6\n",
              "children            5\n",
              "smoker            yes\n",
              "region      southwest\n",
              "expenses      60021.4\n",
              "dtype: object"
            ]
          },
          "metadata": {
            "tags": []
          },
          "execution_count": 36
        }
      ]
    },
    {
      "cell_type": "code",
      "metadata": {
        "id": "tsloZ4Bo24P1",
        "colab": {
          "base_uri": "https://localhost:8080/"
        },
        "outputId": "469d4bb7-0a42-433f-e15a-e9023abc2238"
      },
      "source": [
        "# Challenge 5\n",
        "# ---\n",
        "# What was the youngest age of a patient?\n",
        "# ---\n",
        "# OUR CODE GOES BELOW\n",
        "#\n",
        "insurance_df['age'].min()"
      ],
      "execution_count": null,
      "outputs": [
        {
          "output_type": "execute_result",
          "data": {
            "text/plain": [
              "18"
            ]
          },
          "metadata": {
            "tags": []
          },
          "execution_count": 38
        }
      ]
    },
    {
      "cell_type": "code",
      "metadata": {
        "id": "XffQqHOd24KD",
        "colab": {
          "base_uri": "https://localhost:8080/"
        },
        "outputId": "2ed57d11-50a6-468e-cd4e-54bbca500582"
      },
      "source": [
        "# Challenge 6\n",
        "# ---\n",
        "# What was the average bmi recorded for patients above 50 years old?\n",
        "# ---\n",
        "# OUR CODE GOES BELOW\n",
        "#\n",
        "insurance_df[insurance_df['age']>50][['bmi']].mean()"
      ],
      "execution_count": null,
      "outputs": [
        {
          "output_type": "execute_result",
          "data": {
            "text/plain": [
              "bmi    31.706461\n",
              "dtype: float64"
            ]
          },
          "metadata": {
            "tags": []
          },
          "execution_count": 39
        }
      ]
    },
    {
      "cell_type": "code",
      "metadata": {
        "id": "2IULqwYi235v",
        "colab": {
          "base_uri": "https://localhost:8080/",
          "height": 139
        },
        "outputId": "40046358-3c65-437a-f6aa-4afb7c8e9416"
      },
      "source": [
        "# Challenge 7\n",
        "# ---\n",
        "# How much was spent collectively by male and female patients?\n",
        "# ---\n",
        "# OUR CODE GOES BELOW\n",
        "#\n",
        "insuarance_df.groupby(['sex'])[['expenses']].sum()"
      ],
      "execution_count": null,
      "outputs": [
        {
          "output_type": "execute_result",
          "data": {
            "text/html": [
              "<div>\n",
              "<style scoped>\n",
              "    .dataframe tbody tr th:only-of-type {\n",
              "        vertical-align: middle;\n",
              "    }\n",
              "\n",
              "    .dataframe tbody tr th {\n",
              "        vertical-align: top;\n",
              "    }\n",
              "\n",
              "    .dataframe thead th {\n",
              "        text-align: right;\n",
              "    }\n",
              "</style>\n",
              "<table border=\"1\" class=\"dataframe\">\n",
              "  <thead>\n",
              "    <tr style=\"text-align: right;\">\n",
              "      <th></th>\n",
              "      <th>expenses</th>\n",
              "    </tr>\n",
              "    <tr>\n",
              "      <th>sex</th>\n",
              "      <th></th>\n",
              "    </tr>\n",
              "  </thead>\n",
              "  <tbody>\n",
              "    <tr>\n",
              "      <th>female</th>\n",
              "      <td>8321061.23</td>\n",
              "    </tr>\n",
              "    <tr>\n",
              "      <th>male</th>\n",
              "      <td>9434763.96</td>\n",
              "    </tr>\n",
              "  </tbody>\n",
              "</table>\n",
              "</div>"
            ],
            "text/plain": [
              "          expenses\n",
              "sex               \n",
              "female  8321061.23\n",
              "male    9434763.96"
            ]
          },
          "metadata": {
            "tags": []
          },
          "execution_count": 39
        }
      ]
    },
    {
      "cell_type": "markdown",
      "metadata": {
        "id": "MojDFr9UZH05"
      },
      "source": [
        "## 6. Grouping"
      ]
    },
    {
      "cell_type": "markdown",
      "metadata": {
        "id": "iPIq_mwkZjUS"
      },
      "source": [
        "### Examples"
      ]
    },
    {
      "cell_type": "code",
      "metadata": {
        "id": "1NUSC6t1zj1j"
      },
      "source": [
        "import pandas as pd\n"
      ],
      "execution_count": null,
      "outputs": []
    },
    {
      "cell_type": "code",
      "metadata": {
        "id": "06M0UADbE13H",
        "colab": {
          "base_uri": "https://localhost:8080/",
          "height": 204
        },
        "outputId": "28ed94b2-6184-43f5-dc73-c1d2ab1cdc0e"
      },
      "source": [
        "# Let's first load and preview the dataset that we will need for our examples \n",
        "# ---\n",
        "#\n",
        "insurance_df = pd.read_csv('https://bit.ly/2y5CRYc')\n",
        "insurance_df.head()"
      ],
      "execution_count": null,
      "outputs": [
        {
          "output_type": "execute_result",
          "data": {
            "text/html": [
              "<div>\n",
              "<style scoped>\n",
              "    .dataframe tbody tr th:only-of-type {\n",
              "        vertical-align: middle;\n",
              "    }\n",
              "\n",
              "    .dataframe tbody tr th {\n",
              "        vertical-align: top;\n",
              "    }\n",
              "\n",
              "    .dataframe thead th {\n",
              "        text-align: right;\n",
              "    }\n",
              "</style>\n",
              "<table border=\"1\" class=\"dataframe\">\n",
              "  <thead>\n",
              "    <tr style=\"text-align: right;\">\n",
              "      <th></th>\n",
              "      <th>age</th>\n",
              "      <th>sex</th>\n",
              "      <th>bmi</th>\n",
              "      <th>children</th>\n",
              "      <th>smoker</th>\n",
              "      <th>region</th>\n",
              "      <th>expenses</th>\n",
              "    </tr>\n",
              "  </thead>\n",
              "  <tbody>\n",
              "    <tr>\n",
              "      <th>0</th>\n",
              "      <td>19</td>\n",
              "      <td>female</td>\n",
              "      <td>27.9</td>\n",
              "      <td>0</td>\n",
              "      <td>yes</td>\n",
              "      <td>southwest</td>\n",
              "      <td>16884.92</td>\n",
              "    </tr>\n",
              "    <tr>\n",
              "      <th>1</th>\n",
              "      <td>18</td>\n",
              "      <td>male</td>\n",
              "      <td>33.8</td>\n",
              "      <td>1</td>\n",
              "      <td>no</td>\n",
              "      <td>southeast</td>\n",
              "      <td>1725.55</td>\n",
              "    </tr>\n",
              "    <tr>\n",
              "      <th>2</th>\n",
              "      <td>28</td>\n",
              "      <td>male</td>\n",
              "      <td>33.0</td>\n",
              "      <td>3</td>\n",
              "      <td>no</td>\n",
              "      <td>southeast</td>\n",
              "      <td>4449.46</td>\n",
              "    </tr>\n",
              "    <tr>\n",
              "      <th>3</th>\n",
              "      <td>33</td>\n",
              "      <td>male</td>\n",
              "      <td>22.7</td>\n",
              "      <td>0</td>\n",
              "      <td>no</td>\n",
              "      <td>northwest</td>\n",
              "      <td>21984.47</td>\n",
              "    </tr>\n",
              "    <tr>\n",
              "      <th>4</th>\n",
              "      <td>32</td>\n",
              "      <td>male</td>\n",
              "      <td>28.9</td>\n",
              "      <td>0</td>\n",
              "      <td>no</td>\n",
              "      <td>northwest</td>\n",
              "      <td>3866.86</td>\n",
              "    </tr>\n",
              "  </tbody>\n",
              "</table>\n",
              "</div>"
            ],
            "text/plain": [
              "   age     sex   bmi  children smoker     region  expenses\n",
              "0   19  female  27.9         0    yes  southwest  16884.92\n",
              "1   18    male  33.8         1     no  southeast   1725.55\n",
              "2   28    male  33.0         3     no  southeast   4449.46\n",
              "3   33    male  22.7         0     no  northwest  21984.47\n",
              "4   32    male  28.9         0     no  northwest   3866.86"
            ]
          },
          "metadata": {
            "tags": []
          },
          "execution_count": 3
        }
      ]
    },
    {
      "cell_type": "code",
      "metadata": {
        "id": "OO1t8mqJZjUT",
        "colab": {
          "base_uri": "https://localhost:8080/",
          "height": 199
        },
        "outputId": "986f3447-45c9-4878-bf7c-152f52f48213"
      },
      "source": [
        "# Example 1\n",
        "# ---\n",
        "# The groupby() function is used to split the data into groups based on some criteria.\n",
        "# ---\n",
        "# We will start by grouping by a single column and including an aggregate function as shown.\n",
        "# ---\n",
        "# NB: We will not store any our dataframe in a variable for ease of\n",
        "# performing computations\n",
        "# ---\n",
        "#\n",
        "insurance_df.groupby('region').mean()"
      ],
      "execution_count": null,
      "outputs": [
        {
          "output_type": "execute_result",
          "data": {
            "text/html": [
              "<div>\n",
              "<style scoped>\n",
              "    .dataframe tbody tr th:only-of-type {\n",
              "        vertical-align: middle;\n",
              "    }\n",
              "\n",
              "    .dataframe tbody tr th {\n",
              "        vertical-align: top;\n",
              "    }\n",
              "\n",
              "    .dataframe thead th {\n",
              "        text-align: right;\n",
              "    }\n",
              "</style>\n",
              "<table border=\"1\" class=\"dataframe\">\n",
              "  <thead>\n",
              "    <tr style=\"text-align: right;\">\n",
              "      <th></th>\n",
              "      <th>age</th>\n",
              "      <th>bmi</th>\n",
              "      <th>children</th>\n",
              "      <th>expenses</th>\n",
              "    </tr>\n",
              "    <tr>\n",
              "      <th>region</th>\n",
              "      <th></th>\n",
              "      <th></th>\n",
              "      <th></th>\n",
              "      <th></th>\n",
              "    </tr>\n",
              "  </thead>\n",
              "  <tbody>\n",
              "    <tr>\n",
              "      <th>northeast</th>\n",
              "      <td>39.268519</td>\n",
              "      <td>29.176235</td>\n",
              "      <td>1.046296</td>\n",
              "      <td>13406.384691</td>\n",
              "    </tr>\n",
              "    <tr>\n",
              "      <th>northwest</th>\n",
              "      <td>39.196923</td>\n",
              "      <td>29.201846</td>\n",
              "      <td>1.147692</td>\n",
              "      <td>12417.575169</td>\n",
              "    </tr>\n",
              "    <tr>\n",
              "      <th>southeast</th>\n",
              "      <td>38.939560</td>\n",
              "      <td>33.359341</td>\n",
              "      <td>1.049451</td>\n",
              "      <td>14735.411538</td>\n",
              "    </tr>\n",
              "    <tr>\n",
              "      <th>southwest</th>\n",
              "      <td>39.455385</td>\n",
              "      <td>30.596615</td>\n",
              "      <td>1.141538</td>\n",
              "      <td>12346.937908</td>\n",
              "    </tr>\n",
              "  </tbody>\n",
              "</table>\n",
              "</div>"
            ],
            "text/plain": [
              "                 age        bmi  children      expenses\n",
              "region                                                 \n",
              "northeast  39.268519  29.176235  1.046296  13406.384691\n",
              "northwest  39.196923  29.201846  1.147692  12417.575169\n",
              "southeast  38.939560  33.359341  1.049451  14735.411538\n",
              "southwest  39.455385  30.596615  1.141538  12346.937908"
            ]
          },
          "metadata": {
            "tags": []
          },
          "execution_count": 41
        }
      ]
    },
    {
      "cell_type": "code",
      "metadata": {
        "id": "LlsRE01jPsVi",
        "colab": {
          "base_uri": "https://localhost:8080/",
          "height": 139
        },
        "outputId": "31189aec-7d49-4049-de55-4902677dc404"
      },
      "source": [
        "# Example 2\n",
        "# ---\n",
        "# We can get the first entry for each gender by doing the following\n",
        "# ---\n",
        "# NB: You can also get the last one too using last()\n",
        "# ---\n",
        "# \n",
        "insurance_df.groupby('sex').first()"
      ],
      "execution_count": null,
      "outputs": [
        {
          "output_type": "execute_result",
          "data": {
            "text/html": [
              "<div>\n",
              "<style scoped>\n",
              "    .dataframe tbody tr th:only-of-type {\n",
              "        vertical-align: middle;\n",
              "    }\n",
              "\n",
              "    .dataframe tbody tr th {\n",
              "        vertical-align: top;\n",
              "    }\n",
              "\n",
              "    .dataframe thead th {\n",
              "        text-align: right;\n",
              "    }\n",
              "</style>\n",
              "<table border=\"1\" class=\"dataframe\">\n",
              "  <thead>\n",
              "    <tr style=\"text-align: right;\">\n",
              "      <th></th>\n",
              "      <th>age</th>\n",
              "      <th>bmi</th>\n",
              "      <th>children</th>\n",
              "      <th>smoker</th>\n",
              "      <th>region</th>\n",
              "      <th>expenses</th>\n",
              "    </tr>\n",
              "    <tr>\n",
              "      <th>sex</th>\n",
              "      <th></th>\n",
              "      <th></th>\n",
              "      <th></th>\n",
              "      <th></th>\n",
              "      <th></th>\n",
              "      <th></th>\n",
              "    </tr>\n",
              "  </thead>\n",
              "  <tbody>\n",
              "    <tr>\n",
              "      <th>female</th>\n",
              "      <td>19</td>\n",
              "      <td>27.9</td>\n",
              "      <td>0</td>\n",
              "      <td>yes</td>\n",
              "      <td>southwest</td>\n",
              "      <td>16884.92</td>\n",
              "    </tr>\n",
              "    <tr>\n",
              "      <th>male</th>\n",
              "      <td>18</td>\n",
              "      <td>33.8</td>\n",
              "      <td>1</td>\n",
              "      <td>no</td>\n",
              "      <td>southeast</td>\n",
              "      <td>1725.55</td>\n",
              "    </tr>\n",
              "  </tbody>\n",
              "</table>\n",
              "</div>"
            ],
            "text/plain": [
              "        age   bmi  children smoker     region  expenses\n",
              "sex                                                    \n",
              "female   19  27.9         0    yes  southwest  16884.92\n",
              "male     18  33.8         1     no  southeast   1725.55"
            ]
          },
          "metadata": {
            "tags": []
          },
          "execution_count": 42
        }
      ]
    },
    {
      "cell_type": "code",
      "metadata": {
        "id": "EbK46keMM8ny",
        "colab": {
          "base_uri": "https://localhost:8080/",
          "height": 111
        },
        "outputId": "d91bd03b-fcdc-4597-874a-1d9d59c848d7"
      },
      "source": [
        "# Example 3\n",
        "# ---\n",
        "# We can group a single column by another column then apply an aggregate function as shown\n",
        "# ---\n",
        "# \n",
        "#insurance_df['expenses'].groupby([insurance_df['sex']]).sum()\n",
        "\n",
        "# Method 2\n",
        "# ---\n",
        "# NB: The groupby output will have an index or multi-index on rows corresponding \n",
        "# to our chosen grouping variables. To avoid setting this index, \n",
        "# we pass “as_index = False” to the groupby operation\n",
        "# ---\n",
        "insurance_df.groupby('sex', as_index = False)['expenses'].sum()"
      ],
      "execution_count": null,
      "outputs": [
        {
          "output_type": "execute_result",
          "data": {
            "text/html": [
              "<div>\n",
              "<style scoped>\n",
              "    .dataframe tbody tr th:only-of-type {\n",
              "        vertical-align: middle;\n",
              "    }\n",
              "\n",
              "    .dataframe tbody tr th {\n",
              "        vertical-align: top;\n",
              "    }\n",
              "\n",
              "    .dataframe thead th {\n",
              "        text-align: right;\n",
              "    }\n",
              "</style>\n",
              "<table border=\"1\" class=\"dataframe\">\n",
              "  <thead>\n",
              "    <tr style=\"text-align: right;\">\n",
              "      <th></th>\n",
              "      <th>sex</th>\n",
              "      <th>expenses</th>\n",
              "    </tr>\n",
              "  </thead>\n",
              "  <tbody>\n",
              "    <tr>\n",
              "      <th>0</th>\n",
              "      <td>female</td>\n",
              "      <td>8321061.23</td>\n",
              "    </tr>\n",
              "    <tr>\n",
              "      <th>1</th>\n",
              "      <td>male</td>\n",
              "      <td>9434763.96</td>\n",
              "    </tr>\n",
              "  </tbody>\n",
              "</table>\n",
              "</div>"
            ],
            "text/plain": [
              "      sex    expenses\n",
              "0  female  8321061.23\n",
              "1    male  9434763.96"
            ]
          },
          "metadata": {
            "tags": []
          },
          "execution_count": 4
        }
      ]
    },
    {
      "cell_type": "code",
      "metadata": {
        "id": "e2HYu24NOb3B",
        "colab": {
          "base_uri": "https://localhost:8080/",
          "height": 122
        },
        "outputId": "0928ef10-5768-4582-d0eb-396029a2a04f"
      },
      "source": [
        "# Example 4\n",
        "# ---\n",
        "# We can group the region column by another column i.e. bmi then apply an aggregate function\n",
        "# as shown\n",
        "# ---\n",
        "#\n",
        "insurance_df['bmi'].groupby([insurance_df['region']]).mean()\n",
        "\n",
        "# Method 2\n",
        "# ---\n",
        "# insurance_df.groupby('region', as_index = False)['bmi'].mean()"
      ],
      "execution_count": null,
      "outputs": [
        {
          "output_type": "execute_result",
          "data": {
            "text/plain": [
              "region\n",
              "northeast    29.176235\n",
              "northwest    29.201846\n",
              "southeast    33.359341\n",
              "southwest    30.596615\n",
              "Name: bmi, dtype: float64"
            ]
          },
          "metadata": {
            "tags": []
          },
          "execution_count": 45
        }
      ]
    },
    {
      "cell_type": "code",
      "metadata": {
        "id": "KlZPbe_wP_YW",
        "colab": {
          "base_uri": "https://localhost:8080/",
          "height": 199
        },
        "outputId": "dbb702c1-bf5d-43f2-dca1-8074f3d8e802"
      },
      "source": [
        "# Example 5\n",
        "# ---\n",
        "# We can create a summary statistical table as shown below\n",
        "# ---\n",
        "insurance_df['expenses'].groupby([insurance_df['region']]).describe()\n",
        "\n",
        "# Method 2\n",
        "# ---\n",
        "# insurance_df.groupby('region', as_index = False)['expenses'].describe()"
      ],
      "execution_count": null,
      "outputs": [
        {
          "output_type": "execute_result",
          "data": {
            "text/html": [
              "<div>\n",
              "<style scoped>\n",
              "    .dataframe tbody tr th:only-of-type {\n",
              "        vertical-align: middle;\n",
              "    }\n",
              "\n",
              "    .dataframe tbody tr th {\n",
              "        vertical-align: top;\n",
              "    }\n",
              "\n",
              "    .dataframe thead th {\n",
              "        text-align: right;\n",
              "    }\n",
              "</style>\n",
              "<table border=\"1\" class=\"dataframe\">\n",
              "  <thead>\n",
              "    <tr style=\"text-align: right;\">\n",
              "      <th></th>\n",
              "      <th>count</th>\n",
              "      <th>mean</th>\n",
              "      <th>std</th>\n",
              "      <th>min</th>\n",
              "      <th>25%</th>\n",
              "      <th>50%</th>\n",
              "      <th>75%</th>\n",
              "      <th>max</th>\n",
              "    </tr>\n",
              "    <tr>\n",
              "      <th>region</th>\n",
              "      <th></th>\n",
              "      <th></th>\n",
              "      <th></th>\n",
              "      <th></th>\n",
              "      <th></th>\n",
              "      <th></th>\n",
              "      <th></th>\n",
              "      <th></th>\n",
              "    </tr>\n",
              "  </thead>\n",
              "  <tbody>\n",
              "    <tr>\n",
              "      <th>northeast</th>\n",
              "      <td>324.0</td>\n",
              "      <td>13406.384691</td>\n",
              "      <td>11255.802916</td>\n",
              "      <td>1694.80</td>\n",
              "      <td>5194.3225</td>\n",
              "      <td>10057.655</td>\n",
              "      <td>16687.3650</td>\n",
              "      <td>58571.07</td>\n",
              "    </tr>\n",
              "    <tr>\n",
              "      <th>northwest</th>\n",
              "      <td>325.0</td>\n",
              "      <td>12417.575169</td>\n",
              "      <td>11072.276880</td>\n",
              "      <td>1621.34</td>\n",
              "      <td>4719.7400</td>\n",
              "      <td>8965.800</td>\n",
              "      <td>14711.7400</td>\n",
              "      <td>60021.40</td>\n",
              "    </tr>\n",
              "    <tr>\n",
              "      <th>southeast</th>\n",
              "      <td>364.0</td>\n",
              "      <td>14735.411538</td>\n",
              "      <td>13971.098797</td>\n",
              "      <td>1121.87</td>\n",
              "      <td>4440.8850</td>\n",
              "      <td>9294.130</td>\n",
              "      <td>19526.2875</td>\n",
              "      <td>63770.43</td>\n",
              "    </tr>\n",
              "    <tr>\n",
              "      <th>southwest</th>\n",
              "      <td>325.0</td>\n",
              "      <td>12346.937908</td>\n",
              "      <td>11557.179033</td>\n",
              "      <td>1241.57</td>\n",
              "      <td>4751.0700</td>\n",
              "      <td>8798.590</td>\n",
              "      <td>13462.5200</td>\n",
              "      <td>52590.83</td>\n",
              "    </tr>\n",
              "  </tbody>\n",
              "</table>\n",
              "</div>"
            ],
            "text/plain": [
              "           count          mean           std  ...        50%         75%       max\n",
              "region                                        ...                                 \n",
              "northeast  324.0  13406.384691  11255.802916  ...  10057.655  16687.3650  58571.07\n",
              "northwest  325.0  12417.575169  11072.276880  ...   8965.800  14711.7400  60021.40\n",
              "southeast  364.0  14735.411538  13971.098797  ...   9294.130  19526.2875  63770.43\n",
              "southwest  325.0  12346.937908  11557.179033  ...   8798.590  13462.5200  52590.83\n",
              "\n",
              "[4 rows x 8 columns]"
            ]
          },
          "metadata": {
            "tags": []
          },
          "execution_count": 46
        }
      ]
    },
    {
      "cell_type": "code",
      "metadata": {
        "id": "-pjNXDxMQg5W",
        "colab": {
          "base_uri": "https://localhost:8080/",
          "height": 122
        },
        "outputId": "222b773e-7915-4242-fad7-51515093cb48"
      },
      "source": [
        "# Example 6\n",
        "# ---\n",
        "# Further seeing how we can group a column by another column as shown \n",
        "# \n",
        "insurance_df['children'].groupby([insurance_df['region']]).sum()\n",
        "\n",
        "# Method 2\n",
        "# ---\n",
        "#\n",
        "# insurance_df.groupby('region', as_index = False)['children'].sum()"
      ],
      "execution_count": null,
      "outputs": [
        {
          "output_type": "execute_result",
          "data": {
            "text/plain": [
              "region\n",
              "northeast    339\n",
              "northwest    373\n",
              "southeast    382\n",
              "southwest    371\n",
              "Name: children, dtype: int64"
            ]
          },
          "metadata": {
            "tags": []
          },
          "execution_count": 47
        }
      ]
    },
    {
      "cell_type": "code",
      "metadata": {
        "id": "5JiJ-exNX0Uk",
        "colab": {
          "base_uri": "https://localhost:8080/",
          "height": 202
        },
        "outputId": "72a21f4f-486f-4914-e715-9dd2cafeda37"
      },
      "source": [
        "# Example 7\n",
        "# ---\n",
        "# Applying multiple aggregate functions after grouping a column by another column\n",
        "# ---\n",
        "# \n",
        "#insurance_df['expenses'].groupby([insurance_df['region']]).agg([min, max, sum])\n",
        "\n",
        "# Method 2\n",
        "insurance_df.groupby(['region'], as_index = False).agg({'expenses': [min, max, sum] })"
      ],
      "execution_count": null,
      "outputs": [
        {
          "output_type": "execute_result",
          "data": {
            "text/html": [
              "<div>\n",
              "<style scoped>\n",
              "    .dataframe tbody tr th:only-of-type {\n",
              "        vertical-align: middle;\n",
              "    }\n",
              "\n",
              "    .dataframe tbody tr th {\n",
              "        vertical-align: top;\n",
              "    }\n",
              "\n",
              "    .dataframe thead tr th {\n",
              "        text-align: left;\n",
              "    }\n",
              "</style>\n",
              "<table border=\"1\" class=\"dataframe\">\n",
              "  <thead>\n",
              "    <tr>\n",
              "      <th></th>\n",
              "      <th>region</th>\n",
              "      <th colspan=\"3\" halign=\"left\">expenses</th>\n",
              "    </tr>\n",
              "    <tr>\n",
              "      <th></th>\n",
              "      <th></th>\n",
              "      <th>min</th>\n",
              "      <th>max</th>\n",
              "      <th>sum</th>\n",
              "    </tr>\n",
              "  </thead>\n",
              "  <tbody>\n",
              "    <tr>\n",
              "      <th>0</th>\n",
              "      <td>northeast</td>\n",
              "      <td>1694.80</td>\n",
              "      <td>58571.07</td>\n",
              "      <td>4343668.64</td>\n",
              "    </tr>\n",
              "    <tr>\n",
              "      <th>1</th>\n",
              "      <td>northwest</td>\n",
              "      <td>1621.34</td>\n",
              "      <td>60021.40</td>\n",
              "      <td>4035711.93</td>\n",
              "    </tr>\n",
              "    <tr>\n",
              "      <th>2</th>\n",
              "      <td>southeast</td>\n",
              "      <td>1121.87</td>\n",
              "      <td>63770.43</td>\n",
              "      <td>5363689.80</td>\n",
              "    </tr>\n",
              "    <tr>\n",
              "      <th>3</th>\n",
              "      <td>southwest</td>\n",
              "      <td>1241.57</td>\n",
              "      <td>52590.83</td>\n",
              "      <td>4012754.82</td>\n",
              "    </tr>\n",
              "  </tbody>\n",
              "</table>\n",
              "</div>"
            ],
            "text/plain": [
              "      region expenses                      \n",
              "                  min       max         sum\n",
              "0  northeast  1694.80  58571.07  4343668.64\n",
              "1  northwest  1621.34  60021.40  4035711.93\n",
              "2  southeast  1121.87  63770.43  5363689.80\n",
              "3  southwest  1241.57  52590.83  4012754.82"
            ]
          },
          "metadata": {
            "tags": []
          },
          "execution_count": 22
        }
      ]
    },
    {
      "cell_type": "code",
      "metadata": {
        "id": "dw7F3D8-Z7rQ",
        "colab": {
          "base_uri": "https://localhost:8080/",
          "height": 325
        },
        "outputId": "2ce4635f-5964-45f9-8c73-3f1717c63607"
      },
      "source": [
        "# Example 8\n",
        "# ---\n",
        "# We can also apply multiple aggregate functions after grouping a column by another column\n",
        "# ---\n",
        "# \n",
        "insurance_df.groupby(['region', 'sex'], as_index=False).agg({'expenses': ['min', 'max', 'sum'] })"
      ],
      "execution_count": null,
      "outputs": [
        {
          "output_type": "execute_result",
          "data": {
            "text/html": [
              "<div>\n",
              "<style scoped>\n",
              "    .dataframe tbody tr th:only-of-type {\n",
              "        vertical-align: middle;\n",
              "    }\n",
              "\n",
              "    .dataframe tbody tr th {\n",
              "        vertical-align: top;\n",
              "    }\n",
              "\n",
              "    .dataframe thead tr th {\n",
              "        text-align: left;\n",
              "    }\n",
              "</style>\n",
              "<table border=\"1\" class=\"dataframe\">\n",
              "  <thead>\n",
              "    <tr>\n",
              "      <th></th>\n",
              "      <th>region</th>\n",
              "      <th>sex</th>\n",
              "      <th colspan=\"3\" halign=\"left\">expenses</th>\n",
              "    </tr>\n",
              "    <tr>\n",
              "      <th></th>\n",
              "      <th></th>\n",
              "      <th></th>\n",
              "      <th>min</th>\n",
              "      <th>max</th>\n",
              "      <th>sum</th>\n",
              "    </tr>\n",
              "  </thead>\n",
              "  <tbody>\n",
              "    <tr>\n",
              "      <th>0</th>\n",
              "      <td>northeast</td>\n",
              "      <td>female</td>\n",
              "      <td>2196.47</td>\n",
              "      <td>58571.07</td>\n",
              "      <td>2085465.70</td>\n",
              "    </tr>\n",
              "    <tr>\n",
              "      <th>1</th>\n",
              "      <td>northeast</td>\n",
              "      <td>male</td>\n",
              "      <td>1694.80</td>\n",
              "      <td>48549.18</td>\n",
              "      <td>2258202.94</td>\n",
              "    </tr>\n",
              "    <tr>\n",
              "      <th>2</th>\n",
              "      <td>northwest</td>\n",
              "      <td>female</td>\n",
              "      <td>2117.34</td>\n",
              "      <td>55135.40</td>\n",
              "      <td>2046698.72</td>\n",
              "    </tr>\n",
              "    <tr>\n",
              "      <th>3</th>\n",
              "      <td>northwest</td>\n",
              "      <td>male</td>\n",
              "      <td>1621.34</td>\n",
              "      <td>60021.40</td>\n",
              "      <td>1989013.21</td>\n",
              "    </tr>\n",
              "    <tr>\n",
              "      <th>4</th>\n",
              "      <td>southeast</td>\n",
              "      <td>female</td>\n",
              "      <td>1607.51</td>\n",
              "      <td>63770.43</td>\n",
              "      <td>2362442.12</td>\n",
              "    </tr>\n",
              "    <tr>\n",
              "      <th>5</th>\n",
              "      <td>southeast</td>\n",
              "      <td>male</td>\n",
              "      <td>1121.87</td>\n",
              "      <td>62592.87</td>\n",
              "      <td>3001247.68</td>\n",
              "    </tr>\n",
              "    <tr>\n",
              "      <th>6</th>\n",
              "      <td>southwest</td>\n",
              "      <td>female</td>\n",
              "      <td>1727.79</td>\n",
              "      <td>48824.45</td>\n",
              "      <td>1826454.69</td>\n",
              "    </tr>\n",
              "    <tr>\n",
              "      <th>7</th>\n",
              "      <td>southwest</td>\n",
              "      <td>male</td>\n",
              "      <td>1241.57</td>\n",
              "      <td>52590.83</td>\n",
              "      <td>2186300.13</td>\n",
              "    </tr>\n",
              "  </tbody>\n",
              "</table>\n",
              "</div>"
            ],
            "text/plain": [
              "      region     sex expenses                      \n",
              "                          min       max         sum\n",
              "0  northeast  female  2196.47  58571.07  2085465.70\n",
              "1  northeast    male  1694.80  48549.18  2258202.94\n",
              "2  northwest  female  2117.34  55135.40  2046698.72\n",
              "3  northwest    male  1621.34  60021.40  1989013.21\n",
              "4  southeast  female  1607.51  63770.43  2362442.12\n",
              "5  southeast    male  1121.87  62592.87  3001247.68\n",
              "6  southwest  female  1727.79  48824.45  1826454.69\n",
              "7  southwest    male  1241.57  52590.83  2186300.13"
            ]
          },
          "metadata": {
            "tags": []
          },
          "execution_count": 25
        }
      ]
    },
    {
      "cell_type": "code",
      "metadata": {
        "id": "S9Q79b2NRbuO",
        "colab": {
          "base_uri": "https://localhost:8080/"
        },
        "outputId": "3a2697fc-df18-40da-bba9-febf184310a7"
      },
      "source": [
        "# Example 9\n",
        "# ---\n",
        "# Grouping by of multiple columns and then applying an aggregate function\n",
        "# ---\n",
        "# \n",
        "insurance_df['expenses'].groupby([insurance_df['region'], insurance_df['sex']]).sum()\n",
        "\n",
        "# Method 2\n",
        "# ---\n",
        "# insurance_df.groupby(['region', 'sex'], as_index = False)['expenses'].sum()\n",
        "\n",
        "# Method 3\n",
        "# ---\n",
        "# insurance_df.groupby(['region', 'sex']).agg({'expenses': ['sum','mean']})"
      ],
      "execution_count": null,
      "outputs": [
        {
          "output_type": "execute_result",
          "data": {
            "text/plain": [
              "region     sex   \n",
              "northeast  female    2085465.70\n",
              "           male      2258202.94\n",
              "northwest  female    2046698.72\n",
              "           male      1989013.21\n",
              "southeast  female    2362442.12\n",
              "           male      3001247.68\n",
              "southwest  female    1826454.69\n",
              "           male      2186300.13\n",
              "Name: expenses, dtype: float64"
            ]
          },
          "metadata": {
            "tags": []
          },
          "execution_count": 23
        }
      ]
    },
    {
      "cell_type": "markdown",
      "metadata": {
        "id": "sWGVGLXeZtLH"
      },
      "source": [
        "### <font color=\"green\">Challenges</font>"
      ]
    },
    {
      "cell_type": "code",
      "metadata": {
        "id": "0ipcashTZtLI",
        "colab": {
          "base_uri": "https://localhost:8080/",
          "height": 343
        },
        "outputId": "b192c71f-64a8-464b-d254-9b0a2d3e32b7"
      },
      "source": [
        "# Let's load and preview the dataset that we will use for the given challenges.\n",
        "# ---\n",
        "# The dataset contains customer invoice data.\n",
        "# ---\n",
        "# Dataset url = https://bit.ly/SuperMarketSalesDB\n",
        "# ---\n",
        "#  \n",
        "invoice_df = pd.read_csv('https://bit.ly/SuperMarketSalesDB')\n",
        "invoice_df.head(5)"
      ],
      "execution_count": null,
      "outputs": [
        {
          "output_type": "execute_result",
          "data": {
            "text/html": [
              "<div>\n",
              "<style scoped>\n",
              "    .dataframe tbody tr th:only-of-type {\n",
              "        vertical-align: middle;\n",
              "    }\n",
              "\n",
              "    .dataframe tbody tr th {\n",
              "        vertical-align: top;\n",
              "    }\n",
              "\n",
              "    .dataframe thead th {\n",
              "        text-align: right;\n",
              "    }\n",
              "</style>\n",
              "<table border=\"1\" class=\"dataframe\">\n",
              "  <thead>\n",
              "    <tr style=\"text-align: right;\">\n",
              "      <th></th>\n",
              "      <th>Invoice ID</th>\n",
              "      <th>Branch</th>\n",
              "      <th>City</th>\n",
              "      <th>Customer type</th>\n",
              "      <th>Gender</th>\n",
              "      <th>Product line</th>\n",
              "      <th>Unit price</th>\n",
              "      <th>Quantity</th>\n",
              "      <th>Tax 5%</th>\n",
              "      <th>Total</th>\n",
              "      <th>Date</th>\n",
              "      <th>Time</th>\n",
              "      <th>Payment</th>\n",
              "      <th>cogs</th>\n",
              "      <th>gross margin percentage</th>\n",
              "      <th>gross income</th>\n",
              "      <th>Rating</th>\n",
              "    </tr>\n",
              "  </thead>\n",
              "  <tbody>\n",
              "    <tr>\n",
              "      <th>0</th>\n",
              "      <td>750-67-8428</td>\n",
              "      <td>A</td>\n",
              "      <td>Yangon</td>\n",
              "      <td>Member</td>\n",
              "      <td>Female</td>\n",
              "      <td>Health and beauty</td>\n",
              "      <td>74.69</td>\n",
              "      <td>7</td>\n",
              "      <td>26.1415</td>\n",
              "      <td>548.9715</td>\n",
              "      <td>1/5/2019</td>\n",
              "      <td>13:08</td>\n",
              "      <td>Ewallet</td>\n",
              "      <td>522.83</td>\n",
              "      <td>4.761905</td>\n",
              "      <td>26.1415</td>\n",
              "      <td>9.1</td>\n",
              "    </tr>\n",
              "    <tr>\n",
              "      <th>1</th>\n",
              "      <td>226-31-3081</td>\n",
              "      <td>C</td>\n",
              "      <td>Naypyitaw</td>\n",
              "      <td>Normal</td>\n",
              "      <td>Female</td>\n",
              "      <td>Electronic accessories</td>\n",
              "      <td>15.28</td>\n",
              "      <td>5</td>\n",
              "      <td>3.8200</td>\n",
              "      <td>80.2200</td>\n",
              "      <td>3/8/2019</td>\n",
              "      <td>10:29</td>\n",
              "      <td>Cash</td>\n",
              "      <td>76.40</td>\n",
              "      <td>4.761905</td>\n",
              "      <td>3.8200</td>\n",
              "      <td>9.6</td>\n",
              "    </tr>\n",
              "    <tr>\n",
              "      <th>2</th>\n",
              "      <td>631-41-3108</td>\n",
              "      <td>A</td>\n",
              "      <td>Yangon</td>\n",
              "      <td>Normal</td>\n",
              "      <td>Male</td>\n",
              "      <td>Home and lifestyle</td>\n",
              "      <td>46.33</td>\n",
              "      <td>7</td>\n",
              "      <td>16.2155</td>\n",
              "      <td>340.5255</td>\n",
              "      <td>3/3/2019</td>\n",
              "      <td>13:23</td>\n",
              "      <td>Credit card</td>\n",
              "      <td>324.31</td>\n",
              "      <td>4.761905</td>\n",
              "      <td>16.2155</td>\n",
              "      <td>7.4</td>\n",
              "    </tr>\n",
              "    <tr>\n",
              "      <th>3</th>\n",
              "      <td>123-19-1176</td>\n",
              "      <td>A</td>\n",
              "      <td>Yangon</td>\n",
              "      <td>Member</td>\n",
              "      <td>Male</td>\n",
              "      <td>Health and beauty</td>\n",
              "      <td>58.22</td>\n",
              "      <td>8</td>\n",
              "      <td>23.2880</td>\n",
              "      <td>489.0480</td>\n",
              "      <td>1/27/2019</td>\n",
              "      <td>20:33</td>\n",
              "      <td>Ewallet</td>\n",
              "      <td>465.76</td>\n",
              "      <td>4.761905</td>\n",
              "      <td>23.2880</td>\n",
              "      <td>8.4</td>\n",
              "    </tr>\n",
              "    <tr>\n",
              "      <th>4</th>\n",
              "      <td>373-73-7910</td>\n",
              "      <td>A</td>\n",
              "      <td>Yangon</td>\n",
              "      <td>Normal</td>\n",
              "      <td>Male</td>\n",
              "      <td>Sports and travel</td>\n",
              "      <td>86.31</td>\n",
              "      <td>7</td>\n",
              "      <td>30.2085</td>\n",
              "      <td>634.3785</td>\n",
              "      <td>2/8/2019</td>\n",
              "      <td>10:37</td>\n",
              "      <td>Ewallet</td>\n",
              "      <td>604.17</td>\n",
              "      <td>4.761905</td>\n",
              "      <td>30.2085</td>\n",
              "      <td>5.3</td>\n",
              "    </tr>\n",
              "  </tbody>\n",
              "</table>\n",
              "</div>"
            ],
            "text/plain": [
              "    Invoice ID Branch       City  ... gross margin percentage gross income Rating\n",
              "0  750-67-8428      A     Yangon  ...                4.761905      26.1415    9.1\n",
              "1  226-31-3081      C  Naypyitaw  ...                4.761905       3.8200    9.6\n",
              "2  631-41-3108      A     Yangon  ...                4.761905      16.2155    7.4\n",
              "3  123-19-1176      A     Yangon  ...                4.761905      23.2880    8.4\n",
              "4  373-73-7910      A     Yangon  ...                4.761905      30.2085    5.3\n",
              "\n",
              "[5 rows x 17 columns]"
            ]
          },
          "metadata": {
            "tags": []
          },
          "execution_count": 5
        }
      ]
    },
    {
      "cell_type": "code",
      "metadata": {
        "id": "LnKLgqlhwiMy",
        "colab": {
          "base_uri": "https://localhost:8080/",
          "height": 309
        },
        "outputId": "60614a7e-e083-44da-f09e-77d47bcd10b4"
      },
      "source": [
        "#we first perform standardization\n",
        "invoice_df.columns = invoice_df.columns.str.strip().str.lower().str.replace(' ','_')\n",
        "invoice_df.head()"
      ],
      "execution_count": null,
      "outputs": [
        {
          "output_type": "execute_result",
          "data": {
            "text/html": [
              "<div>\n",
              "<style scoped>\n",
              "    .dataframe tbody tr th:only-of-type {\n",
              "        vertical-align: middle;\n",
              "    }\n",
              "\n",
              "    .dataframe tbody tr th {\n",
              "        vertical-align: top;\n",
              "    }\n",
              "\n",
              "    .dataframe thead th {\n",
              "        text-align: right;\n",
              "    }\n",
              "</style>\n",
              "<table border=\"1\" class=\"dataframe\">\n",
              "  <thead>\n",
              "    <tr style=\"text-align: right;\">\n",
              "      <th></th>\n",
              "      <th>invoice_id</th>\n",
              "      <th>branch</th>\n",
              "      <th>city</th>\n",
              "      <th>customer_type</th>\n",
              "      <th>gender</th>\n",
              "      <th>product_line</th>\n",
              "      <th>unit_price</th>\n",
              "      <th>quantity</th>\n",
              "      <th>tax_5%</th>\n",
              "      <th>total</th>\n",
              "      <th>date</th>\n",
              "      <th>time</th>\n",
              "      <th>payment</th>\n",
              "      <th>cogs</th>\n",
              "      <th>gross_margin_percentage</th>\n",
              "      <th>gross_income</th>\n",
              "      <th>rating</th>\n",
              "    </tr>\n",
              "  </thead>\n",
              "  <tbody>\n",
              "    <tr>\n",
              "      <th>0</th>\n",
              "      <td>750-67-8428</td>\n",
              "      <td>A</td>\n",
              "      <td>Yangon</td>\n",
              "      <td>Member</td>\n",
              "      <td>Female</td>\n",
              "      <td>Health and beauty</td>\n",
              "      <td>74.69</td>\n",
              "      <td>7</td>\n",
              "      <td>26.1415</td>\n",
              "      <td>548.9715</td>\n",
              "      <td>1/5/2019</td>\n",
              "      <td>13:08</td>\n",
              "      <td>Ewallet</td>\n",
              "      <td>522.83</td>\n",
              "      <td>4.761905</td>\n",
              "      <td>26.1415</td>\n",
              "      <td>9.1</td>\n",
              "    </tr>\n",
              "    <tr>\n",
              "      <th>1</th>\n",
              "      <td>226-31-3081</td>\n",
              "      <td>C</td>\n",
              "      <td>Naypyitaw</td>\n",
              "      <td>Normal</td>\n",
              "      <td>Female</td>\n",
              "      <td>Electronic accessories</td>\n",
              "      <td>15.28</td>\n",
              "      <td>5</td>\n",
              "      <td>3.8200</td>\n",
              "      <td>80.2200</td>\n",
              "      <td>3/8/2019</td>\n",
              "      <td>10:29</td>\n",
              "      <td>Cash</td>\n",
              "      <td>76.40</td>\n",
              "      <td>4.761905</td>\n",
              "      <td>3.8200</td>\n",
              "      <td>9.6</td>\n",
              "    </tr>\n",
              "    <tr>\n",
              "      <th>2</th>\n",
              "      <td>631-41-3108</td>\n",
              "      <td>A</td>\n",
              "      <td>Yangon</td>\n",
              "      <td>Normal</td>\n",
              "      <td>Male</td>\n",
              "      <td>Home and lifestyle</td>\n",
              "      <td>46.33</td>\n",
              "      <td>7</td>\n",
              "      <td>16.2155</td>\n",
              "      <td>340.5255</td>\n",
              "      <td>3/3/2019</td>\n",
              "      <td>13:23</td>\n",
              "      <td>Credit card</td>\n",
              "      <td>324.31</td>\n",
              "      <td>4.761905</td>\n",
              "      <td>16.2155</td>\n",
              "      <td>7.4</td>\n",
              "    </tr>\n",
              "    <tr>\n",
              "      <th>3</th>\n",
              "      <td>123-19-1176</td>\n",
              "      <td>A</td>\n",
              "      <td>Yangon</td>\n",
              "      <td>Member</td>\n",
              "      <td>Male</td>\n",
              "      <td>Health and beauty</td>\n",
              "      <td>58.22</td>\n",
              "      <td>8</td>\n",
              "      <td>23.2880</td>\n",
              "      <td>489.0480</td>\n",
              "      <td>1/27/2019</td>\n",
              "      <td>20:33</td>\n",
              "      <td>Ewallet</td>\n",
              "      <td>465.76</td>\n",
              "      <td>4.761905</td>\n",
              "      <td>23.2880</td>\n",
              "      <td>8.4</td>\n",
              "    </tr>\n",
              "    <tr>\n",
              "      <th>4</th>\n",
              "      <td>373-73-7910</td>\n",
              "      <td>A</td>\n",
              "      <td>Yangon</td>\n",
              "      <td>Normal</td>\n",
              "      <td>Male</td>\n",
              "      <td>Sports and travel</td>\n",
              "      <td>86.31</td>\n",
              "      <td>7</td>\n",
              "      <td>30.2085</td>\n",
              "      <td>634.3785</td>\n",
              "      <td>2/8/2019</td>\n",
              "      <td>10:37</td>\n",
              "      <td>Ewallet</td>\n",
              "      <td>604.17</td>\n",
              "      <td>4.761905</td>\n",
              "      <td>30.2085</td>\n",
              "      <td>5.3</td>\n",
              "    </tr>\n",
              "  </tbody>\n",
              "</table>\n",
              "</div>"
            ],
            "text/plain": [
              "    invoice_id branch       city  ... gross_margin_percentage gross_income rating\n",
              "0  750-67-8428      A     Yangon  ...                4.761905      26.1415    9.1\n",
              "1  226-31-3081      C  Naypyitaw  ...                4.761905       3.8200    9.6\n",
              "2  631-41-3108      A     Yangon  ...                4.761905      16.2155    7.4\n",
              "3  123-19-1176      A     Yangon  ...                4.761905      23.2880    8.4\n",
              "4  373-73-7910      A     Yangon  ...                4.761905      30.2085    5.3\n",
              "\n",
              "[5 rows x 17 columns]"
            ]
          },
          "metadata": {
            "tags": []
          },
          "execution_count": 11
        }
      ]
    },
    {
      "cell_type": "code",
      "metadata": {
        "id": "IrFwkaMuZtLK",
        "colab": {
          "base_uri": "https://localhost:8080/",
          "height": 142
        },
        "outputId": "144435ca-4f4d-42bf-e22c-76dbcaf05985"
      },
      "source": [
        "# Challenge 1\n",
        "# ---\n",
        "# Question: What was the average tax per city?\n",
        "# ---\n",
        "# OUR CODE GOES BELOW \n",
        "# invoice_df[invoice_df['City']][['tax_5%']].mean()\n",
        "invoice_df.groupby('city', as_index= False)['tax_5%'].mean()"
      ],
      "execution_count": null,
      "outputs": [
        {
          "output_type": "execute_result",
          "data": {
            "text/html": [
              "<div>\n",
              "<style scoped>\n",
              "    .dataframe tbody tr th:only-of-type {\n",
              "        vertical-align: middle;\n",
              "    }\n",
              "\n",
              "    .dataframe tbody tr th {\n",
              "        vertical-align: top;\n",
              "    }\n",
              "\n",
              "    .dataframe thead th {\n",
              "        text-align: right;\n",
              "    }\n",
              "</style>\n",
              "<table border=\"1\" class=\"dataframe\">\n",
              "  <thead>\n",
              "    <tr style=\"text-align: right;\">\n",
              "      <th></th>\n",
              "      <th>city</th>\n",
              "      <th>tax_5%</th>\n",
              "    </tr>\n",
              "  </thead>\n",
              "  <tbody>\n",
              "    <tr>\n",
              "      <th>0</th>\n",
              "      <td>Mandalay</td>\n",
              "      <td>15.232024</td>\n",
              "    </tr>\n",
              "    <tr>\n",
              "      <th>1</th>\n",
              "      <td>Naypyitaw</td>\n",
              "      <td>16.052367</td>\n",
              "    </tr>\n",
              "    <tr>\n",
              "      <th>2</th>\n",
              "      <td>Yangon</td>\n",
              "      <td>14.874001</td>\n",
              "    </tr>\n",
              "  </tbody>\n",
              "</table>\n",
              "</div>"
            ],
            "text/plain": [
              "        city     tax_5%\n",
              "0   Mandalay  15.232024\n",
              "1  Naypyitaw  16.052367\n",
              "2     Yangon  14.874001"
            ]
          },
          "metadata": {
            "tags": []
          },
          "execution_count": 10
        }
      ]
    },
    {
      "cell_type": "code",
      "metadata": {
        "id": "KcuTMahpZtLM",
        "colab": {
          "base_uri": "https://localhost:8080/"
        },
        "outputId": "f282fef6-8a0f-4341-cc6d-528ebc3ac8f4"
      },
      "source": [
        "# Challenge 2\n",
        "# ---\n",
        "# Question: How much did female members from the city of Yagon spend?\n",
        "# ---\n",
        "# OUR CODE GOES BELOW \n",
        "# \n",
        "female_df = invoice_df[invoice_df['gender']=='Female']\n",
        "\n",
        "yangon_df = female_df[female_df['city']=='Yangon']\n",
        "\n",
        "yangon_df['total'].sum()"
      ],
      "execution_count": null,
      "outputs": [
        {
          "output_type": "execute_result",
          "data": {
            "text/plain": [
              "53269.167"
            ]
          },
          "metadata": {
            "tags": []
          },
          "execution_count": 17
        }
      ]
    },
    {
      "cell_type": "code",
      "metadata": {
        "id": "UuElKxR0o1ws",
        "colab": {
          "base_uri": "https://localhost:8080/",
          "height": 142
        },
        "outputId": "aac6cee1-11d8-4c8f-f0b8-1ee7b5798e7a"
      },
      "source": [
        "# Challenge 3\n",
        "# ---\n",
        "# Question: How much was spent across all cities?\n",
        "# ---\n",
        "# OUR CODE GOES BELOW \n",
        "# \n",
        "# pd.pivot_table(invoice_df,index='city',aggfunc={'total':sum})\n",
        "invoice_df.groupby('city' ,as_index=False)['total'].sum()"
      ],
      "execution_count": null,
      "outputs": [
        {
          "output_type": "execute_result",
          "data": {
            "text/html": [
              "<div>\n",
              "<style scoped>\n",
              "    .dataframe tbody tr th:only-of-type {\n",
              "        vertical-align: middle;\n",
              "    }\n",
              "\n",
              "    .dataframe tbody tr th {\n",
              "        vertical-align: top;\n",
              "    }\n",
              "\n",
              "    .dataframe thead th {\n",
              "        text-align: right;\n",
              "    }\n",
              "</style>\n",
              "<table border=\"1\" class=\"dataframe\">\n",
              "  <thead>\n",
              "    <tr style=\"text-align: right;\">\n",
              "      <th></th>\n",
              "      <th>city</th>\n",
              "      <th>total</th>\n",
              "    </tr>\n",
              "  </thead>\n",
              "  <tbody>\n",
              "    <tr>\n",
              "      <th>0</th>\n",
              "      <td>Mandalay</td>\n",
              "      <td>106197.6720</td>\n",
              "    </tr>\n",
              "    <tr>\n",
              "      <th>1</th>\n",
              "      <td>Naypyitaw</td>\n",
              "      <td>110568.7065</td>\n",
              "    </tr>\n",
              "    <tr>\n",
              "      <th>2</th>\n",
              "      <td>Yangon</td>\n",
              "      <td>106200.3705</td>\n",
              "    </tr>\n",
              "  </tbody>\n",
              "</table>\n",
              "</div>"
            ],
            "text/plain": [
              "        city        total\n",
              "0   Mandalay  106197.6720\n",
              "1  Naypyitaw  110568.7065\n",
              "2     Yangon  106200.3705"
            ]
          },
          "metadata": {
            "tags": []
          },
          "execution_count": 13
        }
      ]
    },
    {
      "cell_type": "code",
      "metadata": {
        "id": "_WtKM6mSo1j-",
        "colab": {
          "base_uri": "https://localhost:8080/",
          "height": 142
        },
        "outputId": "aa344a1d-ea16-4a46-c66c-344ca865114e"
      },
      "source": [
        "# Challenge 4\n",
        "# ---\n",
        "# Question: What was the sum of goods sold across all branches?\n",
        "# ---\n",
        "# OUR CODE GOES BELOW \n",
        "# invoice_df.head()\n",
        "# pd.pivot_table(invoice_df,index='Branch',aggfunc={'Quantity':sum})\n",
        "invoice_df.groupby('branch', as_index=False)['quantity'].sum()\n"
      ],
      "execution_count": null,
      "outputs": [
        {
          "output_type": "execute_result",
          "data": {
            "text/html": [
              "<div>\n",
              "<style scoped>\n",
              "    .dataframe tbody tr th:only-of-type {\n",
              "        vertical-align: middle;\n",
              "    }\n",
              "\n",
              "    .dataframe tbody tr th {\n",
              "        vertical-align: top;\n",
              "    }\n",
              "\n",
              "    .dataframe thead th {\n",
              "        text-align: right;\n",
              "    }\n",
              "</style>\n",
              "<table border=\"1\" class=\"dataframe\">\n",
              "  <thead>\n",
              "    <tr style=\"text-align: right;\">\n",
              "      <th></th>\n",
              "      <th>branch</th>\n",
              "      <th>quantity</th>\n",
              "    </tr>\n",
              "  </thead>\n",
              "  <tbody>\n",
              "    <tr>\n",
              "      <th>0</th>\n",
              "      <td>A</td>\n",
              "      <td>1859</td>\n",
              "    </tr>\n",
              "    <tr>\n",
              "      <th>1</th>\n",
              "      <td>B</td>\n",
              "      <td>1820</td>\n",
              "    </tr>\n",
              "    <tr>\n",
              "      <th>2</th>\n",
              "      <td>C</td>\n",
              "      <td>1831</td>\n",
              "    </tr>\n",
              "  </tbody>\n",
              "</table>\n",
              "</div>"
            ],
            "text/plain": [
              "  branch  quantity\n",
              "0      A      1859\n",
              "1      B      1820\n",
              "2      C      1831"
            ]
          },
          "metadata": {
            "tags": []
          },
          "execution_count": 16
        }
      ]
    },
    {
      "cell_type": "code",
      "metadata": {
        "id": "gpRpOLPAo1eE",
        "colab": {
          "base_uri": "https://localhost:8080/",
          "height": 142
        },
        "outputId": "184fec0c-4dd1-4d3d-e5c5-0a10f692bb40"
      },
      "source": [
        "# Challenge 5\n",
        "# ---\n",
        "# Question: Which branches collected the most amount of money? \n",
        "# ---\n",
        "# OUR CODE GOES BELOW \n",
        "# \n",
        "invoice_df.groupby('Branch',as_index=False)['Total'].sum()"
      ],
      "execution_count": null,
      "outputs": [
        {
          "output_type": "execute_result",
          "data": {
            "text/html": [
              "<div>\n",
              "<style scoped>\n",
              "    .dataframe tbody tr th:only-of-type {\n",
              "        vertical-align: middle;\n",
              "    }\n",
              "\n",
              "    .dataframe tbody tr th {\n",
              "        vertical-align: top;\n",
              "    }\n",
              "\n",
              "    .dataframe thead th {\n",
              "        text-align: right;\n",
              "    }\n",
              "</style>\n",
              "<table border=\"1\" class=\"dataframe\">\n",
              "  <thead>\n",
              "    <tr style=\"text-align: right;\">\n",
              "      <th></th>\n",
              "      <th>Branch</th>\n",
              "      <th>Total</th>\n",
              "    </tr>\n",
              "  </thead>\n",
              "  <tbody>\n",
              "    <tr>\n",
              "      <th>0</th>\n",
              "      <td>A</td>\n",
              "      <td>106200.3705</td>\n",
              "    </tr>\n",
              "    <tr>\n",
              "      <th>1</th>\n",
              "      <td>B</td>\n",
              "      <td>106197.6720</td>\n",
              "    </tr>\n",
              "    <tr>\n",
              "      <th>2</th>\n",
              "      <td>C</td>\n",
              "      <td>110568.7065</td>\n",
              "    </tr>\n",
              "  </tbody>\n",
              "</table>\n",
              "</div>"
            ],
            "text/plain": [
              "  Branch        Total\n",
              "0      A  106200.3705\n",
              "1      B  106197.6720\n",
              "2      C  110568.7065"
            ]
          },
          "metadata": {
            "tags": []
          },
          "execution_count": 49
        }
      ]
    },
    {
      "cell_type": "code",
      "metadata": {
        "id": "KAhpUL2Ro1T5",
        "colab": {
          "base_uri": "https://localhost:8080/",
          "height": 142
        },
        "outputId": "051532fc-1d10-45ae-f8e2-8ff05139d8bb"
      },
      "source": [
        "# Challenge 6\n",
        "# ---\n",
        "# Question: Which were the top rated branches?\n",
        "# ---\n",
        "# OUR CODE GOES BELOW \n",
        "# \n",
        "invoice_df.groupby('Branch',as_index=False)['Rating'].mean()"
      ],
      "execution_count": null,
      "outputs": [
        {
          "output_type": "execute_result",
          "data": {
            "text/html": [
              "<div>\n",
              "<style scoped>\n",
              "    .dataframe tbody tr th:only-of-type {\n",
              "        vertical-align: middle;\n",
              "    }\n",
              "\n",
              "    .dataframe tbody tr th {\n",
              "        vertical-align: top;\n",
              "    }\n",
              "\n",
              "    .dataframe thead th {\n",
              "        text-align: right;\n",
              "    }\n",
              "</style>\n",
              "<table border=\"1\" class=\"dataframe\">\n",
              "  <thead>\n",
              "    <tr style=\"text-align: right;\">\n",
              "      <th></th>\n",
              "      <th>Branch</th>\n",
              "      <th>Rating</th>\n",
              "    </tr>\n",
              "  </thead>\n",
              "  <tbody>\n",
              "    <tr>\n",
              "      <th>0</th>\n",
              "      <td>A</td>\n",
              "      <td>7.027059</td>\n",
              "    </tr>\n",
              "    <tr>\n",
              "      <th>1</th>\n",
              "      <td>B</td>\n",
              "      <td>6.818072</td>\n",
              "    </tr>\n",
              "    <tr>\n",
              "      <th>2</th>\n",
              "      <td>C</td>\n",
              "      <td>7.072866</td>\n",
              "    </tr>\n",
              "  </tbody>\n",
              "</table>\n",
              "</div>"
            ],
            "text/plain": [
              "  Branch    Rating\n",
              "0      A  7.027059\n",
              "1      B  6.818072\n",
              "2      C  7.072866"
            ]
          },
          "metadata": {
            "tags": []
          },
          "execution_count": 57
        }
      ]
    },
    {
      "cell_type": "code",
      "metadata": {
        "id": "_NMGSpxlo1M3",
        "colab": {
          "base_uri": "https://localhost:8080/",
          "height": 145
        },
        "outputId": "8815bd02-500d-4e52-81a8-6ca1a3f59bd3"
      },
      "source": [
        "# Challenge 7\n",
        "# ---\n",
        "# Question: Make a comparison between non-members who made cash payments and credit card payments.\n",
        "# ---\n",
        "# OUR CODE GOES BELOW \n",
        "normal_df= invoice_df[invoice_df['Customer type']=='Normal']\n",
        "\n",
        "payment_df.groupby('Payment',as_index=False).sum()"
      ],
      "execution_count": null,
      "outputs": [
        {
          "output_type": "execute_result",
          "data": {
            "text/html": [
              "<div>\n",
              "<style scoped>\n",
              "    .dataframe tbody tr th:only-of-type {\n",
              "        vertical-align: middle;\n",
              "    }\n",
              "\n",
              "    .dataframe tbody tr th {\n",
              "        vertical-align: top;\n",
              "    }\n",
              "\n",
              "    .dataframe thead th {\n",
              "        text-align: right;\n",
              "    }\n",
              "</style>\n",
              "<table border=\"1\" class=\"dataframe\">\n",
              "  <thead>\n",
              "    <tr style=\"text-align: right;\">\n",
              "      <th></th>\n",
              "      <th>Payment</th>\n",
              "      <th>Unit price</th>\n",
              "      <th>Quantity</th>\n",
              "      <th>Tax 5%</th>\n",
              "      <th>Total</th>\n",
              "      <th>cogs</th>\n",
              "      <th>gross margin percentage</th>\n",
              "      <th>gross income</th>\n",
              "      <th>Rating</th>\n",
              "    </tr>\n",
              "  </thead>\n",
              "  <tbody>\n",
              "    <tr>\n",
              "      <th>0</th>\n",
              "      <td>Cash</td>\n",
              "      <td>19525.09</td>\n",
              "      <td>1896</td>\n",
              "      <td>5343.170</td>\n",
              "      <td>112206.570</td>\n",
              "      <td>106863.40</td>\n",
              "      <td>1638.095238</td>\n",
              "      <td>5343.170</td>\n",
              "      <td>2397.7</td>\n",
              "    </tr>\n",
              "    <tr>\n",
              "      <th>1</th>\n",
              "      <td>Credit card</td>\n",
              "      <td>16916.68</td>\n",
              "      <td>1722</td>\n",
              "      <td>4798.432</td>\n",
              "      <td>100767.072</td>\n",
              "      <td>95968.64</td>\n",
              "      <td>1480.952381</td>\n",
              "      <td>4798.432</td>\n",
              "      <td>2178.0</td>\n",
              "    </tr>\n",
              "  </tbody>\n",
              "</table>\n",
              "</div>"
            ],
            "text/plain": [
              "       Payment  Unit price  ...  gross income  Rating\n",
              "0         Cash    19525.09  ...      5343.170  2397.7\n",
              "1  Credit card    16916.68  ...      4798.432  2178.0\n",
              "\n",
              "[2 rows x 9 columns]"
            ]
          },
          "metadata": {
            "tags": []
          },
          "execution_count": 55
        }
      ]
    },
    {
      "cell_type": "code",
      "metadata": {
        "id": "k7c7R2Sfo08U",
        "colab": {
          "base_uri": "https://localhost:8080/",
          "height": 266
        },
        "outputId": "a35f91c8-758b-4c56-83c5-8bef5481e934"
      },
      "source": [
        "# Challenge 8\n",
        "# ---\n",
        "# Question: Show the products line that sold the most indicating the rating.\n",
        "# ---\n",
        "# OUR CODE GOES BELOW \n",
        "# \n",
        "# invoice_df.head(5)\n",
        "# /invoice_df.groupby(['quantity'], as_index=False)['quantity'].sum()\n",
        "# invoice_df['quantity'].groupby([invoice_df['product_line'],invoice_df['rating']]).sum()\n",
        "pd.pivot_table(invoice_df,index=['Product line'],aggfunc={'Quantity':np.sum}) "
      ],
      "execution_count": null,
      "outputs": [
        {
          "output_type": "execute_result",
          "data": {
            "text/html": [
              "<div>\n",
              "<style scoped>\n",
              "    .dataframe tbody tr th:only-of-type {\n",
              "        vertical-align: middle;\n",
              "    }\n",
              "\n",
              "    .dataframe tbody tr th {\n",
              "        vertical-align: top;\n",
              "    }\n",
              "\n",
              "    .dataframe thead th {\n",
              "        text-align: right;\n",
              "    }\n",
              "</style>\n",
              "<table border=\"1\" class=\"dataframe\">\n",
              "  <thead>\n",
              "    <tr style=\"text-align: right;\">\n",
              "      <th></th>\n",
              "      <th>Quantity</th>\n",
              "    </tr>\n",
              "    <tr>\n",
              "      <th>Product line</th>\n",
              "      <th></th>\n",
              "    </tr>\n",
              "  </thead>\n",
              "  <tbody>\n",
              "    <tr>\n",
              "      <th>Electronic accessories</th>\n",
              "      <td>971</td>\n",
              "    </tr>\n",
              "    <tr>\n",
              "      <th>Fashion accessories</th>\n",
              "      <td>902</td>\n",
              "    </tr>\n",
              "    <tr>\n",
              "      <th>Food and beverages</th>\n",
              "      <td>952</td>\n",
              "    </tr>\n",
              "    <tr>\n",
              "      <th>Health and beauty</th>\n",
              "      <td>854</td>\n",
              "    </tr>\n",
              "    <tr>\n",
              "      <th>Home and lifestyle</th>\n",
              "      <td>911</td>\n",
              "    </tr>\n",
              "    <tr>\n",
              "      <th>Sports and travel</th>\n",
              "      <td>920</td>\n",
              "    </tr>\n",
              "  </tbody>\n",
              "</table>\n",
              "</div>"
            ],
            "text/plain": [
              "                        Quantity\n",
              "Product line                    \n",
              "Electronic accessories       971\n",
              "Fashion accessories          902\n",
              "Food and beverages           952\n",
              "Health and beauty            854\n",
              "Home and lifestyle           911\n",
              "Sports and travel            920"
            ]
          },
          "metadata": {
            "tags": []
          },
          "execution_count": 48
        }
      ]
    },
    {
      "cell_type": "markdown",
      "metadata": {
        "id": "6XZbcORGZLd0"
      },
      "source": [
        "## 7. Pivot Tables"
      ]
    },
    {
      "cell_type": "markdown",
      "metadata": {
        "id": "xldYtGZ-Zjz5"
      },
      "source": [
        "### Examples"
      ]
    },
    {
      "cell_type": "code",
      "metadata": {
        "id": "XyNlcAEhZjz6",
        "colab": {
          "base_uri": "https://localhost:8080/",
          "height": 199
        },
        "outputId": "a451eb3d-edad-4c8f-f58a-7e9f857a35b5"
      },
      "source": [
        "# Example 1\n",
        "# ---\n",
        "# A pivot tables is a summary table and comprises of \n",
        "# outcomes similar to the group by tables.\n",
        "# --- \n",
        "# We will start working with pivot tables by getting one column \n",
        "# and applying an aggregate function as shown below\n",
        "# ---\n",
        "# \n",
        "pd.pivot_table(insurance_df, index=['region'], aggfunc='mean')"
      ],
      "execution_count": null,
      "outputs": [
        {
          "output_type": "execute_result",
          "data": {
            "text/html": [
              "<div>\n",
              "<style scoped>\n",
              "    .dataframe tbody tr th:only-of-type {\n",
              "        vertical-align: middle;\n",
              "    }\n",
              "\n",
              "    .dataframe tbody tr th {\n",
              "        vertical-align: top;\n",
              "    }\n",
              "\n",
              "    .dataframe thead th {\n",
              "        text-align: right;\n",
              "    }\n",
              "</style>\n",
              "<table border=\"1\" class=\"dataframe\">\n",
              "  <thead>\n",
              "    <tr style=\"text-align: right;\">\n",
              "      <th></th>\n",
              "      <th>age</th>\n",
              "      <th>bmi</th>\n",
              "      <th>children</th>\n",
              "      <th>expenses</th>\n",
              "    </tr>\n",
              "    <tr>\n",
              "      <th>region</th>\n",
              "      <th></th>\n",
              "      <th></th>\n",
              "      <th></th>\n",
              "      <th></th>\n",
              "    </tr>\n",
              "  </thead>\n",
              "  <tbody>\n",
              "    <tr>\n",
              "      <th>northeast</th>\n",
              "      <td>39.268519</td>\n",
              "      <td>29.176235</td>\n",
              "      <td>1.046296</td>\n",
              "      <td>13406.384691</td>\n",
              "    </tr>\n",
              "    <tr>\n",
              "      <th>northwest</th>\n",
              "      <td>39.196923</td>\n",
              "      <td>29.201846</td>\n",
              "      <td>1.147692</td>\n",
              "      <td>12417.575169</td>\n",
              "    </tr>\n",
              "    <tr>\n",
              "      <th>southeast</th>\n",
              "      <td>38.939560</td>\n",
              "      <td>33.359341</td>\n",
              "      <td>1.049451</td>\n",
              "      <td>14735.411538</td>\n",
              "    </tr>\n",
              "    <tr>\n",
              "      <th>southwest</th>\n",
              "      <td>39.455385</td>\n",
              "      <td>30.596615</td>\n",
              "      <td>1.141538</td>\n",
              "      <td>12346.937908</td>\n",
              "    </tr>\n",
              "  </tbody>\n",
              "</table>\n",
              "</div>"
            ],
            "text/plain": [
              "                 age        bmi  children      expenses\n",
              "region                                                 \n",
              "northeast  39.268519  29.176235  1.046296  13406.384691\n",
              "northwest  39.196923  29.201846  1.147692  12417.575169\n",
              "southeast  38.939560  33.359341  1.049451  14735.411538\n",
              "southwest  39.455385  30.596615  1.141538  12346.937908"
            ]
          },
          "metadata": {
            "tags": []
          },
          "execution_count": 119
        }
      ]
    },
    {
      "cell_type": "code",
      "metadata": {
        "id": "E9eEtnPKZjz-",
        "colab": {
          "base_uri": "https://localhost:8080/",
          "height": 139
        },
        "outputId": "9a1557da-060b-446f-ddab-99c58af44738"
      },
      "source": [
        "# Example 2\n",
        "# ---\n",
        "# Getting the first entry for each gender\n",
        "# NB: You can get the last one too using last().\n",
        "# In addition, note the that the columns have been arranged alphabetically.\n",
        "# ---\n",
        "# \n",
        "pd.pivot_table(insurance_df, index=['sex'], aggfunc='first')"
      ],
      "execution_count": null,
      "outputs": [
        {
          "output_type": "execute_result",
          "data": {
            "text/html": [
              "<div>\n",
              "<style scoped>\n",
              "    .dataframe tbody tr th:only-of-type {\n",
              "        vertical-align: middle;\n",
              "    }\n",
              "\n",
              "    .dataframe tbody tr th {\n",
              "        vertical-align: top;\n",
              "    }\n",
              "\n",
              "    .dataframe thead th {\n",
              "        text-align: right;\n",
              "    }\n",
              "</style>\n",
              "<table border=\"1\" class=\"dataframe\">\n",
              "  <thead>\n",
              "    <tr style=\"text-align: right;\">\n",
              "      <th></th>\n",
              "      <th>age</th>\n",
              "      <th>bmi</th>\n",
              "      <th>children</th>\n",
              "      <th>expenses</th>\n",
              "      <th>region</th>\n",
              "      <th>smoker</th>\n",
              "    </tr>\n",
              "    <tr>\n",
              "      <th>sex</th>\n",
              "      <th></th>\n",
              "      <th></th>\n",
              "      <th></th>\n",
              "      <th></th>\n",
              "      <th></th>\n",
              "      <th></th>\n",
              "    </tr>\n",
              "  </thead>\n",
              "  <tbody>\n",
              "    <tr>\n",
              "      <th>female</th>\n",
              "      <td>19</td>\n",
              "      <td>27.9</td>\n",
              "      <td>0</td>\n",
              "      <td>16884.92</td>\n",
              "      <td>southwest</td>\n",
              "      <td>yes</td>\n",
              "    </tr>\n",
              "    <tr>\n",
              "      <th>male</th>\n",
              "      <td>18</td>\n",
              "      <td>33.8</td>\n",
              "      <td>1</td>\n",
              "      <td>1725.55</td>\n",
              "      <td>southeast</td>\n",
              "      <td>no</td>\n",
              "    </tr>\n",
              "  </tbody>\n",
              "</table>\n",
              "</div>"
            ],
            "text/plain": [
              "        age   bmi  children  expenses     region smoker\n",
              "sex                                                    \n",
              "female   19  27.9         0  16884.92  southwest    yes\n",
              "male     18  33.8         1   1725.55  southeast     no"
            ]
          },
          "metadata": {
            "tags": []
          },
          "execution_count": 124
        }
      ]
    },
    {
      "cell_type": "code",
      "metadata": {
        "id": "XncXWHbLxNqv",
        "colab": {
          "base_uri": "https://localhost:8080/",
          "height": 139
        },
        "outputId": "6b589a9f-4339-413c-8d50-e39f16f07d69"
      },
      "source": [
        "# Example 3\n",
        "# ---\n",
        "# We can group a single column by another column then apply an aggregate function as shown\n",
        "# ---\n",
        "# We will use numpy to compute the mean\n",
        "#\n",
        "pd.pivot_table(insurance_df, index=['sex'], aggfunc={'expenses': np.mean})"
      ],
      "execution_count": null,
      "outputs": [
        {
          "output_type": "execute_result",
          "data": {
            "text/html": [
              "<div>\n",
              "<style scoped>\n",
              "    .dataframe tbody tr th:only-of-type {\n",
              "        vertical-align: middle;\n",
              "    }\n",
              "\n",
              "    .dataframe tbody tr th {\n",
              "        vertical-align: top;\n",
              "    }\n",
              "\n",
              "    .dataframe thead th {\n",
              "        text-align: right;\n",
              "    }\n",
              "</style>\n",
              "<table border=\"1\" class=\"dataframe\">\n",
              "  <thead>\n",
              "    <tr style=\"text-align: right;\">\n",
              "      <th></th>\n",
              "      <th>expenses</th>\n",
              "    </tr>\n",
              "    <tr>\n",
              "      <th>sex</th>\n",
              "      <th></th>\n",
              "    </tr>\n",
              "  </thead>\n",
              "  <tbody>\n",
              "    <tr>\n",
              "      <th>female</th>\n",
              "      <td>12569.578897</td>\n",
              "    </tr>\n",
              "    <tr>\n",
              "      <th>male</th>\n",
              "      <td>13956.751420</td>\n",
              "    </tr>\n",
              "  </tbody>\n",
              "</table>\n",
              "</div>"
            ],
            "text/plain": [
              "            expenses\n",
              "sex                 \n",
              "female  12569.578897\n",
              "male    13956.751420"
            ]
          },
          "metadata": {
            "tags": []
          },
          "execution_count": 125
        }
      ]
    },
    {
      "cell_type": "code",
      "metadata": {
        "id": "ek2sW9X2zqwz",
        "colab": {
          "base_uri": "https://localhost:8080/",
          "height": 199
        },
        "outputId": "5841a347-bc99-4f1a-9342-cb096f503919"
      },
      "source": [
        "# Example 4\n",
        "# ---\n",
        "# Grouping region by another column i.e. bmi, applying an aggregate function\n",
        "# ---\n",
        "#\n",
        "pd.pivot_table(insurance_df, index=['region'], aggfunc={'bmi': np.mean})"
      ],
      "execution_count": null,
      "outputs": [
        {
          "output_type": "execute_result",
          "data": {
            "text/html": [
              "<div>\n",
              "<style scoped>\n",
              "    .dataframe tbody tr th:only-of-type {\n",
              "        vertical-align: middle;\n",
              "    }\n",
              "\n",
              "    .dataframe tbody tr th {\n",
              "        vertical-align: top;\n",
              "    }\n",
              "\n",
              "    .dataframe thead th {\n",
              "        text-align: right;\n",
              "    }\n",
              "</style>\n",
              "<table border=\"1\" class=\"dataframe\">\n",
              "  <thead>\n",
              "    <tr style=\"text-align: right;\">\n",
              "      <th></th>\n",
              "      <th>bmi</th>\n",
              "    </tr>\n",
              "    <tr>\n",
              "      <th>region</th>\n",
              "      <th></th>\n",
              "    </tr>\n",
              "  </thead>\n",
              "  <tbody>\n",
              "    <tr>\n",
              "      <th>northeast</th>\n",
              "      <td>29.176235</td>\n",
              "    </tr>\n",
              "    <tr>\n",
              "      <th>northwest</th>\n",
              "      <td>29.201846</td>\n",
              "    </tr>\n",
              "    <tr>\n",
              "      <th>southeast</th>\n",
              "      <td>33.359341</td>\n",
              "    </tr>\n",
              "    <tr>\n",
              "      <th>southwest</th>\n",
              "      <td>30.596615</td>\n",
              "    </tr>\n",
              "  </tbody>\n",
              "</table>\n",
              "</div>"
            ],
            "text/plain": [
              "                 bmi\n",
              "region              \n",
              "northeast  29.176235\n",
              "northwest  29.201846\n",
              "southeast  33.359341\n",
              "southwest  30.596615"
            ]
          },
          "metadata": {
            "tags": []
          },
          "execution_count": 126
        }
      ]
    },
    {
      "cell_type": "code",
      "metadata": {
        "id": "ZfOhsM1I0bNu",
        "colab": {
          "base_uri": "https://localhost:8080/",
          "height": 230
        },
        "outputId": "a55e3bb8-7b10-49eb-b7a3-53a4a3061123"
      },
      "source": [
        "# Example 5\n",
        "# ---\n",
        "# Using a pivote table, we can also create a summary statistical table as shown below\n",
        "# ---\n",
        "#\n",
        "pd.pivot_table(insurance_df, index=['region'], aggfunc={'expenses': 'describe'})"
      ],
      "execution_count": null,
      "outputs": [
        {
          "output_type": "execute_result",
          "data": {
            "text/html": [
              "<div>\n",
              "<style scoped>\n",
              "    .dataframe tbody tr th:only-of-type {\n",
              "        vertical-align: middle;\n",
              "    }\n",
              "\n",
              "    .dataframe tbody tr th {\n",
              "        vertical-align: top;\n",
              "    }\n",
              "\n",
              "    .dataframe thead tr th {\n",
              "        text-align: left;\n",
              "    }\n",
              "\n",
              "    .dataframe thead tr:last-of-type th {\n",
              "        text-align: right;\n",
              "    }\n",
              "</style>\n",
              "<table border=\"1\" class=\"dataframe\">\n",
              "  <thead>\n",
              "    <tr>\n",
              "      <th></th>\n",
              "      <th colspan=\"8\" halign=\"left\">expenses</th>\n",
              "    </tr>\n",
              "    <tr>\n",
              "      <th></th>\n",
              "      <th>25%</th>\n",
              "      <th>50%</th>\n",
              "      <th>75%</th>\n",
              "      <th>count</th>\n",
              "      <th>max</th>\n",
              "      <th>mean</th>\n",
              "      <th>min</th>\n",
              "      <th>std</th>\n",
              "    </tr>\n",
              "    <tr>\n",
              "      <th>region</th>\n",
              "      <th></th>\n",
              "      <th></th>\n",
              "      <th></th>\n",
              "      <th></th>\n",
              "      <th></th>\n",
              "      <th></th>\n",
              "      <th></th>\n",
              "      <th></th>\n",
              "    </tr>\n",
              "  </thead>\n",
              "  <tbody>\n",
              "    <tr>\n",
              "      <th>northeast</th>\n",
              "      <td>5194.3225</td>\n",
              "      <td>10057.655</td>\n",
              "      <td>16687.3650</td>\n",
              "      <td>324.0</td>\n",
              "      <td>58571.07</td>\n",
              "      <td>13406.384691</td>\n",
              "      <td>1694.80</td>\n",
              "      <td>11255.802916</td>\n",
              "    </tr>\n",
              "    <tr>\n",
              "      <th>northwest</th>\n",
              "      <td>4719.7400</td>\n",
              "      <td>8965.800</td>\n",
              "      <td>14711.7400</td>\n",
              "      <td>325.0</td>\n",
              "      <td>60021.40</td>\n",
              "      <td>12417.575169</td>\n",
              "      <td>1621.34</td>\n",
              "      <td>11072.276880</td>\n",
              "    </tr>\n",
              "    <tr>\n",
              "      <th>southeast</th>\n",
              "      <td>4440.8850</td>\n",
              "      <td>9294.130</td>\n",
              "      <td>19526.2875</td>\n",
              "      <td>364.0</td>\n",
              "      <td>63770.43</td>\n",
              "      <td>14735.411538</td>\n",
              "      <td>1121.87</td>\n",
              "      <td>13971.098797</td>\n",
              "    </tr>\n",
              "    <tr>\n",
              "      <th>southwest</th>\n",
              "      <td>4751.0700</td>\n",
              "      <td>8798.590</td>\n",
              "      <td>13462.5200</td>\n",
              "      <td>325.0</td>\n",
              "      <td>52590.83</td>\n",
              "      <td>12346.937908</td>\n",
              "      <td>1241.57</td>\n",
              "      <td>11557.179033</td>\n",
              "    </tr>\n",
              "  </tbody>\n",
              "</table>\n",
              "</div>"
            ],
            "text/plain": [
              "            expenses             ...                       \n",
              "                 25%        50%  ...      min           std\n",
              "region                           ...                       \n",
              "northeast  5194.3225  10057.655  ...  1694.80  11255.802916\n",
              "northwest  4719.7400   8965.800  ...  1621.34  11072.276880\n",
              "southeast  4440.8850   9294.130  ...  1121.87  13971.098797\n",
              "southwest  4751.0700   8798.590  ...  1241.57  11557.179033\n",
              "\n",
              "[4 rows x 8 columns]"
            ]
          },
          "metadata": {
            "tags": []
          },
          "execution_count": 127
        }
      ]
    },
    {
      "cell_type": "code",
      "metadata": {
        "id": "3_brcCVY3gHq",
        "colab": {
          "base_uri": "https://localhost:8080/",
          "height": 199
        },
        "outputId": "69ec756b-f38c-4182-dafa-24e55fa91af3"
      },
      "source": [
        "# Example 6\n",
        "# ---\n",
        "# Getting the no. of children in each region\n",
        "# ---\n",
        "#  \n",
        "# \n",
        "pd.pivot_table(insurance_df, index=['region'], aggfunc={'children': sum}) "
      ],
      "execution_count": null,
      "outputs": [
        {
          "output_type": "execute_result",
          "data": {
            "text/html": [
              "<div>\n",
              "<style scoped>\n",
              "    .dataframe tbody tr th:only-of-type {\n",
              "        vertical-align: middle;\n",
              "    }\n",
              "\n",
              "    .dataframe tbody tr th {\n",
              "        vertical-align: top;\n",
              "    }\n",
              "\n",
              "    .dataframe thead th {\n",
              "        text-align: right;\n",
              "    }\n",
              "</style>\n",
              "<table border=\"1\" class=\"dataframe\">\n",
              "  <thead>\n",
              "    <tr style=\"text-align: right;\">\n",
              "      <th></th>\n",
              "      <th>children</th>\n",
              "    </tr>\n",
              "    <tr>\n",
              "      <th>region</th>\n",
              "      <th></th>\n",
              "    </tr>\n",
              "  </thead>\n",
              "  <tbody>\n",
              "    <tr>\n",
              "      <th>northeast</th>\n",
              "      <td>339</td>\n",
              "    </tr>\n",
              "    <tr>\n",
              "      <th>northwest</th>\n",
              "      <td>373</td>\n",
              "    </tr>\n",
              "    <tr>\n",
              "      <th>southeast</th>\n",
              "      <td>382</td>\n",
              "    </tr>\n",
              "    <tr>\n",
              "      <th>southwest</th>\n",
              "      <td>371</td>\n",
              "    </tr>\n",
              "  </tbody>\n",
              "</table>\n",
              "</div>"
            ],
            "text/plain": [
              "           children\n",
              "region             \n",
              "northeast       339\n",
              "northwest       373\n",
              "southeast       382\n",
              "southwest       371"
            ]
          },
          "metadata": {
            "tags": []
          },
          "execution_count": 128
        }
      ]
    },
    {
      "cell_type": "code",
      "metadata": {
        "id": "ldDrVxC54Al8",
        "colab": {
          "base_uri": "https://localhost:8080/",
          "height": 351
        },
        "outputId": "df06a46f-665b-4c24-e119-7379e7b25113"
      },
      "source": [
        "# Example 6\n",
        "# ---\n",
        "# Applying multiple aggregate functions to a group\n",
        "# ---\n",
        "# \n",
        "pd.pivot_table(insurance_df, index=['region', 'sex'], aggfunc={'expenses': ['min', 'max', 'sum']})"
      ],
      "execution_count": null,
      "outputs": [
        {
          "output_type": "execute_result",
          "data": {
            "text/html": [
              "<div>\n",
              "<style scoped>\n",
              "    .dataframe tbody tr th:only-of-type {\n",
              "        vertical-align: middle;\n",
              "    }\n",
              "\n",
              "    .dataframe tbody tr th {\n",
              "        vertical-align: top;\n",
              "    }\n",
              "\n",
              "    .dataframe thead tr th {\n",
              "        text-align: left;\n",
              "    }\n",
              "\n",
              "    .dataframe thead tr:last-of-type th {\n",
              "        text-align: right;\n",
              "    }\n",
              "</style>\n",
              "<table border=\"1\" class=\"dataframe\">\n",
              "  <thead>\n",
              "    <tr>\n",
              "      <th></th>\n",
              "      <th></th>\n",
              "      <th colspan=\"3\" halign=\"left\">expenses</th>\n",
              "    </tr>\n",
              "    <tr>\n",
              "      <th></th>\n",
              "      <th></th>\n",
              "      <th>max</th>\n",
              "      <th>min</th>\n",
              "      <th>sum</th>\n",
              "    </tr>\n",
              "    <tr>\n",
              "      <th>region</th>\n",
              "      <th>sex</th>\n",
              "      <th></th>\n",
              "      <th></th>\n",
              "      <th></th>\n",
              "    </tr>\n",
              "  </thead>\n",
              "  <tbody>\n",
              "    <tr>\n",
              "      <th rowspan=\"2\" valign=\"top\">northeast</th>\n",
              "      <th>female</th>\n",
              "      <td>58571.07</td>\n",
              "      <td>2196.47</td>\n",
              "      <td>2085465.70</td>\n",
              "    </tr>\n",
              "    <tr>\n",
              "      <th>male</th>\n",
              "      <td>48549.18</td>\n",
              "      <td>1694.80</td>\n",
              "      <td>2258202.94</td>\n",
              "    </tr>\n",
              "    <tr>\n",
              "      <th rowspan=\"2\" valign=\"top\">northwest</th>\n",
              "      <th>female</th>\n",
              "      <td>55135.40</td>\n",
              "      <td>2117.34</td>\n",
              "      <td>2046698.72</td>\n",
              "    </tr>\n",
              "    <tr>\n",
              "      <th>male</th>\n",
              "      <td>60021.40</td>\n",
              "      <td>1621.34</td>\n",
              "      <td>1989013.21</td>\n",
              "    </tr>\n",
              "    <tr>\n",
              "      <th rowspan=\"2\" valign=\"top\">southeast</th>\n",
              "      <th>female</th>\n",
              "      <td>63770.43</td>\n",
              "      <td>1607.51</td>\n",
              "      <td>2362442.12</td>\n",
              "    </tr>\n",
              "    <tr>\n",
              "      <th>male</th>\n",
              "      <td>62592.87</td>\n",
              "      <td>1121.87</td>\n",
              "      <td>3001247.68</td>\n",
              "    </tr>\n",
              "    <tr>\n",
              "      <th rowspan=\"2\" valign=\"top\">southwest</th>\n",
              "      <th>female</th>\n",
              "      <td>48824.45</td>\n",
              "      <td>1727.79</td>\n",
              "      <td>1826454.69</td>\n",
              "    </tr>\n",
              "    <tr>\n",
              "      <th>male</th>\n",
              "      <td>52590.83</td>\n",
              "      <td>1241.57</td>\n",
              "      <td>2186300.13</td>\n",
              "    </tr>\n",
              "  </tbody>\n",
              "</table>\n",
              "</div>"
            ],
            "text/plain": [
              "                  expenses                     \n",
              "                       max      min         sum\n",
              "region    sex                                  \n",
              "northeast female  58571.07  2196.47  2085465.70\n",
              "          male    48549.18  1694.80  2258202.94\n",
              "northwest female  55135.40  2117.34  2046698.72\n",
              "          male    60021.40  1621.34  1989013.21\n",
              "southeast female  63770.43  1607.51  2362442.12\n",
              "          male    62592.87  1121.87  3001247.68\n",
              "southwest female  48824.45  1727.79  1826454.69\n",
              "          male    52590.83  1241.57  2186300.13"
            ]
          },
          "metadata": {
            "tags": []
          },
          "execution_count": 130
        }
      ]
    },
    {
      "cell_type": "code",
      "metadata": {
        "id": "e1HkBiWr51y6",
        "colab": {
          "base_uri": "https://localhost:8080/",
          "height": 320
        },
        "outputId": "0ee5a8e6-f601-4240-a7e1-6719b7f22b35"
      },
      "source": [
        "# Example 7\n",
        "# ---\n",
        "# Applying multiple aggregate functions to a group\n",
        "# ---\n",
        "# \n",
        "pd.pivot_table(insurance_df, index=['region', 'sex'], aggfunc={'expenses': sum})"
      ],
      "execution_count": null,
      "outputs": [
        {
          "output_type": "execute_result",
          "data": {
            "text/html": [
              "<div>\n",
              "<style scoped>\n",
              "    .dataframe tbody tr th:only-of-type {\n",
              "        vertical-align: middle;\n",
              "    }\n",
              "\n",
              "    .dataframe tbody tr th {\n",
              "        vertical-align: top;\n",
              "    }\n",
              "\n",
              "    .dataframe thead th {\n",
              "        text-align: right;\n",
              "    }\n",
              "</style>\n",
              "<table border=\"1\" class=\"dataframe\">\n",
              "  <thead>\n",
              "    <tr style=\"text-align: right;\">\n",
              "      <th></th>\n",
              "      <th></th>\n",
              "      <th>expenses</th>\n",
              "    </tr>\n",
              "    <tr>\n",
              "      <th>region</th>\n",
              "      <th>sex</th>\n",
              "      <th></th>\n",
              "    </tr>\n",
              "  </thead>\n",
              "  <tbody>\n",
              "    <tr>\n",
              "      <th rowspan=\"2\" valign=\"top\">northeast</th>\n",
              "      <th>female</th>\n",
              "      <td>2085465.70</td>\n",
              "    </tr>\n",
              "    <tr>\n",
              "      <th>male</th>\n",
              "      <td>2258202.94</td>\n",
              "    </tr>\n",
              "    <tr>\n",
              "      <th rowspan=\"2\" valign=\"top\">northwest</th>\n",
              "      <th>female</th>\n",
              "      <td>2046698.72</td>\n",
              "    </tr>\n",
              "    <tr>\n",
              "      <th>male</th>\n",
              "      <td>1989013.21</td>\n",
              "    </tr>\n",
              "    <tr>\n",
              "      <th rowspan=\"2\" valign=\"top\">southeast</th>\n",
              "      <th>female</th>\n",
              "      <td>2362442.12</td>\n",
              "    </tr>\n",
              "    <tr>\n",
              "      <th>male</th>\n",
              "      <td>3001247.68</td>\n",
              "    </tr>\n",
              "    <tr>\n",
              "      <th rowspan=\"2\" valign=\"top\">southwest</th>\n",
              "      <th>female</th>\n",
              "      <td>1826454.69</td>\n",
              "    </tr>\n",
              "    <tr>\n",
              "      <th>male</th>\n",
              "      <td>2186300.13</td>\n",
              "    </tr>\n",
              "  </tbody>\n",
              "</table>\n",
              "</div>"
            ],
            "text/plain": [
              "                    expenses\n",
              "region    sex               \n",
              "northeast female  2085465.70\n",
              "          male    2258202.94\n",
              "northwest female  2046698.72\n",
              "          male    1989013.21\n",
              "southeast female  2362442.12\n",
              "          male    3001247.68\n",
              "southwest female  1826454.69\n",
              "          male    2186300.13"
            ]
          },
          "metadata": {
            "tags": []
          },
          "execution_count": 131
        }
      ]
    },
    {
      "cell_type": "markdown",
      "metadata": {
        "id": "q9c7In767vRZ"
      },
      "source": [
        "### <font color=\"green\">Challenges</font>"
      ]
    },
    {
      "cell_type": "markdown",
      "metadata": {
        "id": "WDtAMSQd7y3B"
      },
      "source": [
        "The challenges in this section will be same as the ones group by challenges. Compare your solutions with the ones you got in the previous section."
      ]
    },
    {
      "cell_type": "code",
      "metadata": {
        "id": "8U-l2XmL7vRd",
        "colab": {
          "base_uri": "https://localhost:8080/",
          "height": 343
        },
        "outputId": "b586ace9-d79d-498c-c71f-346109880b4a"
      },
      "source": [
        "# You will use the supermarket dataset you previously used. \n",
        "# ---\n",
        "# The dataset contains customer invoice data.\n",
        "# ---\n",
        "# Dataset url = https://bit.ly/SuperMarketSalesDB\n",
        "# ---\n",
        "invoice_df = pd.read_csv('https://bit.ly/SuperMarketSalesDB')\n",
        "invoice_df.head()"
      ],
      "execution_count": null,
      "outputs": [
        {
          "output_type": "execute_result",
          "data": {
            "text/html": [
              "<div>\n",
              "<style scoped>\n",
              "    .dataframe tbody tr th:only-of-type {\n",
              "        vertical-align: middle;\n",
              "    }\n",
              "\n",
              "    .dataframe tbody tr th {\n",
              "        vertical-align: top;\n",
              "    }\n",
              "\n",
              "    .dataframe thead th {\n",
              "        text-align: right;\n",
              "    }\n",
              "</style>\n",
              "<table border=\"1\" class=\"dataframe\">\n",
              "  <thead>\n",
              "    <tr style=\"text-align: right;\">\n",
              "      <th></th>\n",
              "      <th>Invoice ID</th>\n",
              "      <th>Branch</th>\n",
              "      <th>City</th>\n",
              "      <th>Customer type</th>\n",
              "      <th>Gender</th>\n",
              "      <th>Product line</th>\n",
              "      <th>Unit price</th>\n",
              "      <th>Quantity</th>\n",
              "      <th>Tax 5%</th>\n",
              "      <th>Total</th>\n",
              "      <th>Date</th>\n",
              "      <th>Time</th>\n",
              "      <th>Payment</th>\n",
              "      <th>cogs</th>\n",
              "      <th>gross margin percentage</th>\n",
              "      <th>gross income</th>\n",
              "      <th>Rating</th>\n",
              "    </tr>\n",
              "  </thead>\n",
              "  <tbody>\n",
              "    <tr>\n",
              "      <th>0</th>\n",
              "      <td>750-67-8428</td>\n",
              "      <td>A</td>\n",
              "      <td>Yangon</td>\n",
              "      <td>Member</td>\n",
              "      <td>Female</td>\n",
              "      <td>Health and beauty</td>\n",
              "      <td>74.69</td>\n",
              "      <td>7</td>\n",
              "      <td>26.1415</td>\n",
              "      <td>548.9715</td>\n",
              "      <td>1/5/2019</td>\n",
              "      <td>13:08</td>\n",
              "      <td>Ewallet</td>\n",
              "      <td>522.83</td>\n",
              "      <td>4.761905</td>\n",
              "      <td>26.1415</td>\n",
              "      <td>9.1</td>\n",
              "    </tr>\n",
              "    <tr>\n",
              "      <th>1</th>\n",
              "      <td>226-31-3081</td>\n",
              "      <td>C</td>\n",
              "      <td>Naypyitaw</td>\n",
              "      <td>Normal</td>\n",
              "      <td>Female</td>\n",
              "      <td>Electronic accessories</td>\n",
              "      <td>15.28</td>\n",
              "      <td>5</td>\n",
              "      <td>3.8200</td>\n",
              "      <td>80.2200</td>\n",
              "      <td>3/8/2019</td>\n",
              "      <td>10:29</td>\n",
              "      <td>Cash</td>\n",
              "      <td>76.40</td>\n",
              "      <td>4.761905</td>\n",
              "      <td>3.8200</td>\n",
              "      <td>9.6</td>\n",
              "    </tr>\n",
              "    <tr>\n",
              "      <th>2</th>\n",
              "      <td>631-41-3108</td>\n",
              "      <td>A</td>\n",
              "      <td>Yangon</td>\n",
              "      <td>Normal</td>\n",
              "      <td>Male</td>\n",
              "      <td>Home and lifestyle</td>\n",
              "      <td>46.33</td>\n",
              "      <td>7</td>\n",
              "      <td>16.2155</td>\n",
              "      <td>340.5255</td>\n",
              "      <td>3/3/2019</td>\n",
              "      <td>13:23</td>\n",
              "      <td>Credit card</td>\n",
              "      <td>324.31</td>\n",
              "      <td>4.761905</td>\n",
              "      <td>16.2155</td>\n",
              "      <td>7.4</td>\n",
              "    </tr>\n",
              "    <tr>\n",
              "      <th>3</th>\n",
              "      <td>123-19-1176</td>\n",
              "      <td>A</td>\n",
              "      <td>Yangon</td>\n",
              "      <td>Member</td>\n",
              "      <td>Male</td>\n",
              "      <td>Health and beauty</td>\n",
              "      <td>58.22</td>\n",
              "      <td>8</td>\n",
              "      <td>23.2880</td>\n",
              "      <td>489.0480</td>\n",
              "      <td>1/27/2019</td>\n",
              "      <td>20:33</td>\n",
              "      <td>Ewallet</td>\n",
              "      <td>465.76</td>\n",
              "      <td>4.761905</td>\n",
              "      <td>23.2880</td>\n",
              "      <td>8.4</td>\n",
              "    </tr>\n",
              "    <tr>\n",
              "      <th>4</th>\n",
              "      <td>373-73-7910</td>\n",
              "      <td>A</td>\n",
              "      <td>Yangon</td>\n",
              "      <td>Normal</td>\n",
              "      <td>Male</td>\n",
              "      <td>Sports and travel</td>\n",
              "      <td>86.31</td>\n",
              "      <td>7</td>\n",
              "      <td>30.2085</td>\n",
              "      <td>634.3785</td>\n",
              "      <td>2/8/2019</td>\n",
              "      <td>10:37</td>\n",
              "      <td>Ewallet</td>\n",
              "      <td>604.17</td>\n",
              "      <td>4.761905</td>\n",
              "      <td>30.2085</td>\n",
              "      <td>5.3</td>\n",
              "    </tr>\n",
              "  </tbody>\n",
              "</table>\n",
              "</div>"
            ],
            "text/plain": [
              "    Invoice ID Branch       City  ... gross margin percentage gross income Rating\n",
              "0  750-67-8428      A     Yangon  ...                4.761905      26.1415    9.1\n",
              "1  226-31-3081      C  Naypyitaw  ...                4.761905       3.8200    9.6\n",
              "2  631-41-3108      A     Yangon  ...                4.761905      16.2155    7.4\n",
              "3  123-19-1176      A     Yangon  ...                4.761905      23.2880    8.4\n",
              "4  373-73-7910      A     Yangon  ...                4.761905      30.2085    5.3\n",
              "\n",
              "[5 rows x 17 columns]"
            ]
          },
          "metadata": {
            "tags": []
          },
          "execution_count": 11
        }
      ]
    },
    {
      "cell_type": "code",
      "metadata": {
        "id": "YQ47XAX67vRm",
        "colab": {
          "base_uri": "https://localhost:8080/",
          "height": 173
        },
        "outputId": "6cfee4da-18f3-4f43-8cad-e728c76af14d"
      },
      "source": [
        "# Challenge 1\n",
        "# ---\n",
        "# Question: What was the average tax per city?\n",
        "# ---\n",
        "# OUR CODE GOES BELOW \n",
        "# \n",
        "pd.pivot_table(invoice_df, index=['City'],aggfunc={'Tax 5%':np.mean})\n"
      ],
      "execution_count": null,
      "outputs": [
        {
          "output_type": "execute_result",
          "data": {
            "text/html": [
              "<div>\n",
              "<style scoped>\n",
              "    .dataframe tbody tr th:only-of-type {\n",
              "        vertical-align: middle;\n",
              "    }\n",
              "\n",
              "    .dataframe tbody tr th {\n",
              "        vertical-align: top;\n",
              "    }\n",
              "\n",
              "    .dataframe thead th {\n",
              "        text-align: right;\n",
              "    }\n",
              "</style>\n",
              "<table border=\"1\" class=\"dataframe\">\n",
              "  <thead>\n",
              "    <tr style=\"text-align: right;\">\n",
              "      <th></th>\n",
              "      <th>Tax 5%</th>\n",
              "    </tr>\n",
              "    <tr>\n",
              "      <th>City</th>\n",
              "      <th></th>\n",
              "    </tr>\n",
              "  </thead>\n",
              "  <tbody>\n",
              "    <tr>\n",
              "      <th>Mandalay</th>\n",
              "      <td>15.232024</td>\n",
              "    </tr>\n",
              "    <tr>\n",
              "      <th>Naypyitaw</th>\n",
              "      <td>16.052367</td>\n",
              "    </tr>\n",
              "    <tr>\n",
              "      <th>Yangon</th>\n",
              "      <td>14.874001</td>\n",
              "    </tr>\n",
              "  </tbody>\n",
              "</table>\n",
              "</div>"
            ],
            "text/plain": [
              "              Tax 5%\n",
              "City                \n",
              "Mandalay   15.232024\n",
              "Naypyitaw  16.052367\n",
              "Yangon     14.874001"
            ]
          },
          "metadata": {
            "tags": []
          },
          "execution_count": 14
        }
      ]
    },
    {
      "cell_type": "code",
      "metadata": {
        "id": "M54iMgRt7vRv",
        "colab": {
          "base_uri": "https://localhost:8080/"
        },
        "outputId": "0ba67fc6-0c64-4abc-a3ff-71743af22f89"
      },
      "source": [
        "# Challenge 2\n",
        "# ---\n",
        "# Question: How much did female members from the city of Yagon spend?\n",
        "# ---\n",
        "# OUR CODE GOES BELOW \n",
        "# \n",
        "Yangon_female_df = invoice_df[(invoice_df['City']=='Yangon')&(invoice_df['Gender']=='Female')]\n",
        "Yangon_female_df['Total'].sum()"
      ],
      "execution_count": null,
      "outputs": [
        {
          "output_type": "execute_result",
          "data": {
            "text/plain": [
              "53269.167"
            ]
          },
          "metadata": {
            "tags": []
          },
          "execution_count": 17
        }
      ]
    },
    {
      "cell_type": "code",
      "metadata": {
        "id": "n7ua8NHY7vSI",
        "colab": {
          "base_uri": "https://localhost:8080/",
          "height": 173
        },
        "outputId": "76a5c632-cd21-4f9c-f896-53301c6831e7"
      },
      "source": [
        "# Challenge 3\n",
        "# ---\n",
        "# Question: How much was spent across all cities?\n",
        "# ---\n",
        "# OUR CODE GOES BELOW \n",
        "# \n",
        "pd.pivot_table(invoice_df,index='City', aggfunc={'Total':sum})\n"
      ],
      "execution_count": null,
      "outputs": [
        {
          "output_type": "execute_result",
          "data": {
            "text/html": [
              "<div>\n",
              "<style scoped>\n",
              "    .dataframe tbody tr th:only-of-type {\n",
              "        vertical-align: middle;\n",
              "    }\n",
              "\n",
              "    .dataframe tbody tr th {\n",
              "        vertical-align: top;\n",
              "    }\n",
              "\n",
              "    .dataframe thead th {\n",
              "        text-align: right;\n",
              "    }\n",
              "</style>\n",
              "<table border=\"1\" class=\"dataframe\">\n",
              "  <thead>\n",
              "    <tr style=\"text-align: right;\">\n",
              "      <th></th>\n",
              "      <th>Total</th>\n",
              "    </tr>\n",
              "    <tr>\n",
              "      <th>City</th>\n",
              "      <th></th>\n",
              "    </tr>\n",
              "  </thead>\n",
              "  <tbody>\n",
              "    <tr>\n",
              "      <th>Mandalay</th>\n",
              "      <td>106197.6720</td>\n",
              "    </tr>\n",
              "    <tr>\n",
              "      <th>Naypyitaw</th>\n",
              "      <td>110568.7065</td>\n",
              "    </tr>\n",
              "    <tr>\n",
              "      <th>Yangon</th>\n",
              "      <td>106200.3705</td>\n",
              "    </tr>\n",
              "  </tbody>\n",
              "</table>\n",
              "</div>"
            ],
            "text/plain": [
              "                 Total\n",
              "City                  \n",
              "Mandalay   106197.6720\n",
              "Naypyitaw  110568.7065\n",
              "Yangon     106200.3705"
            ]
          },
          "metadata": {
            "tags": []
          },
          "execution_count": 21
        }
      ]
    },
    {
      "cell_type": "code",
      "metadata": {
        "id": "F4Cdnyqb7vSN",
        "colab": {
          "base_uri": "https://localhost:8080/",
          "height": 173
        },
        "outputId": "8aeb0c59-9c51-48ae-dc32-0a7f035c2e31"
      },
      "source": [
        "# Challenge 4\n",
        "# ---\n",
        "# Question: What was the sum of goods sold across all branches?\n",
        "# ---\n",
        "# OUR CODE GOES BELOW \n",
        "# \n",
        "pd.pivot_table(invoice_df,index='Branch',aggfunc={'Quantity':sum})"
      ],
      "execution_count": null,
      "outputs": [
        {
          "output_type": "execute_result",
          "data": {
            "text/html": [
              "<div>\n",
              "<style scoped>\n",
              "    .dataframe tbody tr th:only-of-type {\n",
              "        vertical-align: middle;\n",
              "    }\n",
              "\n",
              "    .dataframe tbody tr th {\n",
              "        vertical-align: top;\n",
              "    }\n",
              "\n",
              "    .dataframe thead th {\n",
              "        text-align: right;\n",
              "    }\n",
              "</style>\n",
              "<table border=\"1\" class=\"dataframe\">\n",
              "  <thead>\n",
              "    <tr style=\"text-align: right;\">\n",
              "      <th></th>\n",
              "      <th>Quantity</th>\n",
              "    </tr>\n",
              "    <tr>\n",
              "      <th>Branch</th>\n",
              "      <th></th>\n",
              "    </tr>\n",
              "  </thead>\n",
              "  <tbody>\n",
              "    <tr>\n",
              "      <th>A</th>\n",
              "      <td>1859</td>\n",
              "    </tr>\n",
              "    <tr>\n",
              "      <th>B</th>\n",
              "      <td>1820</td>\n",
              "    </tr>\n",
              "    <tr>\n",
              "      <th>C</th>\n",
              "      <td>1831</td>\n",
              "    </tr>\n",
              "  </tbody>\n",
              "</table>\n",
              "</div>"
            ],
            "text/plain": [
              "        Quantity\n",
              "Branch          \n",
              "A           1859\n",
              "B           1820\n",
              "C           1831"
            ]
          },
          "metadata": {
            "tags": []
          },
          "execution_count": 24
        }
      ]
    },
    {
      "cell_type": "code",
      "metadata": {
        "id": "BiqXSy4Q7vSS",
        "colab": {
          "base_uri": "https://localhost:8080/",
          "height": 173
        },
        "outputId": "8caa2de5-0e4b-4c08-fbf6-f16fb7cb19fe"
      },
      "source": [
        "# Challenge 5\n",
        "# ---\n",
        "# Question: Which branches collected the most amount of money? \n",
        "# ---\n",
        "# OUR CODE GOES BELOW \n",
        "#\n",
        "\n",
        "pd.pivot_table(invoice_df,index='Branch',aggfunc={'Total':sum})\n"
      ],
      "execution_count": null,
      "outputs": [
        {
          "output_type": "execute_result",
          "data": {
            "text/html": [
              "<div>\n",
              "<style scoped>\n",
              "    .dataframe tbody tr th:only-of-type {\n",
              "        vertical-align: middle;\n",
              "    }\n",
              "\n",
              "    .dataframe tbody tr th {\n",
              "        vertical-align: top;\n",
              "    }\n",
              "\n",
              "    .dataframe thead th {\n",
              "        text-align: right;\n",
              "    }\n",
              "</style>\n",
              "<table border=\"1\" class=\"dataframe\">\n",
              "  <thead>\n",
              "    <tr style=\"text-align: right;\">\n",
              "      <th></th>\n",
              "      <th>Total</th>\n",
              "    </tr>\n",
              "    <tr>\n",
              "      <th>Branch</th>\n",
              "      <th></th>\n",
              "    </tr>\n",
              "  </thead>\n",
              "  <tbody>\n",
              "    <tr>\n",
              "      <th>A</th>\n",
              "      <td>106200.3705</td>\n",
              "    </tr>\n",
              "    <tr>\n",
              "      <th>B</th>\n",
              "      <td>106197.6720</td>\n",
              "    </tr>\n",
              "    <tr>\n",
              "      <th>C</th>\n",
              "      <td>110568.7065</td>\n",
              "    </tr>\n",
              "  </tbody>\n",
              "</table>\n",
              "</div>"
            ],
            "text/plain": [
              "              Total\n",
              "Branch             \n",
              "A       106200.3705\n",
              "B       106197.6720\n",
              "C       110568.7065"
            ]
          },
          "metadata": {
            "tags": []
          },
          "execution_count": 26
        }
      ]
    },
    {
      "cell_type": "code",
      "metadata": {
        "id": "PXKJv3tW7vSY",
        "colab": {
          "base_uri": "https://localhost:8080/",
          "height": 173
        },
        "outputId": "4a945fed-c820-4153-d062-e6fd965c1b42"
      },
      "source": [
        "# Challenge 6\n",
        "# ---\n",
        "# Question: Which were the top rated branches?\n",
        "# ---\n",
        "# OUR CODE GOES BELOW \n",
        "# \n",
        "pd.pivot_table(invoice_df,index=['Branch'],aggfunc={'Rating':np.mean})"
      ],
      "execution_count": null,
      "outputs": [
        {
          "output_type": "execute_result",
          "data": {
            "text/html": [
              "<div>\n",
              "<style scoped>\n",
              "    .dataframe tbody tr th:only-of-type {\n",
              "        vertical-align: middle;\n",
              "    }\n",
              "\n",
              "    .dataframe tbody tr th {\n",
              "        vertical-align: top;\n",
              "    }\n",
              "\n",
              "    .dataframe thead th {\n",
              "        text-align: right;\n",
              "    }\n",
              "</style>\n",
              "<table border=\"1\" class=\"dataframe\">\n",
              "  <thead>\n",
              "    <tr style=\"text-align: right;\">\n",
              "      <th></th>\n",
              "      <th>Rating</th>\n",
              "    </tr>\n",
              "    <tr>\n",
              "      <th>Branch</th>\n",
              "      <th></th>\n",
              "    </tr>\n",
              "  </thead>\n",
              "  <tbody>\n",
              "    <tr>\n",
              "      <th>A</th>\n",
              "      <td>7.027059</td>\n",
              "    </tr>\n",
              "    <tr>\n",
              "      <th>B</th>\n",
              "      <td>6.818072</td>\n",
              "    </tr>\n",
              "    <tr>\n",
              "      <th>C</th>\n",
              "      <td>7.072866</td>\n",
              "    </tr>\n",
              "  </tbody>\n",
              "</table>\n",
              "</div>"
            ],
            "text/plain": [
              "          Rating\n",
              "Branch          \n",
              "A       7.027059\n",
              "B       6.818072\n",
              "C       7.072866"
            ]
          },
          "metadata": {
            "tags": []
          },
          "execution_count": 30
        }
      ]
    },
    {
      "cell_type": "code",
      "metadata": {
        "id": "0MF7tVGR7vSd",
        "colab": {
          "base_uri": "https://localhost:8080/",
          "height": 173
        },
        "outputId": "5a248645-fac1-40cf-e503-50f6f8a54e9f"
      },
      "source": [
        "# Challenge 7\n",
        "# ---\n",
        "# Question: Make a comparison between non-members who made cash payments and credit card payments.\n",
        "# ---\n",
        "# OUR CODE GOES BELOW \n",
        "# \n",
        "\n",
        "payment_df = invoice_df[(invoice_df['Payment']=='Cash') | (invoice_df['Payment']=='Credit card') ]\n",
        "Normal_df = payment_df[payment_df['Customer type']=='Normal']\n",
        "pd.pivot_table(Normal_df,index=['Payment'],aggfunc={'Total':'describe'})\n",
        "\n"
      ],
      "execution_count": null,
      "outputs": [
        {
          "output_type": "execute_result",
          "data": {
            "text/html": [
              "<div>\n",
              "<style scoped>\n",
              "    .dataframe tbody tr th:only-of-type {\n",
              "        vertical-align: middle;\n",
              "    }\n",
              "\n",
              "    .dataframe tbody tr th {\n",
              "        vertical-align: top;\n",
              "    }\n",
              "\n",
              "    .dataframe thead tr th {\n",
              "        text-align: left;\n",
              "    }\n",
              "\n",
              "    .dataframe thead tr:last-of-type th {\n",
              "        text-align: right;\n",
              "    }\n",
              "</style>\n",
              "<table border=\"1\" class=\"dataframe\">\n",
              "  <thead>\n",
              "    <tr>\n",
              "      <th></th>\n",
              "      <th colspan=\"8\" halign=\"left\">Total</th>\n",
              "    </tr>\n",
              "    <tr>\n",
              "      <th></th>\n",
              "      <th>25%</th>\n",
              "      <th>50%</th>\n",
              "      <th>75%</th>\n",
              "      <th>count</th>\n",
              "      <th>max</th>\n",
              "      <th>mean</th>\n",
              "      <th>min</th>\n",
              "      <th>std</th>\n",
              "    </tr>\n",
              "    <tr>\n",
              "      <th>Payment</th>\n",
              "      <th></th>\n",
              "      <th></th>\n",
              "      <th></th>\n",
              "      <th></th>\n",
              "      <th></th>\n",
              "      <th></th>\n",
              "      <th></th>\n",
              "      <th></th>\n",
              "    </tr>\n",
              "  </thead>\n",
              "  <tbody>\n",
              "    <tr>\n",
              "      <th>Cash</th>\n",
              "      <td>139.95450</td>\n",
              "      <td>270.2595</td>\n",
              "      <td>469.99575</td>\n",
              "      <td>176.0</td>\n",
              "      <td>1003.59</td>\n",
              "      <td>326.963378</td>\n",
              "      <td>16.1070</td>\n",
              "      <td>235.286695</td>\n",
              "    </tr>\n",
              "    <tr>\n",
              "      <th>Credit card</th>\n",
              "      <td>105.63525</td>\n",
              "      <td>202.8180</td>\n",
              "      <td>454.23525</td>\n",
              "      <td>139.0</td>\n",
              "      <td>1039.29</td>\n",
              "      <td>309.320860</td>\n",
              "      <td>12.6945</td>\n",
              "      <td>266.865625</td>\n",
              "    </tr>\n",
              "  </tbody>\n",
              "</table>\n",
              "</div>"
            ],
            "text/plain": [
              "                 Total                       ...                                 \n",
              "                   25%       50%        75%  ...        mean      min         std\n",
              "Payment                                      ...                                 \n",
              "Cash         139.95450  270.2595  469.99575  ...  326.963378  16.1070  235.286695\n",
              "Credit card  105.63525  202.8180  454.23525  ...  309.320860  12.6945  266.865625\n",
              "\n",
              "[2 rows x 8 columns]"
            ]
          },
          "metadata": {
            "tags": []
          },
          "execution_count": 39
        }
      ]
    },
    {
      "cell_type": "code",
      "metadata": {
        "id": "v_YYoGhh7vSj",
        "colab": {
          "base_uri": "https://localhost:8080/"
        },
        "outputId": "3410b076-f2bc-4556-cb2f-1cab68464508"
      },
      "source": [
        "# Challenge 8\n",
        "# ---\n",
        "# Question: Show the products line that sold the most indicating the rating.\n",
        "# ---\n",
        "# OUR CODE GOES BELOW \n",
        "# \n",
        "invoice_df['Product line'].value_counts()"
      ],
      "execution_count": null,
      "outputs": [
        {
          "output_type": "execute_result",
          "data": {
            "text/plain": [
              "Fashion accessories       178\n",
              "Food and beverages        174\n",
              "Electronic accessories    170\n",
              "Sports and travel         166\n",
              "Home and lifestyle        160\n",
              "Health and beauty         152\n",
              "Name: Product line, dtype: int64"
            ]
          },
          "metadata": {
            "tags": []
          },
          "execution_count": 46
        }
      ]
    }
  ]
}